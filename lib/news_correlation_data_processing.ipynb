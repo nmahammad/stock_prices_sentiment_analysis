{
 "cells": [
  {
   "cell_type": "code",
   "execution_count": 2,
   "metadata": {},
   "outputs": [],
   "source": [
    "from pyspark.sql import SparkSession\n"
   ]
  },
  {
   "cell_type": "code",
   "execution_count": 3,
   "metadata": {},
   "outputs": [],
   "source": [
    "spark = SparkSession.builder.getOrCreate()\n"
   ]
  },
  {
   "cell_type": "code",
   "execution_count": 4,
   "metadata": {},
   "outputs": [],
   "source": [
    "import os\n",
    "import pandas as pd\n",
    "from datetime import datetime, timedelta\n"
   ]
  },
  {
   "cell_type": "code",
   "execution_count": 28,
   "metadata": {},
   "outputs": [
    {
     "data": {
      "text/html": [
       "<div>\n",
       "<style scoped>\n",
       "    .dataframe tbody tr th:only-of-type {\n",
       "        vertical-align: middle;\n",
       "    }\n",
       "\n",
       "    .dataframe tbody tr th {\n",
       "        vertical-align: top;\n",
       "    }\n",
       "\n",
       "    .dataframe thead th {\n",
       "        text-align: right;\n",
       "    }\n",
       "</style>\n",
       "<table border=\"1\" class=\"dataframe\">\n",
       "  <thead>\n",
       "    <tr style=\"text-align: right;\">\n",
       "      <th></th>\n",
       "      <th>Date</th>\n",
       "      <th>Open</th>\n",
       "      <th>High</th>\n",
       "      <th>Low</th>\n",
       "      <th>Close</th>\n",
       "      <th>Adj Close</th>\n",
       "      <th>Volume</th>\n",
       "    </tr>\n",
       "  </thead>\n",
       "  <tbody>\n",
       "    <tr>\n",
       "      <th>0</th>\n",
       "      <td>2023-05-11</td>\n",
       "      <td>9.14</td>\n",
       "      <td>9.18</td>\n",
       "      <td>9.090</td>\n",
       "      <td>9.15</td>\n",
       "      <td>9.15</td>\n",
       "      <td>293900</td>\n",
       "    </tr>\n",
       "    <tr>\n",
       "      <th>1</th>\n",
       "      <td>2023-05-12</td>\n",
       "      <td>9.18</td>\n",
       "      <td>9.18</td>\n",
       "      <td>8.985</td>\n",
       "      <td>9.06</td>\n",
       "      <td>9.06</td>\n",
       "      <td>322100</td>\n",
       "    </tr>\n",
       "    <tr>\n",
       "      <th>2</th>\n",
       "      <td>2023-05-15</td>\n",
       "      <td>9.12</td>\n",
       "      <td>9.22</td>\n",
       "      <td>9.040</td>\n",
       "      <td>9.22</td>\n",
       "      <td>9.22</td>\n",
       "      <td>460300</td>\n",
       "    </tr>\n",
       "    <tr>\n",
       "      <th>3</th>\n",
       "      <td>2023-05-16</td>\n",
       "      <td>9.14</td>\n",
       "      <td>9.20</td>\n",
       "      <td>9.115</td>\n",
       "      <td>9.15</td>\n",
       "      <td>9.15</td>\n",
       "      <td>169100</td>\n",
       "    </tr>\n",
       "    <tr>\n",
       "      <th>4</th>\n",
       "      <td>2023-05-17</td>\n",
       "      <td>9.18</td>\n",
       "      <td>9.38</td>\n",
       "      <td>9.180</td>\n",
       "      <td>9.36</td>\n",
       "      <td>9.36</td>\n",
       "      <td>267800</td>\n",
       "    </tr>\n",
       "  </tbody>\n",
       "</table>\n",
       "</div>"
      ],
      "text/plain": [
       "        Date  Open  High    Low  Close  Adj Close  Volume\n",
       "0 2023-05-11  9.14  9.18  9.090   9.15       9.15  293900\n",
       "1 2023-05-12  9.18  9.18  8.985   9.06       9.06  322100\n",
       "2 2023-05-15  9.12  9.22  9.040   9.22       9.22  460300\n",
       "3 2023-05-16  9.14  9.20  9.115   9.15       9.15  169100\n",
       "4 2023-05-17  9.18  9.38  9.180   9.36       9.36  267800"
      ]
     },
     "execution_count": 28,
     "metadata": {},
     "output_type": "execute_result"
    }
   ],
   "source": [
    "parent_dir = os.path.dirname(os.getcwd())\n",
    "metv_path = os.path.join(parent_dir, \"data\", \"raw\", \"metv_monthly.json\")\n",
    "\n",
    "df_metv = pd.read_json(metv_path)\n",
    "df_metv['Date'] = pd.to_datetime(df_metv['Date'])\n",
    "df_metv.head()"
   ]
  },
  {
   "cell_type": "markdown",
   "metadata": {},
   "source": [
    "**Processing news data**"
   ]
  },
  {
   "cell_type": "code",
   "execution_count": 52,
   "metadata": {},
   "outputs": [],
   "source": [
    "news_path = os.path.join(parent_dir, \"data\", \"raw\", \"news.json\")\n",
    "df_news = pd.read_json(news_path)\n",
    "df_news['publish_date'] = pd.to_datetime(df_news['publish_date'])\n",
    "df_news['Date'] = df_news['publish_date'].dt.strftime('%Y-%m-%d')\n"
   ]
  },
  {
   "cell_type": "code",
   "execution_count": 53,
   "metadata": {},
   "outputs": [],
   "source": [
    "# Convert the 'Date' column in both dataframes to datetime\n",
    "df_news['Date'] = pd.to_datetime(df_news['Date'])\n",
    "df_metv['Date'] = pd.to_datetime(df_metv['Date'])\n",
    "\n",
    "combined_df = pd.merge(df_news, df_metv, on='Date', how='outer')\n",
    "\n",
    "# Sort the dataframe by 'Date' column\n",
    "combined_df = combined_df.sort_values('Date')\n",
    "\n",
    "# Reset the index of the combined dataframe\n",
    "combined_df = combined_df.reset_index(drop=True)\n",
    "combined_df.dropna(inplace=True)\n",
    "\n",
    "#Create the final text for implementing NLP\n",
    "combined_df[\"summary\"] = combined_df[\"title\"] + \" \" + combined_df[\"description\"] + \" \" + combined_df[\"content\"]"
   ]
  },
  {
   "cell_type": "code",
   "execution_count": 58,
   "metadata": {},
   "outputs": [],
   "source": [
    "df_news = combined_df.copy()"
   ]
  },
  {
   "cell_type": "markdown",
   "metadata": {},
   "source": [
    "Applying the classifier model"
   ]
  },
  {
   "cell_type": "code",
   "execution_count": 59,
   "metadata": {},
   "outputs": [],
   "source": [
    "import flair\n",
    "\n",
    "# Load the sentiment classifier\n",
    "classifier = flair.models.TextClassifier.load('en-sentiment')\n",
    "\n",
    "# Define a function for sentiment analysis\n",
    "def sentiment_analysis(text):\n",
    "    sentence = flair.data.Sentence(text)\n",
    "    classifier.predict(sentence)\n",
    "    label = sentence.labels[0].value\n",
    "    score = sentence.labels[0].score\n",
    "    return label, score\n"
   ]
  },
  {
   "cell_type": "code",
   "execution_count": 60,
   "metadata": {},
   "outputs": [],
   "source": [
    "# Convert DataFrame to dictionary\n",
    "data_dict = df_news['summary'].to_dict()"
   ]
  },
  {
   "cell_type": "code",
   "execution_count": 61,
   "metadata": {},
   "outputs": [],
   "source": [
    "# Apply sentiment analysis to the dictionary\n",
    "sentiment_results = {key: sentiment_analysis(value) for key, value in data_dict.items()}"
   ]
  },
  {
   "cell_type": "code",
   "execution_count": 62,
   "metadata": {},
   "outputs": [],
   "source": [
    "# Convert sentiment results dictionary to DataFrame\n",
    "sentiment_df = pd.DataFrame.from_dict(sentiment_results, orient='index', columns=['label', 'score'])\n",
    "\n",
    "# Merge sentiment results DataFrame with the original DataFrame\n",
    "df_news = pd.concat([df_news, sentiment_df], axis=1)"
   ]
  },
  {
   "cell_type": "code",
   "execution_count": 70,
   "metadata": {},
   "outputs": [
    {
     "data": {
      "text/html": [
       "<div>\n",
       "<style scoped>\n",
       "    .dataframe tbody tr th:only-of-type {\n",
       "        vertical-align: middle;\n",
       "    }\n",
       "\n",
       "    .dataframe tbody tr th {\n",
       "        vertical-align: top;\n",
       "    }\n",
       "\n",
       "    .dataframe thead th {\n",
       "        text-align: right;\n",
       "    }\n",
       "</style>\n",
       "<table border=\"1\" class=\"dataframe\">\n",
       "  <thead>\n",
       "    <tr style=\"text-align: right;\">\n",
       "      <th></th>\n",
       "      <th>Date</th>\n",
       "      <th>Adj Close</th>\n",
       "      <th>Volume</th>\n",
       "      <th>label</th>\n",
       "      <th>score</th>\n",
       "    </tr>\n",
       "  </thead>\n",
       "  <tbody>\n",
       "    <tr>\n",
       "      <th>0</th>\n",
       "      <td>2023-05-11</td>\n",
       "      <td>9.15</td>\n",
       "      <td>293900.0</td>\n",
       "      <td>NEGATIVE</td>\n",
       "      <td>-0.999829</td>\n",
       "    </tr>\n",
       "    <tr>\n",
       "      <th>1</th>\n",
       "      <td>2023-05-11</td>\n",
       "      <td>9.15</td>\n",
       "      <td>293900.0</td>\n",
       "      <td>POSITIVE</td>\n",
       "      <td>0.975447</td>\n",
       "    </tr>\n",
       "    <tr>\n",
       "      <th>2</th>\n",
       "      <td>2023-05-11</td>\n",
       "      <td>9.15</td>\n",
       "      <td>293900.0</td>\n",
       "      <td>POSITIVE</td>\n",
       "      <td>0.994877</td>\n",
       "    </tr>\n",
       "    <tr>\n",
       "      <th>3</th>\n",
       "      <td>2023-05-11</td>\n",
       "      <td>9.15</td>\n",
       "      <td>293900.0</td>\n",
       "      <td>NEGATIVE</td>\n",
       "      <td>-0.777512</td>\n",
       "    </tr>\n",
       "    <tr>\n",
       "      <th>4</th>\n",
       "      <td>2023-05-11</td>\n",
       "      <td>9.15</td>\n",
       "      <td>293900.0</td>\n",
       "      <td>NEGATIVE</td>\n",
       "      <td>-0.841667</td>\n",
       "    </tr>\n",
       "  </tbody>\n",
       "</table>\n",
       "</div>"
      ],
      "text/plain": [
       "        Date  Adj Close    Volume     label     score\n",
       "0 2023-05-11       9.15  293900.0  NEGATIVE -0.999829\n",
       "1 2023-05-11       9.15  293900.0  POSITIVE  0.975447\n",
       "2 2023-05-11       9.15  293900.0  POSITIVE  0.994877\n",
       "3 2023-05-11       9.15  293900.0  NEGATIVE -0.777512\n",
       "4 2023-05-11       9.15  293900.0  NEGATIVE -0.841667"
      ]
     },
     "execution_count": 70,
     "metadata": {},
     "output_type": "execute_result"
    }
   ],
   "source": [
    "columns_to_drop = [\"title\", \"description\", \"content\", \"publish_date\", \"Open\", \"High\", \"Low\", \"Close\", \"summary\"]\n",
    "df_news.drop(columns=columns_to_drop, inplace=True)\n",
    "df_news['score'] = df_news.apply(lambda row: row['score'] * -1 if row['label'] == 'NEGATIVE' else row['score'], axis=1)\n",
    "df_news.head()"
   ]
  },
  {
   "cell_type": "code",
   "execution_count": 74,
   "metadata": {},
   "outputs": [],
   "source": [
    "# Calculate average score for each date in df_news\n",
    "df_news_avg_scores = df_news.groupby('Date')['score'].mean().reset_index()\n",
    "\n",
    "# Merge df_news_avg_scores with df_metv based on 'Date'\n",
    "merged_df = df_news_avg_scores.merge(df_metv[['Date', 'Adj Close', 'Volume']], on='Date', how='inner')\n",
    "\n",
    "# Display the resulting DataFrame with selected columns\n",
    "result_df = merged_df[['Date', 'Adj Close', 'Volume', 'score']]\n",
    "result_df['score'] = result_df['score'] + 10"
   ]
  },
  {
   "cell_type": "code",
   "execution_count": 81,
   "metadata": {},
   "outputs": [],
   "source": [
    "current_file_path = os.getcwd()\n",
    "parent_folder_path = os.path.dirname(os.path.dirname(current_file_path))\n",
    "output_directory = os.path.join(parent_folder_path, 'big_data_project', \"data\", \"processed\")\n",
    "\n",
    "monthly_data_output = os.path.join(output_directory, \"processed_monthly_data.csv\")\n",
    "result_df.to_csv(monthly_data_output, index=False)"
   ]
  },
  {
   "cell_type": "code",
   "execution_count": null,
   "metadata": {},
   "outputs": [],
   "source": []
  },
  {
   "cell_type": "code",
   "execution_count": null,
   "metadata": {},
   "outputs": [],
   "source": []
  },
  {
   "cell_type": "code",
   "execution_count": null,
   "metadata": {},
   "outputs": [],
   "source": []
  },
  {
   "cell_type": "code",
   "execution_count": null,
   "metadata": {},
   "outputs": [],
   "source": []
  },
  {
   "cell_type": "code",
   "execution_count": 71,
   "metadata": {},
   "outputs": [],
   "source": [
    "# fig2 = go.Figure(data=go.Scatter(x=df_moving_avg_news['date'], y=df_moving_avg_news['moving_avg_score'], mode='lines'))\n",
    "\n",
    "# fig2.update_layout(\n",
    "#     xaxis_title='Date',\n",
    "#     yaxis_title='Score',\n",
    "#     title='Score vs. Date',\n",
    "#     xaxis=dict(\n",
    "#         tickmode='linear',\n",
    "#         dtick='D1',  # Set the tick frequency to one day (D1)\n",
    "#     )\n",
    "# )\n",
    "\n",
    "# fig2.show()"
   ]
  },
  {
   "cell_type": "code",
   "execution_count": 72,
   "metadata": {},
   "outputs": [],
   "source": [
    "# # Create the first scatter trace\n",
    "# trace1 = go.Scatter(\n",
    "#     x=df_moving_avg_stock['date'],\n",
    "#     y=df_moving_avg_stock['moving_avg_price'],\n",
    "#     mode='lines',\n",
    "#     name='Adj Close'\n",
    "# )\n",
    "\n",
    "# # Create the second scatter trace with a secondary y-axis\n",
    "# trace2 = go.Scatter(\n",
    "#     x=df_moving_avg_news['date'],\n",
    "#     y=df_moving_avg_news['moving_avg_score'],\n",
    "#     mode='lines',\n",
    "#     name='Score',\n",
    "#     yaxis='y2'\n",
    "# )\n",
    "\n",
    "# # Define the layout\n",
    "# layout = go.Layout(\n",
    "#     title='Adj Close and Score Comparison',\n",
    "#     xaxis=dict(title='Date'),\n",
    "#     yaxis=dict(title='Adj Close'),\n",
    "#     yaxis2=dict(\n",
    "#         title='Score',\n",
    "#         overlaying='y',\n",
    "#         side='right'\n",
    "#     )\n",
    "# )\n",
    "\n",
    "# # Create the figure\n",
    "# fig = go.Figure(data=[trace1, trace2], layout=layout)\n",
    "\n",
    "# # Display the figure\n",
    "# fig.show()\n"
   ]
  }
 ],
 "metadata": {
  "kernelspec": {
   "display_name": "Python 3 (ipykernel)",
   "language": "python",
   "name": "python3"
  },
  "language_info": {
   "codemirror_mode": {
    "name": "ipython",
    "version": 3
   },
   "file_extension": ".py",
   "mimetype": "text/x-python",
   "name": "python",
   "nbconvert_exporter": "python",
   "pygments_lexer": "ipython3",
   "version": "3.9.12"
  }
 },
 "nbformat": 4,
 "nbformat_minor": 2
}
