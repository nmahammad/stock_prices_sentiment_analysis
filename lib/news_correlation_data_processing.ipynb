{
 "cells": [
  {
   "cell_type": "code",
   "execution_count": 1,
   "metadata": {},
   "outputs": [],
   "source": [
    "from pyspark.sql import SparkSession\n"
   ]
  },
  {
   "cell_type": "code",
   "execution_count": 2,
   "metadata": {},
   "outputs": [],
   "source": [
    "spark = SparkSession.builder.getOrCreate()\n"
   ]
  },
  {
   "cell_type": "code",
   "execution_count": 1,
   "metadata": {},
   "outputs": [],
   "source": [
    "import os\n",
    "import pandas as pd\n",
    "import plotly.graph_objects as go\n",
    "from datetime import datetime, timedelta\n"
   ]
  },
  {
   "cell_type": "code",
   "execution_count": 59,
   "metadata": {},
   "outputs": [
    {
     "data": {
      "text/html": [
       "<div>\n",
       "<style scoped>\n",
       "    .dataframe tbody tr th:only-of-type {\n",
       "        vertical-align: middle;\n",
       "    }\n",
       "\n",
       "    .dataframe tbody tr th {\n",
       "        vertical-align: top;\n",
       "    }\n",
       "\n",
       "    .dataframe thead th {\n",
       "        text-align: right;\n",
       "    }\n",
       "</style>\n",
       "<table border=\"1\" class=\"dataframe\">\n",
       "  <thead>\n",
       "    <tr style=\"text-align: right;\">\n",
       "      <th></th>\n",
       "      <th>Datetime</th>\n",
       "      <th>Open</th>\n",
       "      <th>High</th>\n",
       "      <th>Low</th>\n",
       "      <th>Close</th>\n",
       "      <th>Adj Close</th>\n",
       "      <th>Volume</th>\n",
       "    </tr>\n",
       "  </thead>\n",
       "  <tbody>\n",
       "    <tr>\n",
       "      <th>0</th>\n",
       "      <td>2023-05-10 18:30:00+00:00</td>\n",
       "      <td>9.0855</td>\n",
       "      <td>9.1450</td>\n",
       "      <td>9.0855</td>\n",
       "      <td>9.1450</td>\n",
       "      <td>9.1450</td>\n",
       "      <td>0</td>\n",
       "    </tr>\n",
       "    <tr>\n",
       "      <th>1</th>\n",
       "      <td>2023-05-10 19:30:00+00:00</td>\n",
       "      <td>9.1400</td>\n",
       "      <td>9.1450</td>\n",
       "      <td>9.1100</td>\n",
       "      <td>9.1100</td>\n",
       "      <td>9.1100</td>\n",
       "      <td>17447</td>\n",
       "    </tr>\n",
       "    <tr>\n",
       "      <th>2</th>\n",
       "      <td>2023-05-11 13:30:00+00:00</td>\n",
       "      <td>9.1400</td>\n",
       "      <td>9.1600</td>\n",
       "      <td>9.1135</td>\n",
       "      <td>9.1385</td>\n",
       "      <td>9.1385</td>\n",
       "      <td>194728</td>\n",
       "    </tr>\n",
       "    <tr>\n",
       "      <th>3</th>\n",
       "      <td>2023-05-11 14:30:00+00:00</td>\n",
       "      <td>9.1200</td>\n",
       "      <td>9.1400</td>\n",
       "      <td>9.0900</td>\n",
       "      <td>9.1201</td>\n",
       "      <td>9.1201</td>\n",
       "      <td>58655</td>\n",
       "    </tr>\n",
       "    <tr>\n",
       "      <th>4</th>\n",
       "      <td>2023-05-11 15:30:00+00:00</td>\n",
       "      <td>9.1400</td>\n",
       "      <td>9.1650</td>\n",
       "      <td>9.1400</td>\n",
       "      <td>9.1599</td>\n",
       "      <td>9.1599</td>\n",
       "      <td>15837</td>\n",
       "    </tr>\n",
       "    <tr>\n",
       "      <th>...</th>\n",
       "      <td>...</td>\n",
       "      <td>...</td>\n",
       "      <td>...</td>\n",
       "      <td>...</td>\n",
       "      <td>...</td>\n",
       "      <td>...</td>\n",
       "      <td>...</td>\n",
       "    </tr>\n",
       "    <tr>\n",
       "      <th>137</th>\n",
       "      <td>2023-06-08 15:30:00+00:00</td>\n",
       "      <td>9.9600</td>\n",
       "      <td>9.9850</td>\n",
       "      <td>9.9521</td>\n",
       "      <td>9.9850</td>\n",
       "      <td>9.9850</td>\n",
       "      <td>11841</td>\n",
       "    </tr>\n",
       "    <tr>\n",
       "      <th>138</th>\n",
       "      <td>2023-06-08 16:30:00+00:00</td>\n",
       "      <td>9.9850</td>\n",
       "      <td>9.9850</td>\n",
       "      <td>9.9458</td>\n",
       "      <td>9.9550</td>\n",
       "      <td>9.9550</td>\n",
       "      <td>21325</td>\n",
       "    </tr>\n",
       "    <tr>\n",
       "      <th>139</th>\n",
       "      <td>2023-06-08 17:30:00+00:00</td>\n",
       "      <td>9.9500</td>\n",
       "      <td>9.9550</td>\n",
       "      <td>9.9200</td>\n",
       "      <td>9.9478</td>\n",
       "      <td>9.9478</td>\n",
       "      <td>20112</td>\n",
       "    </tr>\n",
       "    <tr>\n",
       "      <th>140</th>\n",
       "      <td>2023-06-08 18:30:00+00:00</td>\n",
       "      <td>9.9550</td>\n",
       "      <td>9.9791</td>\n",
       "      <td>9.9550</td>\n",
       "      <td>9.9650</td>\n",
       "      <td>9.9650</td>\n",
       "      <td>17740</td>\n",
       "    </tr>\n",
       "    <tr>\n",
       "      <th>141</th>\n",
       "      <td>2023-06-08 19:30:00+00:00</td>\n",
       "      <td>9.9696</td>\n",
       "      <td>9.9700</td>\n",
       "      <td>9.9600</td>\n",
       "      <td>9.9600</td>\n",
       "      <td>9.9600</td>\n",
       "      <td>14736</td>\n",
       "    </tr>\n",
       "  </tbody>\n",
       "</table>\n",
       "<p>142 rows × 7 columns</p>\n",
       "</div>"
      ],
      "text/plain": [
       "                     Datetime    Open    High     Low   Close  Adj Close  \\\n",
       "0   2023-05-10 18:30:00+00:00  9.0855  9.1450  9.0855  9.1450     9.1450   \n",
       "1   2023-05-10 19:30:00+00:00  9.1400  9.1450  9.1100  9.1100     9.1100   \n",
       "2   2023-05-11 13:30:00+00:00  9.1400  9.1600  9.1135  9.1385     9.1385   \n",
       "3   2023-05-11 14:30:00+00:00  9.1200  9.1400  9.0900  9.1201     9.1201   \n",
       "4   2023-05-11 15:30:00+00:00  9.1400  9.1650  9.1400  9.1599     9.1599   \n",
       "..                        ...     ...     ...     ...     ...        ...   \n",
       "137 2023-06-08 15:30:00+00:00  9.9600  9.9850  9.9521  9.9850     9.9850   \n",
       "138 2023-06-08 16:30:00+00:00  9.9850  9.9850  9.9458  9.9550     9.9550   \n",
       "139 2023-06-08 17:30:00+00:00  9.9500  9.9550  9.9200  9.9478     9.9478   \n",
       "140 2023-06-08 18:30:00+00:00  9.9550  9.9791  9.9550  9.9650     9.9650   \n",
       "141 2023-06-08 19:30:00+00:00  9.9696  9.9700  9.9600  9.9600     9.9600   \n",
       "\n",
       "     Volume  \n",
       "0         0  \n",
       "1     17447  \n",
       "2    194728  \n",
       "3     58655  \n",
       "4     15837  \n",
       "..      ...  \n",
       "137   11841  \n",
       "138   21325  \n",
       "139   20112  \n",
       "140   17740  \n",
       "141   14736  \n",
       "\n",
       "[142 rows x 7 columns]"
      ]
     },
     "execution_count": 59,
     "metadata": {},
     "output_type": "execute_result"
    }
   ],
   "source": [
    "parent_dir = os.path.dirname(os.getcwd())\n",
    "metv_path = os.path.join(parent_dir, \"data\", \"raw\", \"metv_montly.json\")\n",
    "\n",
    "df_metv = pd.read_json(metv_path)\n",
    "df_metv"
   ]
  },
  {
   "cell_type": "code",
   "execution_count": 60,
   "metadata": {},
   "outputs": [
    {
     "data": {
      "text/html": [
       "<div>\n",
       "<style scoped>\n",
       "    .dataframe tbody tr th:only-of-type {\n",
       "        vertical-align: middle;\n",
       "    }\n",
       "\n",
       "    .dataframe tbody tr th {\n",
       "        vertical-align: top;\n",
       "    }\n",
       "\n",
       "    .dataframe thead th {\n",
       "        text-align: right;\n",
       "    }\n",
       "</style>\n",
       "<table border=\"1\" class=\"dataframe\">\n",
       "  <thead>\n",
       "    <tr style=\"text-align: right;\">\n",
       "      <th></th>\n",
       "      <th>Datetime</th>\n",
       "      <th>Open</th>\n",
       "      <th>High</th>\n",
       "      <th>Low</th>\n",
       "      <th>Close</th>\n",
       "      <th>Adj Close</th>\n",
       "      <th>Volume</th>\n",
       "      <th>Date</th>\n",
       "    </tr>\n",
       "  </thead>\n",
       "  <tbody>\n",
       "    <tr>\n",
       "      <th>0</th>\n",
       "      <td>2023-05-10 18:30:00+00:00</td>\n",
       "      <td>9.0855</td>\n",
       "      <td>9.1450</td>\n",
       "      <td>9.0855</td>\n",
       "      <td>9.1450</td>\n",
       "      <td>9.1450</td>\n",
       "      <td>0</td>\n",
       "      <td>2023-05-10</td>\n",
       "    </tr>\n",
       "    <tr>\n",
       "      <th>1</th>\n",
       "      <td>2023-05-10 19:30:00+00:00</td>\n",
       "      <td>9.1400</td>\n",
       "      <td>9.1450</td>\n",
       "      <td>9.1100</td>\n",
       "      <td>9.1100</td>\n",
       "      <td>9.1100</td>\n",
       "      <td>17447</td>\n",
       "      <td>2023-05-10</td>\n",
       "    </tr>\n",
       "    <tr>\n",
       "      <th>2</th>\n",
       "      <td>2023-05-11 13:30:00+00:00</td>\n",
       "      <td>9.1400</td>\n",
       "      <td>9.1600</td>\n",
       "      <td>9.1135</td>\n",
       "      <td>9.1385</td>\n",
       "      <td>9.1385</td>\n",
       "      <td>194728</td>\n",
       "      <td>2023-05-11</td>\n",
       "    </tr>\n",
       "    <tr>\n",
       "      <th>3</th>\n",
       "      <td>2023-05-11 14:30:00+00:00</td>\n",
       "      <td>9.1200</td>\n",
       "      <td>9.1400</td>\n",
       "      <td>9.0900</td>\n",
       "      <td>9.1201</td>\n",
       "      <td>9.1201</td>\n",
       "      <td>58655</td>\n",
       "      <td>2023-05-11</td>\n",
       "    </tr>\n",
       "    <tr>\n",
       "      <th>4</th>\n",
       "      <td>2023-05-11 15:30:00+00:00</td>\n",
       "      <td>9.1400</td>\n",
       "      <td>9.1650</td>\n",
       "      <td>9.1400</td>\n",
       "      <td>9.1599</td>\n",
       "      <td>9.1599</td>\n",
       "      <td>15837</td>\n",
       "      <td>2023-05-11</td>\n",
       "    </tr>\n",
       "    <tr>\n",
       "      <th>...</th>\n",
       "      <td>...</td>\n",
       "      <td>...</td>\n",
       "      <td>...</td>\n",
       "      <td>...</td>\n",
       "      <td>...</td>\n",
       "      <td>...</td>\n",
       "      <td>...</td>\n",
       "      <td>...</td>\n",
       "    </tr>\n",
       "    <tr>\n",
       "      <th>137</th>\n",
       "      <td>2023-06-08 15:30:00+00:00</td>\n",
       "      <td>9.9600</td>\n",
       "      <td>9.9850</td>\n",
       "      <td>9.9521</td>\n",
       "      <td>9.9850</td>\n",
       "      <td>9.9850</td>\n",
       "      <td>11841</td>\n",
       "      <td>2023-06-08</td>\n",
       "    </tr>\n",
       "    <tr>\n",
       "      <th>138</th>\n",
       "      <td>2023-06-08 16:30:00+00:00</td>\n",
       "      <td>9.9850</td>\n",
       "      <td>9.9850</td>\n",
       "      <td>9.9458</td>\n",
       "      <td>9.9550</td>\n",
       "      <td>9.9550</td>\n",
       "      <td>21325</td>\n",
       "      <td>2023-06-08</td>\n",
       "    </tr>\n",
       "    <tr>\n",
       "      <th>139</th>\n",
       "      <td>2023-06-08 17:30:00+00:00</td>\n",
       "      <td>9.9500</td>\n",
       "      <td>9.9550</td>\n",
       "      <td>9.9200</td>\n",
       "      <td>9.9478</td>\n",
       "      <td>9.9478</td>\n",
       "      <td>20112</td>\n",
       "      <td>2023-06-08</td>\n",
       "    </tr>\n",
       "    <tr>\n",
       "      <th>140</th>\n",
       "      <td>2023-06-08 18:30:00+00:00</td>\n",
       "      <td>9.9550</td>\n",
       "      <td>9.9791</td>\n",
       "      <td>9.9550</td>\n",
       "      <td>9.9650</td>\n",
       "      <td>9.9650</td>\n",
       "      <td>17740</td>\n",
       "      <td>2023-06-08</td>\n",
       "    </tr>\n",
       "    <tr>\n",
       "      <th>141</th>\n",
       "      <td>2023-06-08 19:30:00+00:00</td>\n",
       "      <td>9.9696</td>\n",
       "      <td>9.9700</td>\n",
       "      <td>9.9600</td>\n",
       "      <td>9.9600</td>\n",
       "      <td>9.9600</td>\n",
       "      <td>14736</td>\n",
       "      <td>2023-06-08</td>\n",
       "    </tr>\n",
       "  </tbody>\n",
       "</table>\n",
       "<p>142 rows × 8 columns</p>\n",
       "</div>"
      ],
      "text/plain": [
       "                     Datetime    Open    High     Low   Close  Adj Close  \\\n",
       "0   2023-05-10 18:30:00+00:00  9.0855  9.1450  9.0855  9.1450     9.1450   \n",
       "1   2023-05-10 19:30:00+00:00  9.1400  9.1450  9.1100  9.1100     9.1100   \n",
       "2   2023-05-11 13:30:00+00:00  9.1400  9.1600  9.1135  9.1385     9.1385   \n",
       "3   2023-05-11 14:30:00+00:00  9.1200  9.1400  9.0900  9.1201     9.1201   \n",
       "4   2023-05-11 15:30:00+00:00  9.1400  9.1650  9.1400  9.1599     9.1599   \n",
       "..                        ...     ...     ...     ...     ...        ...   \n",
       "137 2023-06-08 15:30:00+00:00  9.9600  9.9850  9.9521  9.9850     9.9850   \n",
       "138 2023-06-08 16:30:00+00:00  9.9850  9.9850  9.9458  9.9550     9.9550   \n",
       "139 2023-06-08 17:30:00+00:00  9.9500  9.9550  9.9200  9.9478     9.9478   \n",
       "140 2023-06-08 18:30:00+00:00  9.9550  9.9791  9.9550  9.9650     9.9650   \n",
       "141 2023-06-08 19:30:00+00:00  9.9696  9.9700  9.9600  9.9600     9.9600   \n",
       "\n",
       "     Volume        Date  \n",
       "0         0  2023-05-10  \n",
       "1     17447  2023-05-10  \n",
       "2    194728  2023-05-11  \n",
       "3     58655  2023-05-11  \n",
       "4     15837  2023-05-11  \n",
       "..      ...         ...  \n",
       "137   11841  2023-06-08  \n",
       "138   21325  2023-06-08  \n",
       "139   20112  2023-06-08  \n",
       "140   17740  2023-06-08  \n",
       "141   14736  2023-06-08  \n",
       "\n",
       "[142 rows x 8 columns]"
      ]
     },
     "execution_count": 60,
     "metadata": {},
     "output_type": "execute_result"
    }
   ],
   "source": [
    "df_metv['Date'] = df_metv['Datetime'].dt.strftime('%Y-%m-%d')\n",
    "df_metv"
   ]
  },
  {
   "cell_type": "code",
   "execution_count": 61,
   "metadata": {},
   "outputs": [
    {
     "data": {
      "text/html": [
       "<div>\n",
       "<style scoped>\n",
       "    .dataframe tbody tr th:only-of-type {\n",
       "        vertical-align: middle;\n",
       "    }\n",
       "\n",
       "    .dataframe tbody tr th {\n",
       "        vertical-align: top;\n",
       "    }\n",
       "\n",
       "    .dataframe thead th {\n",
       "        text-align: right;\n",
       "    }\n",
       "</style>\n",
       "<table border=\"1\" class=\"dataframe\">\n",
       "  <thead>\n",
       "    <tr style=\"text-align: right;\">\n",
       "      <th></th>\n",
       "      <th>Open</th>\n",
       "      <th>High</th>\n",
       "      <th>Low</th>\n",
       "      <th>Close</th>\n",
       "      <th>Adj Close</th>\n",
       "      <th>Volume</th>\n",
       "    </tr>\n",
       "  </thead>\n",
       "  <tbody>\n",
       "    <tr>\n",
       "      <th>count</th>\n",
       "      <td>142.000000</td>\n",
       "      <td>142.000000</td>\n",
       "      <td>142.000000</td>\n",
       "      <td>142.000000</td>\n",
       "      <td>142.000000</td>\n",
       "      <td>142.000000</td>\n",
       "    </tr>\n",
       "    <tr>\n",
       "      <th>mean</th>\n",
       "      <td>9.588475</td>\n",
       "      <td>9.615819</td>\n",
       "      <td>9.566618</td>\n",
       "      <td>9.592561</td>\n",
       "      <td>9.592561</td>\n",
       "      <td>49251.739437</td>\n",
       "    </tr>\n",
       "    <tr>\n",
       "      <th>std</th>\n",
       "      <td>0.359287</td>\n",
       "      <td>0.362469</td>\n",
       "      <td>0.356437</td>\n",
       "      <td>0.357674</td>\n",
       "      <td>0.357674</td>\n",
       "      <td>53916.626016</td>\n",
       "    </tr>\n",
       "    <tr>\n",
       "      <th>min</th>\n",
       "      <td>8.995000</td>\n",
       "      <td>9.015000</td>\n",
       "      <td>8.985000</td>\n",
       "      <td>8.997100</td>\n",
       "      <td>8.997100</td>\n",
       "      <td>0.000000</td>\n",
       "    </tr>\n",
       "    <tr>\n",
       "      <th>25%</th>\n",
       "      <td>9.213700</td>\n",
       "      <td>9.258525</td>\n",
       "      <td>9.209550</td>\n",
       "      <td>9.236525</td>\n",
       "      <td>9.236525</td>\n",
       "      <td>18060.500000</td>\n",
       "    </tr>\n",
       "    <tr>\n",
       "      <th>50%</th>\n",
       "      <td>9.505000</td>\n",
       "      <td>9.530000</td>\n",
       "      <td>9.485000</td>\n",
       "      <td>9.517500</td>\n",
       "      <td>9.517500</td>\n",
       "      <td>37475.500000</td>\n",
       "    </tr>\n",
       "    <tr>\n",
       "      <th>75%</th>\n",
       "      <td>9.937500</td>\n",
       "      <td>9.968750</td>\n",
       "      <td>9.900000</td>\n",
       "      <td>9.936175</td>\n",
       "      <td>9.936175</td>\n",
       "      <td>61399.000000</td>\n",
       "    </tr>\n",
       "    <tr>\n",
       "      <th>max</th>\n",
       "      <td>10.120000</td>\n",
       "      <td>10.170000</td>\n",
       "      <td>10.100000</td>\n",
       "      <td>10.123000</td>\n",
       "      <td>10.123000</td>\n",
       "      <td>467944.000000</td>\n",
       "    </tr>\n",
       "  </tbody>\n",
       "</table>\n",
       "</div>"
      ],
      "text/plain": [
       "             Open        High         Low       Close   Adj Close  \\\n",
       "count  142.000000  142.000000  142.000000  142.000000  142.000000   \n",
       "mean     9.588475    9.615819    9.566618    9.592561    9.592561   \n",
       "std      0.359287    0.362469    0.356437    0.357674    0.357674   \n",
       "min      8.995000    9.015000    8.985000    8.997100    8.997100   \n",
       "25%      9.213700    9.258525    9.209550    9.236525    9.236525   \n",
       "50%      9.505000    9.530000    9.485000    9.517500    9.517500   \n",
       "75%      9.937500    9.968750    9.900000    9.936175    9.936175   \n",
       "max     10.120000   10.170000   10.100000   10.123000   10.123000   \n",
       "\n",
       "              Volume  \n",
       "count     142.000000  \n",
       "mean    49251.739437  \n",
       "std     53916.626016  \n",
       "min         0.000000  \n",
       "25%     18060.500000  \n",
       "50%     37475.500000  \n",
       "75%     61399.000000  \n",
       "max    467944.000000  "
      ]
     },
     "execution_count": 61,
     "metadata": {},
     "output_type": "execute_result"
    }
   ],
   "source": [
    "df_metv.describe()"
   ]
  },
  {
   "cell_type": "code",
   "execution_count": 62,
   "metadata": {},
   "outputs": [
    {
     "name": "stdout",
     "output_type": "stream",
     "text": [
      "Datetime     0\n",
      "Open         0\n",
      "High         0\n",
      "Low          0\n",
      "Close        0\n",
      "Adj Close    0\n",
      "Volume       0\n",
      "Date         0\n",
      "dtype: int64\n"
     ]
    }
   ],
   "source": [
    "print(df_metv.isna().sum())"
   ]
  },
  {
   "cell_type": "code",
   "execution_count": 102,
   "metadata": {},
   "outputs": [],
   "source": [
    "start_date = df_metv['Date'].min()\n",
    "end_date = df_metv['Date'].max()\n",
    "\n",
    "# Tarih aralığına göre filtreleme\n",
    "filtered_data_stock = df_metv[(df_metv['Date'] >= start_date) & (df_metv['Date'] <= end_date)]\n",
    "\n",
    "# Hareketli ortalama hesaplama\n",
    "moving_avg_stock = filtered_data_stock.groupby('Date')['Adj Close'].mean()\n",
    "\n",
    "# Yeni bir veri çerçevesi oluşturma\n",
    "df_moving_avg_stock = pd.DataFrame({'date': moving_avg_stock.index, 'moving_avg_price': moving_avg_stock.values})"
   ]
  },
  {
   "cell_type": "code",
   "execution_count": 103,
   "metadata": {},
   "outputs": [
    {
     "data": {
      "application/vnd.plotly.v1+json": {
       "config": {
        "plotlyServerURL": "https://plot.ly"
       },
       "data": [
        {
         "mode": "lines",
         "type": "scatter",
         "x": [
          "2023-05-10",
          "2023-05-11",
          "2023-05-12",
          "2023-05-15",
          "2023-05-16",
          "2023-05-17",
          "2023-05-18",
          "2023-05-19",
          "2023-05-22",
          "2023-05-23",
          "2023-05-24",
          "2023-05-25",
          "2023-05-26",
          "2023-05-30",
          "2023-05-31",
          "2023-06-01",
          "2023-06-02",
          "2023-06-05",
          "2023-06-06",
          "2023-06-07",
          "2023-06-08"
         ],
         "y": [
          9.12750005725,
          9.143714359828573,
          9.033257348185714,
          9.1649998256,
          9.175957134785715,
          9.313399996085716,
          9.48428562707143,
          9.429042952385714,
          9.467985698142856,
          9.360857282357143,
          9.22174290247143,
          9.563014166671428,
          9.802985736314286,
          9.894300052085715,
          9.809385708414286,
          10.005585806714285,
          10.056442941928571,
          10.056914193285715,
          10.1029714857,
          9.943657193885715,
          9.953585624685715
         ]
        }
       ],
       "layout": {
        "template": {
         "data": {
          "bar": [
           {
            "error_x": {
             "color": "#2a3f5f"
            },
            "error_y": {
             "color": "#2a3f5f"
            },
            "marker": {
             "line": {
              "color": "#E5ECF6",
              "width": 0.5
             },
             "pattern": {
              "fillmode": "overlay",
              "size": 10,
              "solidity": 0.2
             }
            },
            "type": "bar"
           }
          ],
          "barpolar": [
           {
            "marker": {
             "line": {
              "color": "#E5ECF6",
              "width": 0.5
             },
             "pattern": {
              "fillmode": "overlay",
              "size": 10,
              "solidity": 0.2
             }
            },
            "type": "barpolar"
           }
          ],
          "carpet": [
           {
            "aaxis": {
             "endlinecolor": "#2a3f5f",
             "gridcolor": "white",
             "linecolor": "white",
             "minorgridcolor": "white",
             "startlinecolor": "#2a3f5f"
            },
            "baxis": {
             "endlinecolor": "#2a3f5f",
             "gridcolor": "white",
             "linecolor": "white",
             "minorgridcolor": "white",
             "startlinecolor": "#2a3f5f"
            },
            "type": "carpet"
           }
          ],
          "choropleth": [
           {
            "colorbar": {
             "outlinewidth": 0,
             "ticks": ""
            },
            "type": "choropleth"
           }
          ],
          "contour": [
           {
            "colorbar": {
             "outlinewidth": 0,
             "ticks": ""
            },
            "colorscale": [
             [
              0,
              "#0d0887"
             ],
             [
              0.1111111111111111,
              "#46039f"
             ],
             [
              0.2222222222222222,
              "#7201a8"
             ],
             [
              0.3333333333333333,
              "#9c179e"
             ],
             [
              0.4444444444444444,
              "#bd3786"
             ],
             [
              0.5555555555555556,
              "#d8576b"
             ],
             [
              0.6666666666666666,
              "#ed7953"
             ],
             [
              0.7777777777777778,
              "#fb9f3a"
             ],
             [
              0.8888888888888888,
              "#fdca26"
             ],
             [
              1,
              "#f0f921"
             ]
            ],
            "type": "contour"
           }
          ],
          "contourcarpet": [
           {
            "colorbar": {
             "outlinewidth": 0,
             "ticks": ""
            },
            "type": "contourcarpet"
           }
          ],
          "heatmap": [
           {
            "colorbar": {
             "outlinewidth": 0,
             "ticks": ""
            },
            "colorscale": [
             [
              0,
              "#0d0887"
             ],
             [
              0.1111111111111111,
              "#46039f"
             ],
             [
              0.2222222222222222,
              "#7201a8"
             ],
             [
              0.3333333333333333,
              "#9c179e"
             ],
             [
              0.4444444444444444,
              "#bd3786"
             ],
             [
              0.5555555555555556,
              "#d8576b"
             ],
             [
              0.6666666666666666,
              "#ed7953"
             ],
             [
              0.7777777777777778,
              "#fb9f3a"
             ],
             [
              0.8888888888888888,
              "#fdca26"
             ],
             [
              1,
              "#f0f921"
             ]
            ],
            "type": "heatmap"
           }
          ],
          "heatmapgl": [
           {
            "colorbar": {
             "outlinewidth": 0,
             "ticks": ""
            },
            "colorscale": [
             [
              0,
              "#0d0887"
             ],
             [
              0.1111111111111111,
              "#46039f"
             ],
             [
              0.2222222222222222,
              "#7201a8"
             ],
             [
              0.3333333333333333,
              "#9c179e"
             ],
             [
              0.4444444444444444,
              "#bd3786"
             ],
             [
              0.5555555555555556,
              "#d8576b"
             ],
             [
              0.6666666666666666,
              "#ed7953"
             ],
             [
              0.7777777777777778,
              "#fb9f3a"
             ],
             [
              0.8888888888888888,
              "#fdca26"
             ],
             [
              1,
              "#f0f921"
             ]
            ],
            "type": "heatmapgl"
           }
          ],
          "histogram": [
           {
            "marker": {
             "pattern": {
              "fillmode": "overlay",
              "size": 10,
              "solidity": 0.2
             }
            },
            "type": "histogram"
           }
          ],
          "histogram2d": [
           {
            "colorbar": {
             "outlinewidth": 0,
             "ticks": ""
            },
            "colorscale": [
             [
              0,
              "#0d0887"
             ],
             [
              0.1111111111111111,
              "#46039f"
             ],
             [
              0.2222222222222222,
              "#7201a8"
             ],
             [
              0.3333333333333333,
              "#9c179e"
             ],
             [
              0.4444444444444444,
              "#bd3786"
             ],
             [
              0.5555555555555556,
              "#d8576b"
             ],
             [
              0.6666666666666666,
              "#ed7953"
             ],
             [
              0.7777777777777778,
              "#fb9f3a"
             ],
             [
              0.8888888888888888,
              "#fdca26"
             ],
             [
              1,
              "#f0f921"
             ]
            ],
            "type": "histogram2d"
           }
          ],
          "histogram2dcontour": [
           {
            "colorbar": {
             "outlinewidth": 0,
             "ticks": ""
            },
            "colorscale": [
             [
              0,
              "#0d0887"
             ],
             [
              0.1111111111111111,
              "#46039f"
             ],
             [
              0.2222222222222222,
              "#7201a8"
             ],
             [
              0.3333333333333333,
              "#9c179e"
             ],
             [
              0.4444444444444444,
              "#bd3786"
             ],
             [
              0.5555555555555556,
              "#d8576b"
             ],
             [
              0.6666666666666666,
              "#ed7953"
             ],
             [
              0.7777777777777778,
              "#fb9f3a"
             ],
             [
              0.8888888888888888,
              "#fdca26"
             ],
             [
              1,
              "#f0f921"
             ]
            ],
            "type": "histogram2dcontour"
           }
          ],
          "mesh3d": [
           {
            "colorbar": {
             "outlinewidth": 0,
             "ticks": ""
            },
            "type": "mesh3d"
           }
          ],
          "parcoords": [
           {
            "line": {
             "colorbar": {
              "outlinewidth": 0,
              "ticks": ""
             }
            },
            "type": "parcoords"
           }
          ],
          "pie": [
           {
            "automargin": true,
            "type": "pie"
           }
          ],
          "scatter": [
           {
            "marker": {
             "colorbar": {
              "outlinewidth": 0,
              "ticks": ""
             }
            },
            "type": "scatter"
           }
          ],
          "scatter3d": [
           {
            "line": {
             "colorbar": {
              "outlinewidth": 0,
              "ticks": ""
             }
            },
            "marker": {
             "colorbar": {
              "outlinewidth": 0,
              "ticks": ""
             }
            },
            "type": "scatter3d"
           }
          ],
          "scattercarpet": [
           {
            "marker": {
             "colorbar": {
              "outlinewidth": 0,
              "ticks": ""
             }
            },
            "type": "scattercarpet"
           }
          ],
          "scattergeo": [
           {
            "marker": {
             "colorbar": {
              "outlinewidth": 0,
              "ticks": ""
             }
            },
            "type": "scattergeo"
           }
          ],
          "scattergl": [
           {
            "marker": {
             "colorbar": {
              "outlinewidth": 0,
              "ticks": ""
             }
            },
            "type": "scattergl"
           }
          ],
          "scattermapbox": [
           {
            "marker": {
             "colorbar": {
              "outlinewidth": 0,
              "ticks": ""
             }
            },
            "type": "scattermapbox"
           }
          ],
          "scatterpolar": [
           {
            "marker": {
             "colorbar": {
              "outlinewidth": 0,
              "ticks": ""
             }
            },
            "type": "scatterpolar"
           }
          ],
          "scatterpolargl": [
           {
            "marker": {
             "colorbar": {
              "outlinewidth": 0,
              "ticks": ""
             }
            },
            "type": "scatterpolargl"
           }
          ],
          "scatterternary": [
           {
            "marker": {
             "colorbar": {
              "outlinewidth": 0,
              "ticks": ""
             }
            },
            "type": "scatterternary"
           }
          ],
          "surface": [
           {
            "colorbar": {
             "outlinewidth": 0,
             "ticks": ""
            },
            "colorscale": [
             [
              0,
              "#0d0887"
             ],
             [
              0.1111111111111111,
              "#46039f"
             ],
             [
              0.2222222222222222,
              "#7201a8"
             ],
             [
              0.3333333333333333,
              "#9c179e"
             ],
             [
              0.4444444444444444,
              "#bd3786"
             ],
             [
              0.5555555555555556,
              "#d8576b"
             ],
             [
              0.6666666666666666,
              "#ed7953"
             ],
             [
              0.7777777777777778,
              "#fb9f3a"
             ],
             [
              0.8888888888888888,
              "#fdca26"
             ],
             [
              1,
              "#f0f921"
             ]
            ],
            "type": "surface"
           }
          ],
          "table": [
           {
            "cells": {
             "fill": {
              "color": "#EBF0F8"
             },
             "line": {
              "color": "white"
             }
            },
            "header": {
             "fill": {
              "color": "#C8D4E3"
             },
             "line": {
              "color": "white"
             }
            },
            "type": "table"
           }
          ]
         },
         "layout": {
          "annotationdefaults": {
           "arrowcolor": "#2a3f5f",
           "arrowhead": 0,
           "arrowwidth": 1
          },
          "autotypenumbers": "strict",
          "coloraxis": {
           "colorbar": {
            "outlinewidth": 0,
            "ticks": ""
           }
          },
          "colorscale": {
           "diverging": [
            [
             0,
             "#8e0152"
            ],
            [
             0.1,
             "#c51b7d"
            ],
            [
             0.2,
             "#de77ae"
            ],
            [
             0.3,
             "#f1b6da"
            ],
            [
             0.4,
             "#fde0ef"
            ],
            [
             0.5,
             "#f7f7f7"
            ],
            [
             0.6,
             "#e6f5d0"
            ],
            [
             0.7,
             "#b8e186"
            ],
            [
             0.8,
             "#7fbc41"
            ],
            [
             0.9,
             "#4d9221"
            ],
            [
             1,
             "#276419"
            ]
           ],
           "sequential": [
            [
             0,
             "#0d0887"
            ],
            [
             0.1111111111111111,
             "#46039f"
            ],
            [
             0.2222222222222222,
             "#7201a8"
            ],
            [
             0.3333333333333333,
             "#9c179e"
            ],
            [
             0.4444444444444444,
             "#bd3786"
            ],
            [
             0.5555555555555556,
             "#d8576b"
            ],
            [
             0.6666666666666666,
             "#ed7953"
            ],
            [
             0.7777777777777778,
             "#fb9f3a"
            ],
            [
             0.8888888888888888,
             "#fdca26"
            ],
            [
             1,
             "#f0f921"
            ]
           ],
           "sequentialminus": [
            [
             0,
             "#0d0887"
            ],
            [
             0.1111111111111111,
             "#46039f"
            ],
            [
             0.2222222222222222,
             "#7201a8"
            ],
            [
             0.3333333333333333,
             "#9c179e"
            ],
            [
             0.4444444444444444,
             "#bd3786"
            ],
            [
             0.5555555555555556,
             "#d8576b"
            ],
            [
             0.6666666666666666,
             "#ed7953"
            ],
            [
             0.7777777777777778,
             "#fb9f3a"
            ],
            [
             0.8888888888888888,
             "#fdca26"
            ],
            [
             1,
             "#f0f921"
            ]
           ]
          },
          "colorway": [
           "#636efa",
           "#EF553B",
           "#00cc96",
           "#ab63fa",
           "#FFA15A",
           "#19d3f3",
           "#FF6692",
           "#B6E880",
           "#FF97FF",
           "#FECB52"
          ],
          "font": {
           "color": "#2a3f5f"
          },
          "geo": {
           "bgcolor": "white",
           "lakecolor": "white",
           "landcolor": "#E5ECF6",
           "showlakes": true,
           "showland": true,
           "subunitcolor": "white"
          },
          "hoverlabel": {
           "align": "left"
          },
          "hovermode": "closest",
          "mapbox": {
           "style": "light"
          },
          "paper_bgcolor": "white",
          "plot_bgcolor": "#E5ECF6",
          "polar": {
           "angularaxis": {
            "gridcolor": "white",
            "linecolor": "white",
            "ticks": ""
           },
           "bgcolor": "#E5ECF6",
           "radialaxis": {
            "gridcolor": "white",
            "linecolor": "white",
            "ticks": ""
           }
          },
          "scene": {
           "xaxis": {
            "backgroundcolor": "#E5ECF6",
            "gridcolor": "white",
            "gridwidth": 2,
            "linecolor": "white",
            "showbackground": true,
            "ticks": "",
            "zerolinecolor": "white"
           },
           "yaxis": {
            "backgroundcolor": "#E5ECF6",
            "gridcolor": "white",
            "gridwidth": 2,
            "linecolor": "white",
            "showbackground": true,
            "ticks": "",
            "zerolinecolor": "white"
           },
           "zaxis": {
            "backgroundcolor": "#E5ECF6",
            "gridcolor": "white",
            "gridwidth": 2,
            "linecolor": "white",
            "showbackground": true,
            "ticks": "",
            "zerolinecolor": "white"
           }
          },
          "shapedefaults": {
           "line": {
            "color": "#2a3f5f"
           }
          },
          "ternary": {
           "aaxis": {
            "gridcolor": "white",
            "linecolor": "white",
            "ticks": ""
           },
           "baxis": {
            "gridcolor": "white",
            "linecolor": "white",
            "ticks": ""
           },
           "bgcolor": "#E5ECF6",
           "caxis": {
            "gridcolor": "white",
            "linecolor": "white",
            "ticks": ""
           }
          },
          "title": {
           "x": 0.05
          },
          "xaxis": {
           "automargin": true,
           "gridcolor": "white",
           "linecolor": "white",
           "ticks": "",
           "title": {
            "standoff": 15
           },
           "zerolinecolor": "white",
           "zerolinewidth": 2
          },
          "yaxis": {
           "automargin": true,
           "gridcolor": "white",
           "linecolor": "white",
           "ticks": "",
           "title": {
            "standoff": 15
           },
           "zerolinecolor": "white",
           "zerolinewidth": 2
          }
         }
        },
        "title": {
         "text": "Adj Close vs. Date"
        },
        "xaxis": {
         "dtick": "D1",
         "tickmode": "linear",
         "title": {
          "text": "Date"
         }
        },
        "yaxis": {
         "title": {
          "text": "Adj Close"
         }
        }
       }
      },
      "text/html": [
       "<div>                            <div id=\"b26bff5b-2411-48bd-bb39-bd8dcdc35868\" class=\"plotly-graph-div\" style=\"height:525px; width:100%;\"></div>            <script type=\"text/javascript\">                require([\"plotly\"], function(Plotly) {                    window.PLOTLYENV=window.PLOTLYENV || {};                                    if (document.getElementById(\"b26bff5b-2411-48bd-bb39-bd8dcdc35868\")) {                    Plotly.newPlot(                        \"b26bff5b-2411-48bd-bb39-bd8dcdc35868\",                        [{\"mode\":\"lines\",\"x\":[\"2023-05-10\",\"2023-05-11\",\"2023-05-12\",\"2023-05-15\",\"2023-05-16\",\"2023-05-17\",\"2023-05-18\",\"2023-05-19\",\"2023-05-22\",\"2023-05-23\",\"2023-05-24\",\"2023-05-25\",\"2023-05-26\",\"2023-05-30\",\"2023-05-31\",\"2023-06-01\",\"2023-06-02\",\"2023-06-05\",\"2023-06-06\",\"2023-06-07\",\"2023-06-08\"],\"y\":[9.12750005725,9.143714359828573,9.033257348185714,9.1649998256,9.175957134785715,9.313399996085716,9.48428562707143,9.429042952385714,9.467985698142856,9.360857282357143,9.22174290247143,9.563014166671428,9.802985736314286,9.894300052085715,9.809385708414286,10.005585806714285,10.056442941928571,10.056914193285715,10.1029714857,9.943657193885715,9.953585624685715],\"type\":\"scatter\"}],                        {\"template\":{\"data\":{\"bar\":[{\"error_x\":{\"color\":\"#2a3f5f\"},\"error_y\":{\"color\":\"#2a3f5f\"},\"marker\":{\"line\":{\"color\":\"#E5ECF6\",\"width\":0.5},\"pattern\":{\"fillmode\":\"overlay\",\"size\":10,\"solidity\":0.2}},\"type\":\"bar\"}],\"barpolar\":[{\"marker\":{\"line\":{\"color\":\"#E5ECF6\",\"width\":0.5},\"pattern\":{\"fillmode\":\"overlay\",\"size\":10,\"solidity\":0.2}},\"type\":\"barpolar\"}],\"carpet\":[{\"aaxis\":{\"endlinecolor\":\"#2a3f5f\",\"gridcolor\":\"white\",\"linecolor\":\"white\",\"minorgridcolor\":\"white\",\"startlinecolor\":\"#2a3f5f\"},\"baxis\":{\"endlinecolor\":\"#2a3f5f\",\"gridcolor\":\"white\",\"linecolor\":\"white\",\"minorgridcolor\":\"white\",\"startlinecolor\":\"#2a3f5f\"},\"type\":\"carpet\"}],\"choropleth\":[{\"colorbar\":{\"outlinewidth\":0,\"ticks\":\"\"},\"type\":\"choropleth\"}],\"contour\":[{\"colorbar\":{\"outlinewidth\":0,\"ticks\":\"\"},\"colorscale\":[[0.0,\"#0d0887\"],[0.1111111111111111,\"#46039f\"],[0.2222222222222222,\"#7201a8\"],[0.3333333333333333,\"#9c179e\"],[0.4444444444444444,\"#bd3786\"],[0.5555555555555556,\"#d8576b\"],[0.6666666666666666,\"#ed7953\"],[0.7777777777777778,\"#fb9f3a\"],[0.8888888888888888,\"#fdca26\"],[1.0,\"#f0f921\"]],\"type\":\"contour\"}],\"contourcarpet\":[{\"colorbar\":{\"outlinewidth\":0,\"ticks\":\"\"},\"type\":\"contourcarpet\"}],\"heatmap\":[{\"colorbar\":{\"outlinewidth\":0,\"ticks\":\"\"},\"colorscale\":[[0.0,\"#0d0887\"],[0.1111111111111111,\"#46039f\"],[0.2222222222222222,\"#7201a8\"],[0.3333333333333333,\"#9c179e\"],[0.4444444444444444,\"#bd3786\"],[0.5555555555555556,\"#d8576b\"],[0.6666666666666666,\"#ed7953\"],[0.7777777777777778,\"#fb9f3a\"],[0.8888888888888888,\"#fdca26\"],[1.0,\"#f0f921\"]],\"type\":\"heatmap\"}],\"heatmapgl\":[{\"colorbar\":{\"outlinewidth\":0,\"ticks\":\"\"},\"colorscale\":[[0.0,\"#0d0887\"],[0.1111111111111111,\"#46039f\"],[0.2222222222222222,\"#7201a8\"],[0.3333333333333333,\"#9c179e\"],[0.4444444444444444,\"#bd3786\"],[0.5555555555555556,\"#d8576b\"],[0.6666666666666666,\"#ed7953\"],[0.7777777777777778,\"#fb9f3a\"],[0.8888888888888888,\"#fdca26\"],[1.0,\"#f0f921\"]],\"type\":\"heatmapgl\"}],\"histogram\":[{\"marker\":{\"pattern\":{\"fillmode\":\"overlay\",\"size\":10,\"solidity\":0.2}},\"type\":\"histogram\"}],\"histogram2d\":[{\"colorbar\":{\"outlinewidth\":0,\"ticks\":\"\"},\"colorscale\":[[0.0,\"#0d0887\"],[0.1111111111111111,\"#46039f\"],[0.2222222222222222,\"#7201a8\"],[0.3333333333333333,\"#9c179e\"],[0.4444444444444444,\"#bd3786\"],[0.5555555555555556,\"#d8576b\"],[0.6666666666666666,\"#ed7953\"],[0.7777777777777778,\"#fb9f3a\"],[0.8888888888888888,\"#fdca26\"],[1.0,\"#f0f921\"]],\"type\":\"histogram2d\"}],\"histogram2dcontour\":[{\"colorbar\":{\"outlinewidth\":0,\"ticks\":\"\"},\"colorscale\":[[0.0,\"#0d0887\"],[0.1111111111111111,\"#46039f\"],[0.2222222222222222,\"#7201a8\"],[0.3333333333333333,\"#9c179e\"],[0.4444444444444444,\"#bd3786\"],[0.5555555555555556,\"#d8576b\"],[0.6666666666666666,\"#ed7953\"],[0.7777777777777778,\"#fb9f3a\"],[0.8888888888888888,\"#fdca26\"],[1.0,\"#f0f921\"]],\"type\":\"histogram2dcontour\"}],\"mesh3d\":[{\"colorbar\":{\"outlinewidth\":0,\"ticks\":\"\"},\"type\":\"mesh3d\"}],\"parcoords\":[{\"line\":{\"colorbar\":{\"outlinewidth\":0,\"ticks\":\"\"}},\"type\":\"parcoords\"}],\"pie\":[{\"automargin\":true,\"type\":\"pie\"}],\"scatter\":[{\"marker\":{\"colorbar\":{\"outlinewidth\":0,\"ticks\":\"\"}},\"type\":\"scatter\"}],\"scatter3d\":[{\"line\":{\"colorbar\":{\"outlinewidth\":0,\"ticks\":\"\"}},\"marker\":{\"colorbar\":{\"outlinewidth\":0,\"ticks\":\"\"}},\"type\":\"scatter3d\"}],\"scattercarpet\":[{\"marker\":{\"colorbar\":{\"outlinewidth\":0,\"ticks\":\"\"}},\"type\":\"scattercarpet\"}],\"scattergeo\":[{\"marker\":{\"colorbar\":{\"outlinewidth\":0,\"ticks\":\"\"}},\"type\":\"scattergeo\"}],\"scattergl\":[{\"marker\":{\"colorbar\":{\"outlinewidth\":0,\"ticks\":\"\"}},\"type\":\"scattergl\"}],\"scattermapbox\":[{\"marker\":{\"colorbar\":{\"outlinewidth\":0,\"ticks\":\"\"}},\"type\":\"scattermapbox\"}],\"scatterpolar\":[{\"marker\":{\"colorbar\":{\"outlinewidth\":0,\"ticks\":\"\"}},\"type\":\"scatterpolar\"}],\"scatterpolargl\":[{\"marker\":{\"colorbar\":{\"outlinewidth\":0,\"ticks\":\"\"}},\"type\":\"scatterpolargl\"}],\"scatterternary\":[{\"marker\":{\"colorbar\":{\"outlinewidth\":0,\"ticks\":\"\"}},\"type\":\"scatterternary\"}],\"surface\":[{\"colorbar\":{\"outlinewidth\":0,\"ticks\":\"\"},\"colorscale\":[[0.0,\"#0d0887\"],[0.1111111111111111,\"#46039f\"],[0.2222222222222222,\"#7201a8\"],[0.3333333333333333,\"#9c179e\"],[0.4444444444444444,\"#bd3786\"],[0.5555555555555556,\"#d8576b\"],[0.6666666666666666,\"#ed7953\"],[0.7777777777777778,\"#fb9f3a\"],[0.8888888888888888,\"#fdca26\"],[1.0,\"#f0f921\"]],\"type\":\"surface\"}],\"table\":[{\"cells\":{\"fill\":{\"color\":\"#EBF0F8\"},\"line\":{\"color\":\"white\"}},\"header\":{\"fill\":{\"color\":\"#C8D4E3\"},\"line\":{\"color\":\"white\"}},\"type\":\"table\"}]},\"layout\":{\"annotationdefaults\":{\"arrowcolor\":\"#2a3f5f\",\"arrowhead\":0,\"arrowwidth\":1},\"autotypenumbers\":\"strict\",\"coloraxis\":{\"colorbar\":{\"outlinewidth\":0,\"ticks\":\"\"}},\"colorscale\":{\"diverging\":[[0,\"#8e0152\"],[0.1,\"#c51b7d\"],[0.2,\"#de77ae\"],[0.3,\"#f1b6da\"],[0.4,\"#fde0ef\"],[0.5,\"#f7f7f7\"],[0.6,\"#e6f5d0\"],[0.7,\"#b8e186\"],[0.8,\"#7fbc41\"],[0.9,\"#4d9221\"],[1,\"#276419\"]],\"sequential\":[[0.0,\"#0d0887\"],[0.1111111111111111,\"#46039f\"],[0.2222222222222222,\"#7201a8\"],[0.3333333333333333,\"#9c179e\"],[0.4444444444444444,\"#bd3786\"],[0.5555555555555556,\"#d8576b\"],[0.6666666666666666,\"#ed7953\"],[0.7777777777777778,\"#fb9f3a\"],[0.8888888888888888,\"#fdca26\"],[1.0,\"#f0f921\"]],\"sequentialminus\":[[0.0,\"#0d0887\"],[0.1111111111111111,\"#46039f\"],[0.2222222222222222,\"#7201a8\"],[0.3333333333333333,\"#9c179e\"],[0.4444444444444444,\"#bd3786\"],[0.5555555555555556,\"#d8576b\"],[0.6666666666666666,\"#ed7953\"],[0.7777777777777778,\"#fb9f3a\"],[0.8888888888888888,\"#fdca26\"],[1.0,\"#f0f921\"]]},\"colorway\":[\"#636efa\",\"#EF553B\",\"#00cc96\",\"#ab63fa\",\"#FFA15A\",\"#19d3f3\",\"#FF6692\",\"#B6E880\",\"#FF97FF\",\"#FECB52\"],\"font\":{\"color\":\"#2a3f5f\"},\"geo\":{\"bgcolor\":\"white\",\"lakecolor\":\"white\",\"landcolor\":\"#E5ECF6\",\"showlakes\":true,\"showland\":true,\"subunitcolor\":\"white\"},\"hoverlabel\":{\"align\":\"left\"},\"hovermode\":\"closest\",\"mapbox\":{\"style\":\"light\"},\"paper_bgcolor\":\"white\",\"plot_bgcolor\":\"#E5ECF6\",\"polar\":{\"angularaxis\":{\"gridcolor\":\"white\",\"linecolor\":\"white\",\"ticks\":\"\"},\"bgcolor\":\"#E5ECF6\",\"radialaxis\":{\"gridcolor\":\"white\",\"linecolor\":\"white\",\"ticks\":\"\"}},\"scene\":{\"xaxis\":{\"backgroundcolor\":\"#E5ECF6\",\"gridcolor\":\"white\",\"gridwidth\":2,\"linecolor\":\"white\",\"showbackground\":true,\"ticks\":\"\",\"zerolinecolor\":\"white\"},\"yaxis\":{\"backgroundcolor\":\"#E5ECF6\",\"gridcolor\":\"white\",\"gridwidth\":2,\"linecolor\":\"white\",\"showbackground\":true,\"ticks\":\"\",\"zerolinecolor\":\"white\"},\"zaxis\":{\"backgroundcolor\":\"#E5ECF6\",\"gridcolor\":\"white\",\"gridwidth\":2,\"linecolor\":\"white\",\"showbackground\":true,\"ticks\":\"\",\"zerolinecolor\":\"white\"}},\"shapedefaults\":{\"line\":{\"color\":\"#2a3f5f\"}},\"ternary\":{\"aaxis\":{\"gridcolor\":\"white\",\"linecolor\":\"white\",\"ticks\":\"\"},\"baxis\":{\"gridcolor\":\"white\",\"linecolor\":\"white\",\"ticks\":\"\"},\"bgcolor\":\"#E5ECF6\",\"caxis\":{\"gridcolor\":\"white\",\"linecolor\":\"white\",\"ticks\":\"\"}},\"title\":{\"x\":0.05},\"xaxis\":{\"automargin\":true,\"gridcolor\":\"white\",\"linecolor\":\"white\",\"ticks\":\"\",\"title\":{\"standoff\":15},\"zerolinecolor\":\"white\",\"zerolinewidth\":2},\"yaxis\":{\"automargin\":true,\"gridcolor\":\"white\",\"linecolor\":\"white\",\"ticks\":\"\",\"title\":{\"standoff\":15},\"zerolinecolor\":\"white\",\"zerolinewidth\":2}}},\"xaxis\":{\"title\":{\"text\":\"Date\"},\"tickmode\":\"linear\",\"dtick\":\"D1\"},\"yaxis\":{\"title\":{\"text\":\"Adj Close\"}},\"title\":{\"text\":\"Adj Close vs. Date\"}},                        {\"responsive\": true}                    ).then(function(){\n",
       "                            \n",
       "var gd = document.getElementById('b26bff5b-2411-48bd-bb39-bd8dcdc35868');\n",
       "var x = new MutationObserver(function (mutations, observer) {{\n",
       "        var display = window.getComputedStyle(gd).display;\n",
       "        if (!display || display === 'none') {{\n",
       "            console.log([gd, 'removed!']);\n",
       "            Plotly.purge(gd);\n",
       "            observer.disconnect();\n",
       "        }}\n",
       "}});\n",
       "\n",
       "// Listen for the removal of the full notebook cells\n",
       "var notebookContainer = gd.closest('#notebook-container');\n",
       "if (notebookContainer) {{\n",
       "    x.observe(notebookContainer, {childList: true});\n",
       "}}\n",
       "\n",
       "// Listen for the clearing of the current output cell\n",
       "var outputEl = gd.closest('.output');\n",
       "if (outputEl) {{\n",
       "    x.observe(outputEl, {childList: true});\n",
       "}}\n",
       "\n",
       "                        })                };                });            </script>        </div>"
      ]
     },
     "metadata": {},
     "output_type": "display_data"
    }
   ],
   "source": [
    "fig1 = go.Figure(data=go.Scatter(x=df_moving_avg_stock['date'], y=df_moving_avg_stock['moving_avg_price'], mode='lines'))\n",
    "\n",
    "fig1.update_layout(\n",
    "    xaxis_title='Date',\n",
    "    yaxis_title='Adj Close',\n",
    "    title='Adj Close vs. Date',\n",
    "    xaxis=dict(\n",
    "        tickmode='linear',\n",
    "        dtick='D1',  # Set the tick frequency to one day (D1)\n",
    "    )\n",
    ")\n",
    "\n",
    "fig1.show()"
   ]
  },
  {
   "cell_type": "code",
   "execution_count": 82,
   "metadata": {
    "scrolled": true
   },
   "outputs": [
    {
     "name": "stdout",
     "output_type": "stream",
     "text": [
      "Highest Price: 10.12\n",
      "Day of Highest Price: 2023-06-06\n",
      "Lowest Price: 9.00\n",
      "Day of Lowest Price: 2023-05-12\n",
      "Date Range: 2023-05-10 to 2023-06-08\n"
     ]
    }
   ],
   "source": [
    "earliest_date = df_metv['Date'].iloc[0]\n",
    "latest_date = df_metv['Date'].iloc[-1]\n",
    "\n",
    "subset = df_metv.loc[(df_metv['Date'] >= earliest_date) & (df_metv['Date'] <= latest_date)]\n",
    "max_price = subset['Adj Close'].max()\n",
    "min_price = subset['Adj Close'].min()\n",
    "\n",
    "max_price_day = subset.loc[subset['Adj Close'] == max_price, 'Date'].values[0]\n",
    "min_price_day = subset.loc[subset['Adj Close'] == min_price, 'Date'].values[0]\n",
    "\n",
    "date_range = f\"{earliest_date} to {latest_date}\"\n",
    "\n",
    "print(\"Highest Price:\", format(max_price, '.2f'))\n",
    "print(\"Day of Highest Price:\", max_price_day)\n",
    "\n",
    "print(\"Lowest Price:\", format(min_price, '.2f'))\n",
    "print(\"Day of Lowest Price:\", min_price_day)\n",
    "\n",
    "print(\"Date Range:\", date_range)"
   ]
  },
  {
   "cell_type": "markdown",
   "metadata": {},
   "source": [
    "Processing news data"
   ]
  },
  {
   "cell_type": "code",
   "execution_count": 22,
   "metadata": {},
   "outputs": [],
   "source": [
    "news_path = os.path.join(parent_dir, \"data\", \"raw\", \"news.json\")"
   ]
  },
  {
   "cell_type": "code",
   "execution_count": 23,
   "metadata": {},
   "outputs": [
    {
     "data": {
      "text/html": [
       "<div>\n",
       "<style scoped>\n",
       "    .dataframe tbody tr th:only-of-type {\n",
       "        vertical-align: middle;\n",
       "    }\n",
       "\n",
       "    .dataframe tbody tr th {\n",
       "        vertical-align: top;\n",
       "    }\n",
       "\n",
       "    .dataframe thead th {\n",
       "        text-align: right;\n",
       "    }\n",
       "</style>\n",
       "<table border=\"1\" class=\"dataframe\">\n",
       "  <thead>\n",
       "    <tr style=\"text-align: right;\">\n",
       "      <th></th>\n",
       "      <th>title</th>\n",
       "      <th>description</th>\n",
       "      <th>content</th>\n",
       "      <th>publish_date</th>\n",
       "    </tr>\n",
       "  </thead>\n",
       "  <tbody>\n",
       "    <tr>\n",
       "      <th>0</th>\n",
       "      <td>‘Painted into a corner’: can generative AI sav...</td>\n",
       "      <td>Mark Zuckerberg says in earnings call that com...</td>\n",
       "      <td>Meta is not pivoting away from its signature p...</td>\n",
       "      <td>2023-05-11T05:00:17Z</td>\n",
       "    </tr>\n",
       "    <tr>\n",
       "      <th>1</th>\n",
       "      <td>Yes, the Metaverse Is Still Happening</td>\n",
       "      <td>There’s still much hype around the metaverse. ...</td>\n",
       "      <td>Don’t get left behind while competitors contin...</td>\n",
       "      <td>2023-05-12T15:00:00Z</td>\n",
       "    </tr>\n",
       "    <tr>\n",
       "      <th>2</th>\n",
       "      <td>Starburst opens Juicyverse experience in metav...</td>\n",
       "      <td>Starburst has launched its Juicyverse experien...</td>\n",
       "      <td>Starburst has launched its Juicyverse experien...</td>\n",
       "      <td>2023-05-11T14:30:00Z</td>\n",
       "    </tr>\n",
       "    <tr>\n",
       "      <th>3</th>\n",
       "      <td>Metaverse Could Contribute Up To 2.4% of US GD...</td>\n",
       "      <td>A study commissioned by Meta has found that th...</td>\n",
       "      <td>The concept of the metaverse includes augmente...</td>\n",
       "      <td>2023-05-10T01:25:00Z</td>\n",
       "    </tr>\n",
       "    <tr>\n",
       "      <th>4</th>\n",
       "      <td>Activision Boss Hyped About AI, Suggests It Co...</td>\n",
       "      <td>There’s always a new tech trend being billed a...</td>\n",
       "      <td>Theres always a new tech trend being billed as...</td>\n",
       "      <td>2023-05-11T20:11:00Z</td>\n",
       "    </tr>\n",
       "    <tr>\n",
       "      <th>...</th>\n",
       "      <td>...</td>\n",
       "      <td>...</td>\n",
       "      <td>...</td>\n",
       "      <td>...</td>\n",
       "    </tr>\n",
       "    <tr>\n",
       "      <th>1495</th>\n",
       "      <td>'SpinOk' spyware found in 193 more Android apps</td>\n",
       "      <td>About a week ago, we talked about the so-calle...</td>\n",
       "      <td>About a week ago, we talked about the so-calle...</td>\n",
       "      <td>2023-06-08T09:29:31Z</td>\n",
       "    </tr>\n",
       "    <tr>\n",
       "      <th>1496</th>\n",
       "      <td>Apple vision pro just brilliantly destroyed me...</td>\n",
       "      <td>I’d really hate to be Mark Zuckerberg right no...</td>\n",
       "      <td>Skip to comments.\\r\\nApple vision pro just bri...</td>\n",
       "      <td>2023-06-07T01:44:10Z</td>\n",
       "    </tr>\n",
       "    <tr>\n",
       "      <th>1497</th>\n",
       "      <td>Q2 2023 Metaverse Development Trends and Appli...</td>\n",
       "      <td>DUBLIN, June 6, 2023 /PRNewswire/ -- The \"Deve...</td>\n",
       "      <td>DUBLIN, June 6, 2023 /PRNewswire/ -- The \"Deve...</td>\n",
       "      <td>2023-06-07T00:15:00Z</td>\n",
       "    </tr>\n",
       "    <tr>\n",
       "      <th>1498</th>\n",
       "      <td>There are 5 reasons why Nvidia stock is a top ...</td>\n",
       "      <td>\"Net-net, we gain more confidence Nvidia can s...</td>\n",
       "      <td>Even after Nvidia'sAI-fueled, year-to-date ral...</td>\n",
       "      <td>2023-06-07T16:28:31Z</td>\n",
       "    </tr>\n",
       "    <tr>\n",
       "      <th>1499</th>\n",
       "      <td>Marvion Announces US$15million Acquisition of ...</td>\n",
       "      <td>SINGAPORE, June 8, 2023 /PRNewswire/ -- Marvio...</td>\n",
       "      <td>SINGAPORE, June 8, 2023 /PRNewswire/ -- Marvio...</td>\n",
       "      <td>2023-06-08T12:18:00Z</td>\n",
       "    </tr>\n",
       "  </tbody>\n",
       "</table>\n",
       "<p>1500 rows × 4 columns</p>\n",
       "</div>"
      ],
      "text/plain": [
       "                                                  title  \\\n",
       "0     ‘Painted into a corner’: can generative AI sav...   \n",
       "1                 Yes, the Metaverse Is Still Happening   \n",
       "2     Starburst opens Juicyverse experience in metav...   \n",
       "3     Metaverse Could Contribute Up To 2.4% of US GD...   \n",
       "4     Activision Boss Hyped About AI, Suggests It Co...   \n",
       "...                                                 ...   \n",
       "1495    'SpinOk' spyware found in 193 more Android apps   \n",
       "1496  Apple vision pro just brilliantly destroyed me...   \n",
       "1497  Q2 2023 Metaverse Development Trends and Appli...   \n",
       "1498  There are 5 reasons why Nvidia stock is a top ...   \n",
       "1499  Marvion Announces US$15million Acquisition of ...   \n",
       "\n",
       "                                            description  \\\n",
       "0     Mark Zuckerberg says in earnings call that com...   \n",
       "1     There’s still much hype around the metaverse. ...   \n",
       "2     Starburst has launched its Juicyverse experien...   \n",
       "3     A study commissioned by Meta has found that th...   \n",
       "4     There’s always a new tech trend being billed a...   \n",
       "...                                                 ...   \n",
       "1495  About a week ago, we talked about the so-calle...   \n",
       "1496  I’d really hate to be Mark Zuckerberg right no...   \n",
       "1497  DUBLIN, June 6, 2023 /PRNewswire/ -- The \"Deve...   \n",
       "1498  \"Net-net, we gain more confidence Nvidia can s...   \n",
       "1499  SINGAPORE, June 8, 2023 /PRNewswire/ -- Marvio...   \n",
       "\n",
       "                                                content          publish_date  \n",
       "0     Meta is not pivoting away from its signature p...  2023-05-11T05:00:17Z  \n",
       "1     Don’t get left behind while competitors contin...  2023-05-12T15:00:00Z  \n",
       "2     Starburst has launched its Juicyverse experien...  2023-05-11T14:30:00Z  \n",
       "3     The concept of the metaverse includes augmente...  2023-05-10T01:25:00Z  \n",
       "4     Theres always a new tech trend being billed as...  2023-05-11T20:11:00Z  \n",
       "...                                                 ...                   ...  \n",
       "1495  About a week ago, we talked about the so-calle...  2023-06-08T09:29:31Z  \n",
       "1496  Skip to comments.\\r\\nApple vision pro just bri...  2023-06-07T01:44:10Z  \n",
       "1497  DUBLIN, June 6, 2023 /PRNewswire/ -- The \"Deve...  2023-06-07T00:15:00Z  \n",
       "1498  Even after Nvidia'sAI-fueled, year-to-date ral...  2023-06-07T16:28:31Z  \n",
       "1499  SINGAPORE, June 8, 2023 /PRNewswire/ -- Marvio...  2023-06-08T12:18:00Z  \n",
       "\n",
       "[1500 rows x 4 columns]"
      ]
     },
     "execution_count": 23,
     "metadata": {},
     "output_type": "execute_result"
    }
   ],
   "source": [
    "df_news = pd.read_json(news_path)\n",
    "df_news"
   ]
  },
  {
   "cell_type": "code",
   "execution_count": 24,
   "metadata": {},
   "outputs": [
    {
     "data": {
      "text/html": [
       "<div>\n",
       "<style scoped>\n",
       "    .dataframe tbody tr th:only-of-type {\n",
       "        vertical-align: middle;\n",
       "    }\n",
       "\n",
       "    .dataframe tbody tr th {\n",
       "        vertical-align: top;\n",
       "    }\n",
       "\n",
       "    .dataframe thead th {\n",
       "        text-align: right;\n",
       "    }\n",
       "</style>\n",
       "<table border=\"1\" class=\"dataframe\">\n",
       "  <thead>\n",
       "    <tr style=\"text-align: right;\">\n",
       "      <th></th>\n",
       "      <th>title</th>\n",
       "      <th>description</th>\n",
       "      <th>content</th>\n",
       "      <th>publish_date</th>\n",
       "      <th>date</th>\n",
       "    </tr>\n",
       "  </thead>\n",
       "  <tbody>\n",
       "    <tr>\n",
       "      <th>0</th>\n",
       "      <td>‘Painted into a corner’: can generative AI sav...</td>\n",
       "      <td>Mark Zuckerberg says in earnings call that com...</td>\n",
       "      <td>Meta is not pivoting away from its signature p...</td>\n",
       "      <td>2023-05-11 05:00:17+00:00</td>\n",
       "      <td>2023-05-11</td>\n",
       "    </tr>\n",
       "    <tr>\n",
       "      <th>1</th>\n",
       "      <td>Yes, the Metaverse Is Still Happening</td>\n",
       "      <td>There’s still much hype around the metaverse. ...</td>\n",
       "      <td>Don’t get left behind while competitors contin...</td>\n",
       "      <td>2023-05-12 15:00:00+00:00</td>\n",
       "      <td>2023-05-12</td>\n",
       "    </tr>\n",
       "    <tr>\n",
       "      <th>2</th>\n",
       "      <td>Starburst opens Juicyverse experience in metav...</td>\n",
       "      <td>Starburst has launched its Juicyverse experien...</td>\n",
       "      <td>Starburst has launched its Juicyverse experien...</td>\n",
       "      <td>2023-05-11 14:30:00+00:00</td>\n",
       "      <td>2023-05-11</td>\n",
       "    </tr>\n",
       "    <tr>\n",
       "      <th>3</th>\n",
       "      <td>Metaverse Could Contribute Up To 2.4% of US GD...</td>\n",
       "      <td>A study commissioned by Meta has found that th...</td>\n",
       "      <td>The concept of the metaverse includes augmente...</td>\n",
       "      <td>2023-05-10 01:25:00+00:00</td>\n",
       "      <td>2023-05-10</td>\n",
       "    </tr>\n",
       "    <tr>\n",
       "      <th>4</th>\n",
       "      <td>Activision Boss Hyped About AI, Suggests It Co...</td>\n",
       "      <td>There’s always a new tech trend being billed a...</td>\n",
       "      <td>Theres always a new tech trend being billed as...</td>\n",
       "      <td>2023-05-11 20:11:00+00:00</td>\n",
       "      <td>2023-05-11</td>\n",
       "    </tr>\n",
       "    <tr>\n",
       "      <th>...</th>\n",
       "      <td>...</td>\n",
       "      <td>...</td>\n",
       "      <td>...</td>\n",
       "      <td>...</td>\n",
       "      <td>...</td>\n",
       "    </tr>\n",
       "    <tr>\n",
       "      <th>1495</th>\n",
       "      <td>'SpinOk' spyware found in 193 more Android apps</td>\n",
       "      <td>About a week ago, we talked about the so-calle...</td>\n",
       "      <td>About a week ago, we talked about the so-calle...</td>\n",
       "      <td>2023-06-08 09:29:31+00:00</td>\n",
       "      <td>2023-06-08</td>\n",
       "    </tr>\n",
       "    <tr>\n",
       "      <th>1496</th>\n",
       "      <td>Apple vision pro just brilliantly destroyed me...</td>\n",
       "      <td>I’d really hate to be Mark Zuckerberg right no...</td>\n",
       "      <td>Skip to comments.\\r\\nApple vision pro just bri...</td>\n",
       "      <td>2023-06-07 01:44:10+00:00</td>\n",
       "      <td>2023-06-07</td>\n",
       "    </tr>\n",
       "    <tr>\n",
       "      <th>1497</th>\n",
       "      <td>Q2 2023 Metaverse Development Trends and Appli...</td>\n",
       "      <td>DUBLIN, June 6, 2023 /PRNewswire/ -- The \"Deve...</td>\n",
       "      <td>DUBLIN, June 6, 2023 /PRNewswire/ -- The \"Deve...</td>\n",
       "      <td>2023-06-07 00:15:00+00:00</td>\n",
       "      <td>2023-06-07</td>\n",
       "    </tr>\n",
       "    <tr>\n",
       "      <th>1498</th>\n",
       "      <td>There are 5 reasons why Nvidia stock is a top ...</td>\n",
       "      <td>\"Net-net, we gain more confidence Nvidia can s...</td>\n",
       "      <td>Even after Nvidia'sAI-fueled, year-to-date ral...</td>\n",
       "      <td>2023-06-07 16:28:31+00:00</td>\n",
       "      <td>2023-06-07</td>\n",
       "    </tr>\n",
       "    <tr>\n",
       "      <th>1499</th>\n",
       "      <td>Marvion Announces US$15million Acquisition of ...</td>\n",
       "      <td>SINGAPORE, June 8, 2023 /PRNewswire/ -- Marvio...</td>\n",
       "      <td>SINGAPORE, June 8, 2023 /PRNewswire/ -- Marvio...</td>\n",
       "      <td>2023-06-08 12:18:00+00:00</td>\n",
       "      <td>2023-06-08</td>\n",
       "    </tr>\n",
       "  </tbody>\n",
       "</table>\n",
       "<p>1500 rows × 5 columns</p>\n",
       "</div>"
      ],
      "text/plain": [
       "                                                  title  \\\n",
       "0     ‘Painted into a corner’: can generative AI sav...   \n",
       "1                 Yes, the Metaverse Is Still Happening   \n",
       "2     Starburst opens Juicyverse experience in metav...   \n",
       "3     Metaverse Could Contribute Up To 2.4% of US GD...   \n",
       "4     Activision Boss Hyped About AI, Suggests It Co...   \n",
       "...                                                 ...   \n",
       "1495    'SpinOk' spyware found in 193 more Android apps   \n",
       "1496  Apple vision pro just brilliantly destroyed me...   \n",
       "1497  Q2 2023 Metaverse Development Trends and Appli...   \n",
       "1498  There are 5 reasons why Nvidia stock is a top ...   \n",
       "1499  Marvion Announces US$15million Acquisition of ...   \n",
       "\n",
       "                                            description  \\\n",
       "0     Mark Zuckerberg says in earnings call that com...   \n",
       "1     There’s still much hype around the metaverse. ...   \n",
       "2     Starburst has launched its Juicyverse experien...   \n",
       "3     A study commissioned by Meta has found that th...   \n",
       "4     There’s always a new tech trend being billed a...   \n",
       "...                                                 ...   \n",
       "1495  About a week ago, we talked about the so-calle...   \n",
       "1496  I’d really hate to be Mark Zuckerberg right no...   \n",
       "1497  DUBLIN, June 6, 2023 /PRNewswire/ -- The \"Deve...   \n",
       "1498  \"Net-net, we gain more confidence Nvidia can s...   \n",
       "1499  SINGAPORE, June 8, 2023 /PRNewswire/ -- Marvio...   \n",
       "\n",
       "                                                content  \\\n",
       "0     Meta is not pivoting away from its signature p...   \n",
       "1     Don’t get left behind while competitors contin...   \n",
       "2     Starburst has launched its Juicyverse experien...   \n",
       "3     The concept of the metaverse includes augmente...   \n",
       "4     Theres always a new tech trend being billed as...   \n",
       "...                                                 ...   \n",
       "1495  About a week ago, we talked about the so-calle...   \n",
       "1496  Skip to comments.\\r\\nApple vision pro just bri...   \n",
       "1497  DUBLIN, June 6, 2023 /PRNewswire/ -- The \"Deve...   \n",
       "1498  Even after Nvidia'sAI-fueled, year-to-date ral...   \n",
       "1499  SINGAPORE, June 8, 2023 /PRNewswire/ -- Marvio...   \n",
       "\n",
       "                  publish_date        date  \n",
       "0    2023-05-11 05:00:17+00:00  2023-05-11  \n",
       "1    2023-05-12 15:00:00+00:00  2023-05-12  \n",
       "2    2023-05-11 14:30:00+00:00  2023-05-11  \n",
       "3    2023-05-10 01:25:00+00:00  2023-05-10  \n",
       "4    2023-05-11 20:11:00+00:00  2023-05-11  \n",
       "...                        ...         ...  \n",
       "1495 2023-06-08 09:29:31+00:00  2023-06-08  \n",
       "1496 2023-06-07 01:44:10+00:00  2023-06-07  \n",
       "1497 2023-06-07 00:15:00+00:00  2023-06-07  \n",
       "1498 2023-06-07 16:28:31+00:00  2023-06-07  \n",
       "1499 2023-06-08 12:18:00+00:00  2023-06-08  \n",
       "\n",
       "[1500 rows x 5 columns]"
      ]
     },
     "execution_count": 24,
     "metadata": {},
     "output_type": "execute_result"
    }
   ],
   "source": [
    "df_news['publish_date'] = pd.to_datetime(df_news['publish_date'])\n",
    "df_news['date'] = df_news['publish_date'].dt.strftime('%Y-%m-%d')\n",
    "\n",
    "df_news"
   ]
  },
  {
   "cell_type": "code",
   "execution_count": 25,
   "metadata": {},
   "outputs": [],
   "source": [
    "columns_to_check = [\"title\", \"description\", \"content\"]\n",
    "columns_with_nan = df_news[columns_to_check].isnull().any()\n",
    "\n",
    "# Replace NaN values with an empty string\n",
    "df_news[columns_to_check] = df_news[columns_to_check].fillna(\"\")\n",
    "\n"
   ]
  },
  {
   "cell_type": "code",
   "execution_count": 26,
   "metadata": {},
   "outputs": [
    {
     "data": {
      "text/html": [
       "<div>\n",
       "<style scoped>\n",
       "    .dataframe tbody tr th:only-of-type {\n",
       "        vertical-align: middle;\n",
       "    }\n",
       "\n",
       "    .dataframe tbody tr th {\n",
       "        vertical-align: top;\n",
       "    }\n",
       "\n",
       "    .dataframe thead th {\n",
       "        text-align: right;\n",
       "    }\n",
       "</style>\n",
       "<table border=\"1\" class=\"dataframe\">\n",
       "  <thead>\n",
       "    <tr style=\"text-align: right;\">\n",
       "      <th></th>\n",
       "      <th>title</th>\n",
       "      <th>description</th>\n",
       "      <th>content</th>\n",
       "      <th>publish_date</th>\n",
       "      <th>date</th>\n",
       "      <th>summary</th>\n",
       "    </tr>\n",
       "  </thead>\n",
       "  <tbody>\n",
       "    <tr>\n",
       "      <th>0</th>\n",
       "      <td>‘Painted into a corner’: can generative AI sav...</td>\n",
       "      <td>Mark Zuckerberg says in earnings call that com...</td>\n",
       "      <td>Meta is not pivoting away from its signature p...</td>\n",
       "      <td>2023-05-11 05:00:17+00:00</td>\n",
       "      <td>2023-05-11</td>\n",
       "      <td>‘Painted into a corner’: can generative AI sav...</td>\n",
       "    </tr>\n",
       "    <tr>\n",
       "      <th>1</th>\n",
       "      <td>Yes, the Metaverse Is Still Happening</td>\n",
       "      <td>There’s still much hype around the metaverse. ...</td>\n",
       "      <td>Don’t get left behind while competitors contin...</td>\n",
       "      <td>2023-05-12 15:00:00+00:00</td>\n",
       "      <td>2023-05-12</td>\n",
       "      <td>Yes, the Metaverse Is Still Happening There’s ...</td>\n",
       "    </tr>\n",
       "    <tr>\n",
       "      <th>2</th>\n",
       "      <td>Starburst opens Juicyverse experience in metav...</td>\n",
       "      <td>Starburst has launched its Juicyverse experien...</td>\n",
       "      <td>Starburst has launched its Juicyverse experien...</td>\n",
       "      <td>2023-05-11 14:30:00+00:00</td>\n",
       "      <td>2023-05-11</td>\n",
       "      <td>Starburst opens Juicyverse experience in metav...</td>\n",
       "    </tr>\n",
       "    <tr>\n",
       "      <th>3</th>\n",
       "      <td>Metaverse Could Contribute Up To 2.4% of US GD...</td>\n",
       "      <td>A study commissioned by Meta has found that th...</td>\n",
       "      <td>The concept of the metaverse includes augmente...</td>\n",
       "      <td>2023-05-10 01:25:00+00:00</td>\n",
       "      <td>2023-05-10</td>\n",
       "      <td>Metaverse Could Contribute Up To 2.4% of US GD...</td>\n",
       "    </tr>\n",
       "    <tr>\n",
       "      <th>4</th>\n",
       "      <td>Activision Boss Hyped About AI, Suggests It Co...</td>\n",
       "      <td>There’s always a new tech trend being billed a...</td>\n",
       "      <td>Theres always a new tech trend being billed as...</td>\n",
       "      <td>2023-05-11 20:11:00+00:00</td>\n",
       "      <td>2023-05-11</td>\n",
       "      <td>Activision Boss Hyped About AI, Suggests It Co...</td>\n",
       "    </tr>\n",
       "    <tr>\n",
       "      <th>...</th>\n",
       "      <td>...</td>\n",
       "      <td>...</td>\n",
       "      <td>...</td>\n",
       "      <td>...</td>\n",
       "      <td>...</td>\n",
       "      <td>...</td>\n",
       "    </tr>\n",
       "    <tr>\n",
       "      <th>1495</th>\n",
       "      <td>'SpinOk' spyware found in 193 more Android apps</td>\n",
       "      <td>About a week ago, we talked about the so-calle...</td>\n",
       "      <td>About a week ago, we talked about the so-calle...</td>\n",
       "      <td>2023-06-08 09:29:31+00:00</td>\n",
       "      <td>2023-06-08</td>\n",
       "      <td>'SpinOk' spyware found in 193 more Android app...</td>\n",
       "    </tr>\n",
       "    <tr>\n",
       "      <th>1496</th>\n",
       "      <td>Apple vision pro just brilliantly destroyed me...</td>\n",
       "      <td>I’d really hate to be Mark Zuckerberg right no...</td>\n",
       "      <td>Skip to comments.\\r\\nApple vision pro just bri...</td>\n",
       "      <td>2023-06-07 01:44:10+00:00</td>\n",
       "      <td>2023-06-07</td>\n",
       "      <td>Apple vision pro just brilliantly destroyed me...</td>\n",
       "    </tr>\n",
       "    <tr>\n",
       "      <th>1497</th>\n",
       "      <td>Q2 2023 Metaverse Development Trends and Appli...</td>\n",
       "      <td>DUBLIN, June 6, 2023 /PRNewswire/ -- The \"Deve...</td>\n",
       "      <td>DUBLIN, June 6, 2023 /PRNewswire/ -- The \"Deve...</td>\n",
       "      <td>2023-06-07 00:15:00+00:00</td>\n",
       "      <td>2023-06-07</td>\n",
       "      <td>Q2 2023 Metaverse Development Trends and Appli...</td>\n",
       "    </tr>\n",
       "    <tr>\n",
       "      <th>1498</th>\n",
       "      <td>There are 5 reasons why Nvidia stock is a top ...</td>\n",
       "      <td>\"Net-net, we gain more confidence Nvidia can s...</td>\n",
       "      <td>Even after Nvidia'sAI-fueled, year-to-date ral...</td>\n",
       "      <td>2023-06-07 16:28:31+00:00</td>\n",
       "      <td>2023-06-07</td>\n",
       "      <td>There are 5 reasons why Nvidia stock is a top ...</td>\n",
       "    </tr>\n",
       "    <tr>\n",
       "      <th>1499</th>\n",
       "      <td>Marvion Announces US$15million Acquisition of ...</td>\n",
       "      <td>SINGAPORE, June 8, 2023 /PRNewswire/ -- Marvio...</td>\n",
       "      <td>SINGAPORE, June 8, 2023 /PRNewswire/ -- Marvio...</td>\n",
       "      <td>2023-06-08 12:18:00+00:00</td>\n",
       "      <td>2023-06-08</td>\n",
       "      <td>Marvion Announces US$15million Acquisition of ...</td>\n",
       "    </tr>\n",
       "  </tbody>\n",
       "</table>\n",
       "<p>1500 rows × 6 columns</p>\n",
       "</div>"
      ],
      "text/plain": [
       "                                                  title  \\\n",
       "0     ‘Painted into a corner’: can generative AI sav...   \n",
       "1                 Yes, the Metaverse Is Still Happening   \n",
       "2     Starburst opens Juicyverse experience in metav...   \n",
       "3     Metaverse Could Contribute Up To 2.4% of US GD...   \n",
       "4     Activision Boss Hyped About AI, Suggests It Co...   \n",
       "...                                                 ...   \n",
       "1495    'SpinOk' spyware found in 193 more Android apps   \n",
       "1496  Apple vision pro just brilliantly destroyed me...   \n",
       "1497  Q2 2023 Metaverse Development Trends and Appli...   \n",
       "1498  There are 5 reasons why Nvidia stock is a top ...   \n",
       "1499  Marvion Announces US$15million Acquisition of ...   \n",
       "\n",
       "                                            description  \\\n",
       "0     Mark Zuckerberg says in earnings call that com...   \n",
       "1     There’s still much hype around the metaverse. ...   \n",
       "2     Starburst has launched its Juicyverse experien...   \n",
       "3     A study commissioned by Meta has found that th...   \n",
       "4     There’s always a new tech trend being billed a...   \n",
       "...                                                 ...   \n",
       "1495  About a week ago, we talked about the so-calle...   \n",
       "1496  I’d really hate to be Mark Zuckerberg right no...   \n",
       "1497  DUBLIN, June 6, 2023 /PRNewswire/ -- The \"Deve...   \n",
       "1498  \"Net-net, we gain more confidence Nvidia can s...   \n",
       "1499  SINGAPORE, June 8, 2023 /PRNewswire/ -- Marvio...   \n",
       "\n",
       "                                                content  \\\n",
       "0     Meta is not pivoting away from its signature p...   \n",
       "1     Don’t get left behind while competitors contin...   \n",
       "2     Starburst has launched its Juicyverse experien...   \n",
       "3     The concept of the metaverse includes augmente...   \n",
       "4     Theres always a new tech trend being billed as...   \n",
       "...                                                 ...   \n",
       "1495  About a week ago, we talked about the so-calle...   \n",
       "1496  Skip to comments.\\r\\nApple vision pro just bri...   \n",
       "1497  DUBLIN, June 6, 2023 /PRNewswire/ -- The \"Deve...   \n",
       "1498  Even after Nvidia'sAI-fueled, year-to-date ral...   \n",
       "1499  SINGAPORE, June 8, 2023 /PRNewswire/ -- Marvio...   \n",
       "\n",
       "                  publish_date        date  \\\n",
       "0    2023-05-11 05:00:17+00:00  2023-05-11   \n",
       "1    2023-05-12 15:00:00+00:00  2023-05-12   \n",
       "2    2023-05-11 14:30:00+00:00  2023-05-11   \n",
       "3    2023-05-10 01:25:00+00:00  2023-05-10   \n",
       "4    2023-05-11 20:11:00+00:00  2023-05-11   \n",
       "...                        ...         ...   \n",
       "1495 2023-06-08 09:29:31+00:00  2023-06-08   \n",
       "1496 2023-06-07 01:44:10+00:00  2023-06-07   \n",
       "1497 2023-06-07 00:15:00+00:00  2023-06-07   \n",
       "1498 2023-06-07 16:28:31+00:00  2023-06-07   \n",
       "1499 2023-06-08 12:18:00+00:00  2023-06-08   \n",
       "\n",
       "                                                summary  \n",
       "0     ‘Painted into a corner’: can generative AI sav...  \n",
       "1     Yes, the Metaverse Is Still Happening There’s ...  \n",
       "2     Starburst opens Juicyverse experience in metav...  \n",
       "3     Metaverse Could Contribute Up To 2.4% of US GD...  \n",
       "4     Activision Boss Hyped About AI, Suggests It Co...  \n",
       "...                                                 ...  \n",
       "1495  'SpinOk' spyware found in 193 more Android app...  \n",
       "1496  Apple vision pro just brilliantly destroyed me...  \n",
       "1497  Q2 2023 Metaverse Development Trends and Appli...  \n",
       "1498  There are 5 reasons why Nvidia stock is a top ...  \n",
       "1499  Marvion Announces US$15million Acquisition of ...  \n",
       "\n",
       "[1500 rows x 6 columns]"
      ]
     },
     "execution_count": 26,
     "metadata": {},
     "output_type": "execute_result"
    }
   ],
   "source": [
    "df_news[\"summary\"] = df_news[\"title\"] + \" \" + df_news[\"description\"] + \" \" + df_news[\"content\"]\n",
    "df_news"
   ]
  },
  {
   "cell_type": "code",
   "execution_count": 27,
   "metadata": {},
   "outputs": [],
   "source": [
    "# Drop the rows with NaN values in the \"summary\" column\n",
    "df_news = df_news.dropna(subset=['summary'])"
   ]
  },
  {
   "cell_type": "code",
   "execution_count": 28,
   "metadata": {},
   "outputs": [],
   "source": [
    "df_news_copy = df_news.copy()"
   ]
  },
  {
   "cell_type": "markdown",
   "metadata": {},
   "source": [
    "Applying the classifier model"
   ]
  },
  {
   "cell_type": "code",
   "execution_count": 29,
   "metadata": {},
   "outputs": [],
   "source": [
    "import flair\n",
    "\n",
    "# Load the sentiment classifier\n",
    "classifier = flair.models.TextClassifier.load('en-sentiment')\n",
    "\n",
    "# Define a function for sentiment analysis\n",
    "def sentiment_analysis(text):\n",
    "    sentence = flair.data.Sentence(text)\n",
    "    classifier.predict(sentence)\n",
    "    label = sentence.labels[0].value\n",
    "    score = sentence.labels[0].score\n",
    "    return label, score\n"
   ]
  },
  {
   "cell_type": "code",
   "execution_count": 30,
   "metadata": {},
   "outputs": [],
   "source": [
    "# Convert DataFrame to dictionary\n",
    "data_dict = df_news['summary'].to_dict()"
   ]
  },
  {
   "cell_type": "code",
   "execution_count": 31,
   "metadata": {},
   "outputs": [],
   "source": [
    "# Apply sentiment analysis to the dictionary\n",
    "sentiment_results = {key: sentiment_analysis(value) for key, value in data_dict.items()}"
   ]
  },
  {
   "cell_type": "code",
   "execution_count": 32,
   "metadata": {},
   "outputs": [],
   "source": [
    "# Convert sentiment results dictionary to DataFrame\n",
    "sentiment_df = pd.DataFrame.from_dict(sentiment_results, orient='index', columns=['label', 'score'])\n",
    "\n",
    "# Merge sentiment results DataFrame with the original DataFrame\n",
    "df_news = pd.concat([df_news, sentiment_df], axis=1)"
   ]
  },
  {
   "cell_type": "code",
   "execution_count": 33,
   "metadata": {},
   "outputs": [
    {
     "data": {
      "text/html": [
       "<div>\n",
       "<style scoped>\n",
       "    .dataframe tbody tr th:only-of-type {\n",
       "        vertical-align: middle;\n",
       "    }\n",
       "\n",
       "    .dataframe tbody tr th {\n",
       "        vertical-align: top;\n",
       "    }\n",
       "\n",
       "    .dataframe thead th {\n",
       "        text-align: right;\n",
       "    }\n",
       "</style>\n",
       "<table border=\"1\" class=\"dataframe\">\n",
       "  <thead>\n",
       "    <tr style=\"text-align: right;\">\n",
       "      <th></th>\n",
       "      <th>title</th>\n",
       "      <th>description</th>\n",
       "      <th>content</th>\n",
       "      <th>publish_date</th>\n",
       "      <th>date</th>\n",
       "      <th>summary</th>\n",
       "      <th>label</th>\n",
       "      <th>score</th>\n",
       "    </tr>\n",
       "  </thead>\n",
       "  <tbody>\n",
       "    <tr>\n",
       "      <th>0</th>\n",
       "      <td>‘Painted into a corner’: can generative AI sav...</td>\n",
       "      <td>Mark Zuckerberg says in earnings call that com...</td>\n",
       "      <td>Meta is not pivoting away from its signature p...</td>\n",
       "      <td>2023-05-11 05:00:17+00:00</td>\n",
       "      <td>2023-05-11</td>\n",
       "      <td>‘Painted into a corner’: can generative AI sav...</td>\n",
       "      <td>NEGATIVE</td>\n",
       "      <td>0.999829</td>\n",
       "    </tr>\n",
       "    <tr>\n",
       "      <th>1</th>\n",
       "      <td>Yes, the Metaverse Is Still Happening</td>\n",
       "      <td>There’s still much hype around the metaverse. ...</td>\n",
       "      <td>Don’t get left behind while competitors contin...</td>\n",
       "      <td>2023-05-12 15:00:00+00:00</td>\n",
       "      <td>2023-05-12</td>\n",
       "      <td>Yes, the Metaverse Is Still Happening There’s ...</td>\n",
       "      <td>NEGATIVE</td>\n",
       "      <td>0.841264</td>\n",
       "    </tr>\n",
       "    <tr>\n",
       "      <th>2</th>\n",
       "      <td>Starburst opens Juicyverse experience in metav...</td>\n",
       "      <td>Starburst has launched its Juicyverse experien...</td>\n",
       "      <td>Starburst has launched its Juicyverse experien...</td>\n",
       "      <td>2023-05-11 14:30:00+00:00</td>\n",
       "      <td>2023-05-11</td>\n",
       "      <td>Starburst opens Juicyverse experience in metav...</td>\n",
       "      <td>POSITIVE</td>\n",
       "      <td>0.997464</td>\n",
       "    </tr>\n",
       "    <tr>\n",
       "      <th>3</th>\n",
       "      <td>Metaverse Could Contribute Up To 2.4% of US GD...</td>\n",
       "      <td>A study commissioned by Meta has found that th...</td>\n",
       "      <td>The concept of the metaverse includes augmente...</td>\n",
       "      <td>2023-05-10 01:25:00+00:00</td>\n",
       "      <td>2023-05-10</td>\n",
       "      <td>Metaverse Could Contribute Up To 2.4% of US GD...</td>\n",
       "      <td>POSITIVE</td>\n",
       "      <td>0.706658</td>\n",
       "    </tr>\n",
       "    <tr>\n",
       "      <th>4</th>\n",
       "      <td>Activision Boss Hyped About AI, Suggests It Co...</td>\n",
       "      <td>There’s always a new tech trend being billed a...</td>\n",
       "      <td>Theres always a new tech trend being billed as...</td>\n",
       "      <td>2023-05-11 20:11:00+00:00</td>\n",
       "      <td>2023-05-11</td>\n",
       "      <td>Activision Boss Hyped About AI, Suggests It Co...</td>\n",
       "      <td>NEGATIVE</td>\n",
       "      <td>0.987233</td>\n",
       "    </tr>\n",
       "    <tr>\n",
       "      <th>...</th>\n",
       "      <td>...</td>\n",
       "      <td>...</td>\n",
       "      <td>...</td>\n",
       "      <td>...</td>\n",
       "      <td>...</td>\n",
       "      <td>...</td>\n",
       "      <td>...</td>\n",
       "      <td>...</td>\n",
       "    </tr>\n",
       "    <tr>\n",
       "      <th>1495</th>\n",
       "      <td>'SpinOk' spyware found in 193 more Android apps</td>\n",
       "      <td>About a week ago, we talked about the so-calle...</td>\n",
       "      <td>About a week ago, we talked about the so-calle...</td>\n",
       "      <td>2023-06-08 09:29:31+00:00</td>\n",
       "      <td>2023-06-08</td>\n",
       "      <td>'SpinOk' spyware found in 193 more Android app...</td>\n",
       "      <td>NEGATIVE</td>\n",
       "      <td>0.999973</td>\n",
       "    </tr>\n",
       "    <tr>\n",
       "      <th>1496</th>\n",
       "      <td>Apple vision pro just brilliantly destroyed me...</td>\n",
       "      <td>I’d really hate to be Mark Zuckerberg right no...</td>\n",
       "      <td>Skip to comments.\\r\\nApple vision pro just bri...</td>\n",
       "      <td>2023-06-07 01:44:10+00:00</td>\n",
       "      <td>2023-06-07</td>\n",
       "      <td>Apple vision pro just brilliantly destroyed me...</td>\n",
       "      <td>NEGATIVE</td>\n",
       "      <td>0.999934</td>\n",
       "    </tr>\n",
       "    <tr>\n",
       "      <th>1497</th>\n",
       "      <td>Q2 2023 Metaverse Development Trends and Appli...</td>\n",
       "      <td>DUBLIN, June 6, 2023 /PRNewswire/ -- The \"Deve...</td>\n",
       "      <td>DUBLIN, June 6, 2023 /PRNewswire/ -- The \"Deve...</td>\n",
       "      <td>2023-06-07 00:15:00+00:00</td>\n",
       "      <td>2023-06-07</td>\n",
       "      <td>Q2 2023 Metaverse Development Trends and Appli...</td>\n",
       "      <td>POSITIVE</td>\n",
       "      <td>0.977257</td>\n",
       "    </tr>\n",
       "    <tr>\n",
       "      <th>1498</th>\n",
       "      <td>There are 5 reasons why Nvidia stock is a top ...</td>\n",
       "      <td>\"Net-net, we gain more confidence Nvidia can s...</td>\n",
       "      <td>Even after Nvidia'sAI-fueled, year-to-date ral...</td>\n",
       "      <td>2023-06-07 16:28:31+00:00</td>\n",
       "      <td>2023-06-07</td>\n",
       "      <td>There are 5 reasons why Nvidia stock is a top ...</td>\n",
       "      <td>NEGATIVE</td>\n",
       "      <td>0.998654</td>\n",
       "    </tr>\n",
       "    <tr>\n",
       "      <th>1499</th>\n",
       "      <td>Marvion Announces US$15million Acquisition of ...</td>\n",
       "      <td>SINGAPORE, June 8, 2023 /PRNewswire/ -- Marvio...</td>\n",
       "      <td>SINGAPORE, June 8, 2023 /PRNewswire/ -- Marvio...</td>\n",
       "      <td>2023-06-08 12:18:00+00:00</td>\n",
       "      <td>2023-06-08</td>\n",
       "      <td>Marvion Announces US$15million Acquisition of ...</td>\n",
       "      <td>POSITIVE</td>\n",
       "      <td>0.935245</td>\n",
       "    </tr>\n",
       "  </tbody>\n",
       "</table>\n",
       "<p>1500 rows × 8 columns</p>\n",
       "</div>"
      ],
      "text/plain": [
       "                                                  title  \\\n",
       "0     ‘Painted into a corner’: can generative AI sav...   \n",
       "1                 Yes, the Metaverse Is Still Happening   \n",
       "2     Starburst opens Juicyverse experience in metav...   \n",
       "3     Metaverse Could Contribute Up To 2.4% of US GD...   \n",
       "4     Activision Boss Hyped About AI, Suggests It Co...   \n",
       "...                                                 ...   \n",
       "1495    'SpinOk' spyware found in 193 more Android apps   \n",
       "1496  Apple vision pro just brilliantly destroyed me...   \n",
       "1497  Q2 2023 Metaverse Development Trends and Appli...   \n",
       "1498  There are 5 reasons why Nvidia stock is a top ...   \n",
       "1499  Marvion Announces US$15million Acquisition of ...   \n",
       "\n",
       "                                            description  \\\n",
       "0     Mark Zuckerberg says in earnings call that com...   \n",
       "1     There’s still much hype around the metaverse. ...   \n",
       "2     Starburst has launched its Juicyverse experien...   \n",
       "3     A study commissioned by Meta has found that th...   \n",
       "4     There’s always a new tech trend being billed a...   \n",
       "...                                                 ...   \n",
       "1495  About a week ago, we talked about the so-calle...   \n",
       "1496  I’d really hate to be Mark Zuckerberg right no...   \n",
       "1497  DUBLIN, June 6, 2023 /PRNewswire/ -- The \"Deve...   \n",
       "1498  \"Net-net, we gain more confidence Nvidia can s...   \n",
       "1499  SINGAPORE, June 8, 2023 /PRNewswire/ -- Marvio...   \n",
       "\n",
       "                                                content  \\\n",
       "0     Meta is not pivoting away from its signature p...   \n",
       "1     Don’t get left behind while competitors contin...   \n",
       "2     Starburst has launched its Juicyverse experien...   \n",
       "3     The concept of the metaverse includes augmente...   \n",
       "4     Theres always a new tech trend being billed as...   \n",
       "...                                                 ...   \n",
       "1495  About a week ago, we talked about the so-calle...   \n",
       "1496  Skip to comments.\\r\\nApple vision pro just bri...   \n",
       "1497  DUBLIN, June 6, 2023 /PRNewswire/ -- The \"Deve...   \n",
       "1498  Even after Nvidia'sAI-fueled, year-to-date ral...   \n",
       "1499  SINGAPORE, June 8, 2023 /PRNewswire/ -- Marvio...   \n",
       "\n",
       "                  publish_date        date  \\\n",
       "0    2023-05-11 05:00:17+00:00  2023-05-11   \n",
       "1    2023-05-12 15:00:00+00:00  2023-05-12   \n",
       "2    2023-05-11 14:30:00+00:00  2023-05-11   \n",
       "3    2023-05-10 01:25:00+00:00  2023-05-10   \n",
       "4    2023-05-11 20:11:00+00:00  2023-05-11   \n",
       "...                        ...         ...   \n",
       "1495 2023-06-08 09:29:31+00:00  2023-06-08   \n",
       "1496 2023-06-07 01:44:10+00:00  2023-06-07   \n",
       "1497 2023-06-07 00:15:00+00:00  2023-06-07   \n",
       "1498 2023-06-07 16:28:31+00:00  2023-06-07   \n",
       "1499 2023-06-08 12:18:00+00:00  2023-06-08   \n",
       "\n",
       "                                                summary     label     score  \n",
       "0     ‘Painted into a corner’: can generative AI sav...  NEGATIVE  0.999829  \n",
       "1     Yes, the Metaverse Is Still Happening There’s ...  NEGATIVE  0.841264  \n",
       "2     Starburst opens Juicyverse experience in metav...  POSITIVE  0.997464  \n",
       "3     Metaverse Could Contribute Up To 2.4% of US GD...  POSITIVE  0.706658  \n",
       "4     Activision Boss Hyped About AI, Suggests It Co...  NEGATIVE  0.987233  \n",
       "...                                                 ...       ...       ...  \n",
       "1495  'SpinOk' spyware found in 193 more Android app...  NEGATIVE  0.999973  \n",
       "1496  Apple vision pro just brilliantly destroyed me...  NEGATIVE  0.999934  \n",
       "1497  Q2 2023 Metaverse Development Trends and Appli...  POSITIVE  0.977257  \n",
       "1498  There are 5 reasons why Nvidia stock is a top ...  NEGATIVE  0.998654  \n",
       "1499  Marvion Announces US$15million Acquisition of ...  POSITIVE  0.935245  \n",
       "\n",
       "[1500 rows x 8 columns]"
      ]
     },
     "execution_count": 33,
     "metadata": {},
     "output_type": "execute_result"
    }
   ],
   "source": [
    "df_news"
   ]
  },
  {
   "cell_type": "code",
   "execution_count": 34,
   "metadata": {},
   "outputs": [],
   "source": [
    "# # Apply sentiment analysis function to the 'summary' column\n",
    "# df_news[['label', 'score']] = df_news['summary'].apply(lambda x: pd.Series(sentiment_analysis(x)))\n",
    "\n",
    "# # Now df_news contains two new columns: 'label' and 'score' with sentiment analysis results"
   ]
  },
  {
   "cell_type": "code",
   "execution_count": 35,
   "metadata": {},
   "outputs": [],
   "source": [
    "df_news['score'] = df_news.apply(lambda row: row['score'] * -1 if row['label'] == 'NEGATIVE' else row['score'], axis=1)"
   ]
  },
  {
   "cell_type": "code",
   "execution_count": 36,
   "metadata": {},
   "outputs": [
    {
     "data": {
      "text/html": [
       "<div>\n",
       "<style scoped>\n",
       "    .dataframe tbody tr th:only-of-type {\n",
       "        vertical-align: middle;\n",
       "    }\n",
       "\n",
       "    .dataframe tbody tr th {\n",
       "        vertical-align: top;\n",
       "    }\n",
       "\n",
       "    .dataframe thead th {\n",
       "        text-align: right;\n",
       "    }\n",
       "</style>\n",
       "<table border=\"1\" class=\"dataframe\">\n",
       "  <thead>\n",
       "    <tr style=\"text-align: right;\">\n",
       "      <th></th>\n",
       "      <th>title</th>\n",
       "      <th>description</th>\n",
       "      <th>content</th>\n",
       "      <th>publish_date</th>\n",
       "      <th>date</th>\n",
       "      <th>summary</th>\n",
       "      <th>label</th>\n",
       "      <th>score</th>\n",
       "    </tr>\n",
       "  </thead>\n",
       "  <tbody>\n",
       "    <tr>\n",
       "      <th>0</th>\n",
       "      <td>‘Painted into a corner’: can generative AI sav...</td>\n",
       "      <td>Mark Zuckerberg says in earnings call that com...</td>\n",
       "      <td>Meta is not pivoting away from its signature p...</td>\n",
       "      <td>2023-05-11 05:00:17+00:00</td>\n",
       "      <td>2023-05-11</td>\n",
       "      <td>‘Painted into a corner’: can generative AI sav...</td>\n",
       "      <td>NEGATIVE</td>\n",
       "      <td>-0.999829</td>\n",
       "    </tr>\n",
       "    <tr>\n",
       "      <th>1</th>\n",
       "      <td>Yes, the Metaverse Is Still Happening</td>\n",
       "      <td>There’s still much hype around the metaverse. ...</td>\n",
       "      <td>Don’t get left behind while competitors contin...</td>\n",
       "      <td>2023-05-12 15:00:00+00:00</td>\n",
       "      <td>2023-05-12</td>\n",
       "      <td>Yes, the Metaverse Is Still Happening There’s ...</td>\n",
       "      <td>NEGATIVE</td>\n",
       "      <td>-0.841264</td>\n",
       "    </tr>\n",
       "    <tr>\n",
       "      <th>2</th>\n",
       "      <td>Starburst opens Juicyverse experience in metav...</td>\n",
       "      <td>Starburst has launched its Juicyverse experien...</td>\n",
       "      <td>Starburst has launched its Juicyverse experien...</td>\n",
       "      <td>2023-05-11 14:30:00+00:00</td>\n",
       "      <td>2023-05-11</td>\n",
       "      <td>Starburst opens Juicyverse experience in metav...</td>\n",
       "      <td>POSITIVE</td>\n",
       "      <td>0.997464</td>\n",
       "    </tr>\n",
       "    <tr>\n",
       "      <th>3</th>\n",
       "      <td>Metaverse Could Contribute Up To 2.4% of US GD...</td>\n",
       "      <td>A study commissioned by Meta has found that th...</td>\n",
       "      <td>The concept of the metaverse includes augmente...</td>\n",
       "      <td>2023-05-10 01:25:00+00:00</td>\n",
       "      <td>2023-05-10</td>\n",
       "      <td>Metaverse Could Contribute Up To 2.4% of US GD...</td>\n",
       "      <td>POSITIVE</td>\n",
       "      <td>0.706658</td>\n",
       "    </tr>\n",
       "    <tr>\n",
       "      <th>4</th>\n",
       "      <td>Activision Boss Hyped About AI, Suggests It Co...</td>\n",
       "      <td>There’s always a new tech trend being billed a...</td>\n",
       "      <td>Theres always a new tech trend being billed as...</td>\n",
       "      <td>2023-05-11 20:11:00+00:00</td>\n",
       "      <td>2023-05-11</td>\n",
       "      <td>Activision Boss Hyped About AI, Suggests It Co...</td>\n",
       "      <td>NEGATIVE</td>\n",
       "      <td>-0.987233</td>\n",
       "    </tr>\n",
       "    <tr>\n",
       "      <th>...</th>\n",
       "      <td>...</td>\n",
       "      <td>...</td>\n",
       "      <td>...</td>\n",
       "      <td>...</td>\n",
       "      <td>...</td>\n",
       "      <td>...</td>\n",
       "      <td>...</td>\n",
       "      <td>...</td>\n",
       "    </tr>\n",
       "    <tr>\n",
       "      <th>1495</th>\n",
       "      <td>'SpinOk' spyware found in 193 more Android apps</td>\n",
       "      <td>About a week ago, we talked about the so-calle...</td>\n",
       "      <td>About a week ago, we talked about the so-calle...</td>\n",
       "      <td>2023-06-08 09:29:31+00:00</td>\n",
       "      <td>2023-06-08</td>\n",
       "      <td>'SpinOk' spyware found in 193 more Android app...</td>\n",
       "      <td>NEGATIVE</td>\n",
       "      <td>-0.999973</td>\n",
       "    </tr>\n",
       "    <tr>\n",
       "      <th>1496</th>\n",
       "      <td>Apple vision pro just brilliantly destroyed me...</td>\n",
       "      <td>I’d really hate to be Mark Zuckerberg right no...</td>\n",
       "      <td>Skip to comments.\\r\\nApple vision pro just bri...</td>\n",
       "      <td>2023-06-07 01:44:10+00:00</td>\n",
       "      <td>2023-06-07</td>\n",
       "      <td>Apple vision pro just brilliantly destroyed me...</td>\n",
       "      <td>NEGATIVE</td>\n",
       "      <td>-0.999934</td>\n",
       "    </tr>\n",
       "    <tr>\n",
       "      <th>1497</th>\n",
       "      <td>Q2 2023 Metaverse Development Trends and Appli...</td>\n",
       "      <td>DUBLIN, June 6, 2023 /PRNewswire/ -- The \"Deve...</td>\n",
       "      <td>DUBLIN, June 6, 2023 /PRNewswire/ -- The \"Deve...</td>\n",
       "      <td>2023-06-07 00:15:00+00:00</td>\n",
       "      <td>2023-06-07</td>\n",
       "      <td>Q2 2023 Metaverse Development Trends and Appli...</td>\n",
       "      <td>POSITIVE</td>\n",
       "      <td>0.977257</td>\n",
       "    </tr>\n",
       "    <tr>\n",
       "      <th>1498</th>\n",
       "      <td>There are 5 reasons why Nvidia stock is a top ...</td>\n",
       "      <td>\"Net-net, we gain more confidence Nvidia can s...</td>\n",
       "      <td>Even after Nvidia'sAI-fueled, year-to-date ral...</td>\n",
       "      <td>2023-06-07 16:28:31+00:00</td>\n",
       "      <td>2023-06-07</td>\n",
       "      <td>There are 5 reasons why Nvidia stock is a top ...</td>\n",
       "      <td>NEGATIVE</td>\n",
       "      <td>-0.998654</td>\n",
       "    </tr>\n",
       "    <tr>\n",
       "      <th>1499</th>\n",
       "      <td>Marvion Announces US$15million Acquisition of ...</td>\n",
       "      <td>SINGAPORE, June 8, 2023 /PRNewswire/ -- Marvio...</td>\n",
       "      <td>SINGAPORE, June 8, 2023 /PRNewswire/ -- Marvio...</td>\n",
       "      <td>2023-06-08 12:18:00+00:00</td>\n",
       "      <td>2023-06-08</td>\n",
       "      <td>Marvion Announces US$15million Acquisition of ...</td>\n",
       "      <td>POSITIVE</td>\n",
       "      <td>0.935245</td>\n",
       "    </tr>\n",
       "  </tbody>\n",
       "</table>\n",
       "<p>1500 rows × 8 columns</p>\n",
       "</div>"
      ],
      "text/plain": [
       "                                                  title  \\\n",
       "0     ‘Painted into a corner’: can generative AI sav...   \n",
       "1                 Yes, the Metaverse Is Still Happening   \n",
       "2     Starburst opens Juicyverse experience in metav...   \n",
       "3     Metaverse Could Contribute Up To 2.4% of US GD...   \n",
       "4     Activision Boss Hyped About AI, Suggests It Co...   \n",
       "...                                                 ...   \n",
       "1495    'SpinOk' spyware found in 193 more Android apps   \n",
       "1496  Apple vision pro just brilliantly destroyed me...   \n",
       "1497  Q2 2023 Metaverse Development Trends and Appli...   \n",
       "1498  There are 5 reasons why Nvidia stock is a top ...   \n",
       "1499  Marvion Announces US$15million Acquisition of ...   \n",
       "\n",
       "                                            description  \\\n",
       "0     Mark Zuckerberg says in earnings call that com...   \n",
       "1     There’s still much hype around the metaverse. ...   \n",
       "2     Starburst has launched its Juicyverse experien...   \n",
       "3     A study commissioned by Meta has found that th...   \n",
       "4     There’s always a new tech trend being billed a...   \n",
       "...                                                 ...   \n",
       "1495  About a week ago, we talked about the so-calle...   \n",
       "1496  I’d really hate to be Mark Zuckerberg right no...   \n",
       "1497  DUBLIN, June 6, 2023 /PRNewswire/ -- The \"Deve...   \n",
       "1498  \"Net-net, we gain more confidence Nvidia can s...   \n",
       "1499  SINGAPORE, June 8, 2023 /PRNewswire/ -- Marvio...   \n",
       "\n",
       "                                                content  \\\n",
       "0     Meta is not pivoting away from its signature p...   \n",
       "1     Don’t get left behind while competitors contin...   \n",
       "2     Starburst has launched its Juicyverse experien...   \n",
       "3     The concept of the metaverse includes augmente...   \n",
       "4     Theres always a new tech trend being billed as...   \n",
       "...                                                 ...   \n",
       "1495  About a week ago, we talked about the so-calle...   \n",
       "1496  Skip to comments.\\r\\nApple vision pro just bri...   \n",
       "1497  DUBLIN, June 6, 2023 /PRNewswire/ -- The \"Deve...   \n",
       "1498  Even after Nvidia'sAI-fueled, year-to-date ral...   \n",
       "1499  SINGAPORE, June 8, 2023 /PRNewswire/ -- Marvio...   \n",
       "\n",
       "                  publish_date        date  \\\n",
       "0    2023-05-11 05:00:17+00:00  2023-05-11   \n",
       "1    2023-05-12 15:00:00+00:00  2023-05-12   \n",
       "2    2023-05-11 14:30:00+00:00  2023-05-11   \n",
       "3    2023-05-10 01:25:00+00:00  2023-05-10   \n",
       "4    2023-05-11 20:11:00+00:00  2023-05-11   \n",
       "...                        ...         ...   \n",
       "1495 2023-06-08 09:29:31+00:00  2023-06-08   \n",
       "1496 2023-06-07 01:44:10+00:00  2023-06-07   \n",
       "1497 2023-06-07 00:15:00+00:00  2023-06-07   \n",
       "1498 2023-06-07 16:28:31+00:00  2023-06-07   \n",
       "1499 2023-06-08 12:18:00+00:00  2023-06-08   \n",
       "\n",
       "                                                summary     label     score  \n",
       "0     ‘Painted into a corner’: can generative AI sav...  NEGATIVE -0.999829  \n",
       "1     Yes, the Metaverse Is Still Happening There’s ...  NEGATIVE -0.841264  \n",
       "2     Starburst opens Juicyverse experience in metav...  POSITIVE  0.997464  \n",
       "3     Metaverse Could Contribute Up To 2.4% of US GD...  POSITIVE  0.706658  \n",
       "4     Activision Boss Hyped About AI, Suggests It Co...  NEGATIVE -0.987233  \n",
       "...                                                 ...       ...       ...  \n",
       "1495  'SpinOk' spyware found in 193 more Android app...  NEGATIVE -0.999973  \n",
       "1496  Apple vision pro just brilliantly destroyed me...  NEGATIVE -0.999934  \n",
       "1497  Q2 2023 Metaverse Development Trends and Appli...  POSITIVE  0.977257  \n",
       "1498  There are 5 reasons why Nvidia stock is a top ...  NEGATIVE -0.998654  \n",
       "1499  Marvion Announces US$15million Acquisition of ...  POSITIVE  0.935245  \n",
       "\n",
       "[1500 rows x 8 columns]"
      ]
     },
     "execution_count": 36,
     "metadata": {},
     "output_type": "execute_result"
    }
   ],
   "source": [
    "df_news"
   ]
  },
  {
   "cell_type": "code",
   "execution_count": 93,
   "metadata": {},
   "outputs": [
    {
     "data": {
      "text/html": [
       "<div>\n",
       "<style scoped>\n",
       "    .dataframe tbody tr th:only-of-type {\n",
       "        vertical-align: middle;\n",
       "    }\n",
       "\n",
       "    .dataframe tbody tr th {\n",
       "        vertical-align: top;\n",
       "    }\n",
       "\n",
       "    .dataframe thead th {\n",
       "        text-align: right;\n",
       "    }\n",
       "</style>\n",
       "<table border=\"1\" class=\"dataframe\">\n",
       "  <thead>\n",
       "    <tr style=\"text-align: right;\">\n",
       "      <th></th>\n",
       "      <th>date</th>\n",
       "      <th>moving_avg_score</th>\n",
       "    </tr>\n",
       "  </thead>\n",
       "  <tbody>\n",
       "    <tr>\n",
       "      <th>0</th>\n",
       "      <td>2023-05-11</td>\n",
       "      <td>0.024302</td>\n",
       "    </tr>\n",
       "    <tr>\n",
       "      <th>1</th>\n",
       "      <td>2023-05-12</td>\n",
       "      <td>0.172416</td>\n",
       "    </tr>\n",
       "    <tr>\n",
       "      <th>2</th>\n",
       "      <td>2023-05-13</td>\n",
       "      <td>-0.117903</td>\n",
       "    </tr>\n",
       "    <tr>\n",
       "      <th>3</th>\n",
       "      <td>2023-05-14</td>\n",
       "      <td>0.103021</td>\n",
       "    </tr>\n",
       "    <tr>\n",
       "      <th>4</th>\n",
       "      <td>2023-05-15</td>\n",
       "      <td>-0.047642</td>\n",
       "    </tr>\n",
       "    <tr>\n",
       "      <th>5</th>\n",
       "      <td>2023-05-16</td>\n",
       "      <td>-0.002618</td>\n",
       "    </tr>\n",
       "    <tr>\n",
       "      <th>6</th>\n",
       "      <td>2023-05-17</td>\n",
       "      <td>0.059553</td>\n",
       "    </tr>\n",
       "    <tr>\n",
       "      <th>7</th>\n",
       "      <td>2023-05-18</td>\n",
       "      <td>0.270738</td>\n",
       "    </tr>\n",
       "    <tr>\n",
       "      <th>8</th>\n",
       "      <td>2023-05-19</td>\n",
       "      <td>0.086082</td>\n",
       "    </tr>\n",
       "    <tr>\n",
       "      <th>9</th>\n",
       "      <td>2023-05-20</td>\n",
       "      <td>0.014329</td>\n",
       "    </tr>\n",
       "    <tr>\n",
       "      <th>10</th>\n",
       "      <td>2023-05-21</td>\n",
       "      <td>-0.309389</td>\n",
       "    </tr>\n",
       "    <tr>\n",
       "      <th>11</th>\n",
       "      <td>2023-05-22</td>\n",
       "      <td>0.175127</td>\n",
       "    </tr>\n",
       "    <tr>\n",
       "      <th>12</th>\n",
       "      <td>2023-05-23</td>\n",
       "      <td>0.380242</td>\n",
       "    </tr>\n",
       "    <tr>\n",
       "      <th>13</th>\n",
       "      <td>2023-05-24</td>\n",
       "      <td>0.006525</td>\n",
       "    </tr>\n",
       "    <tr>\n",
       "      <th>14</th>\n",
       "      <td>2023-05-25</td>\n",
       "      <td>0.107046</td>\n",
       "    </tr>\n",
       "    <tr>\n",
       "      <th>15</th>\n",
       "      <td>2023-05-26</td>\n",
       "      <td>-0.113904</td>\n",
       "    </tr>\n",
       "    <tr>\n",
       "      <th>16</th>\n",
       "      <td>2023-05-27</td>\n",
       "      <td>-0.113364</td>\n",
       "    </tr>\n",
       "    <tr>\n",
       "      <th>17</th>\n",
       "      <td>2023-05-28</td>\n",
       "      <td>-0.083289</td>\n",
       "    </tr>\n",
       "    <tr>\n",
       "      <th>18</th>\n",
       "      <td>2023-05-29</td>\n",
       "      <td>0.267677</td>\n",
       "    </tr>\n",
       "    <tr>\n",
       "      <th>19</th>\n",
       "      <td>2023-05-30</td>\n",
       "      <td>0.320157</td>\n",
       "    </tr>\n",
       "    <tr>\n",
       "      <th>20</th>\n",
       "      <td>2023-05-31</td>\n",
       "      <td>0.070480</td>\n",
       "    </tr>\n",
       "    <tr>\n",
       "      <th>21</th>\n",
       "      <td>2023-06-01</td>\n",
       "      <td>0.179066</td>\n",
       "    </tr>\n",
       "    <tr>\n",
       "      <th>22</th>\n",
       "      <td>2023-06-02</td>\n",
       "      <td>0.020902</td>\n",
       "    </tr>\n",
       "    <tr>\n",
       "      <th>23</th>\n",
       "      <td>2023-06-03</td>\n",
       "      <td>-0.238141</td>\n",
       "    </tr>\n",
       "    <tr>\n",
       "      <th>24</th>\n",
       "      <td>2023-06-04</td>\n",
       "      <td>-0.257147</td>\n",
       "    </tr>\n",
       "    <tr>\n",
       "      <th>25</th>\n",
       "      <td>2023-06-05</td>\n",
       "      <td>-0.062588</td>\n",
       "    </tr>\n",
       "    <tr>\n",
       "      <th>26</th>\n",
       "      <td>2023-06-06</td>\n",
       "      <td>-0.190871</td>\n",
       "    </tr>\n",
       "    <tr>\n",
       "      <th>27</th>\n",
       "      <td>2023-06-07</td>\n",
       "      <td>0.167729</td>\n",
       "    </tr>\n",
       "    <tr>\n",
       "      <th>28</th>\n",
       "      <td>2023-06-08</td>\n",
       "      <td>0.015972</td>\n",
       "    </tr>\n",
       "  </tbody>\n",
       "</table>\n",
       "</div>"
      ],
      "text/plain": [
       "         date  moving_avg_score\n",
       "0  2023-05-11          0.024302\n",
       "1  2023-05-12          0.172416\n",
       "2  2023-05-13         -0.117903\n",
       "3  2023-05-14          0.103021\n",
       "4  2023-05-15         -0.047642\n",
       "5  2023-05-16         -0.002618\n",
       "6  2023-05-17          0.059553\n",
       "7  2023-05-18          0.270738\n",
       "8  2023-05-19          0.086082\n",
       "9  2023-05-20          0.014329\n",
       "10 2023-05-21         -0.309389\n",
       "11 2023-05-22          0.175127\n",
       "12 2023-05-23          0.380242\n",
       "13 2023-05-24          0.006525\n",
       "14 2023-05-25          0.107046\n",
       "15 2023-05-26         -0.113904\n",
       "16 2023-05-27         -0.113364\n",
       "17 2023-05-28         -0.083289\n",
       "18 2023-05-29          0.267677\n",
       "19 2023-05-30          0.320157\n",
       "20 2023-05-31          0.070480\n",
       "21 2023-06-01          0.179066\n",
       "22 2023-06-02          0.020902\n",
       "23 2023-06-03         -0.238141\n",
       "24 2023-06-04         -0.257147\n",
       "25 2023-06-05         -0.062588\n",
       "26 2023-06-06         -0.190871\n",
       "27 2023-06-07          0.167729\n",
       "28 2023-06-08          0.015972"
      ]
     },
     "execution_count": 93,
     "metadata": {},
     "output_type": "execute_result"
    }
   ],
   "source": [
    "# Son 1 ayın tarih aralığını belirleme\n",
    "end_date = datetime.now()\n",
    "start_date = end_date - timedelta(days=30)\n",
    "\n",
    "\n",
    "# Tarih aralığına göre filtreleme\n",
    "filtered_data_news = df_news[(df_news['date'] >= start_date) & (df_news['date'] <= end_date)]\n",
    "\n",
    "# Hareketli ortalama hesaplama\n",
    "moving_avg_news = filtered_data_news.groupby('date')['score'].mean()\n",
    "\n",
    "# Yeni bir veri çerçevesi oluşturma\n",
    "df_moving_avg_news = pd.DataFrame({'date': moving_avg_news.index, 'moving_avg_score': moving_avg_news.values})\n",
    "df_moving_avg_news"
   ]
  },
  {
   "cell_type": "code",
   "execution_count": 95,
   "metadata": {},
   "outputs": [
    {
     "data": {
      "application/vnd.plotly.v1+json": {
       "config": {
        "plotlyServerURL": "https://plot.ly"
       },
       "data": [
        {
         "mode": "lines",
         "type": "scatter",
         "x": [
          "2023-05-11T00:00:00",
          "2023-05-12T00:00:00",
          "2023-05-13T00:00:00",
          "2023-05-14T00:00:00",
          "2023-05-15T00:00:00",
          "2023-05-16T00:00:00",
          "2023-05-17T00:00:00",
          "2023-05-18T00:00:00",
          "2023-05-19T00:00:00",
          "2023-05-20T00:00:00",
          "2023-05-21T00:00:00",
          "2023-05-22T00:00:00",
          "2023-05-23T00:00:00",
          "2023-05-24T00:00:00",
          "2023-05-25T00:00:00",
          "2023-05-26T00:00:00",
          "2023-05-27T00:00:00",
          "2023-05-28T00:00:00",
          "2023-05-29T00:00:00",
          "2023-05-30T00:00:00",
          "2023-05-31T00:00:00",
          "2023-06-01T00:00:00",
          "2023-06-02T00:00:00",
          "2023-06-03T00:00:00",
          "2023-06-04T00:00:00",
          "2023-06-05T00:00:00",
          "2023-06-06T00:00:00",
          "2023-06-07T00:00:00",
          "2023-06-08T00:00:00"
         ],
         "y": [
          0.024301996102204192,
          0.1724160999059677,
          -0.1179032867605036,
          0.10302113162146674,
          -0.04764232805797032,
          -0.002617710828781128,
          0.059552626950400214,
          0.27073764168854914,
          0.08608213928010729,
          0.014329209047205308,
          -0.30938857462671066,
          0.17512746651967367,
          0.38024201878794917,
          0.006524972072461757,
          0.107046480178833,
          -0.11390411351100509,
          -0.11336366114793,
          -0.08328926712274551,
          0.26767701877130046,
          0.32015690248306483,
          0.07048011819521587,
          0.1790655095909917,
          0.020901943125375886,
          -0.23814077723410823,
          -0.2571472250498258,
          -0.0625878910605724,
          -0.19087123605940076,
          0.1677293519383853,
          0.015972353518009186
         ]
        }
       ],
       "layout": {
        "template": {
         "data": {
          "bar": [
           {
            "error_x": {
             "color": "#2a3f5f"
            },
            "error_y": {
             "color": "#2a3f5f"
            },
            "marker": {
             "line": {
              "color": "#E5ECF6",
              "width": 0.5
             },
             "pattern": {
              "fillmode": "overlay",
              "size": 10,
              "solidity": 0.2
             }
            },
            "type": "bar"
           }
          ],
          "barpolar": [
           {
            "marker": {
             "line": {
              "color": "#E5ECF6",
              "width": 0.5
             },
             "pattern": {
              "fillmode": "overlay",
              "size": 10,
              "solidity": 0.2
             }
            },
            "type": "barpolar"
           }
          ],
          "carpet": [
           {
            "aaxis": {
             "endlinecolor": "#2a3f5f",
             "gridcolor": "white",
             "linecolor": "white",
             "minorgridcolor": "white",
             "startlinecolor": "#2a3f5f"
            },
            "baxis": {
             "endlinecolor": "#2a3f5f",
             "gridcolor": "white",
             "linecolor": "white",
             "minorgridcolor": "white",
             "startlinecolor": "#2a3f5f"
            },
            "type": "carpet"
           }
          ],
          "choropleth": [
           {
            "colorbar": {
             "outlinewidth": 0,
             "ticks": ""
            },
            "type": "choropleth"
           }
          ],
          "contour": [
           {
            "colorbar": {
             "outlinewidth": 0,
             "ticks": ""
            },
            "colorscale": [
             [
              0,
              "#0d0887"
             ],
             [
              0.1111111111111111,
              "#46039f"
             ],
             [
              0.2222222222222222,
              "#7201a8"
             ],
             [
              0.3333333333333333,
              "#9c179e"
             ],
             [
              0.4444444444444444,
              "#bd3786"
             ],
             [
              0.5555555555555556,
              "#d8576b"
             ],
             [
              0.6666666666666666,
              "#ed7953"
             ],
             [
              0.7777777777777778,
              "#fb9f3a"
             ],
             [
              0.8888888888888888,
              "#fdca26"
             ],
             [
              1,
              "#f0f921"
             ]
            ],
            "type": "contour"
           }
          ],
          "contourcarpet": [
           {
            "colorbar": {
             "outlinewidth": 0,
             "ticks": ""
            },
            "type": "contourcarpet"
           }
          ],
          "heatmap": [
           {
            "colorbar": {
             "outlinewidth": 0,
             "ticks": ""
            },
            "colorscale": [
             [
              0,
              "#0d0887"
             ],
             [
              0.1111111111111111,
              "#46039f"
             ],
             [
              0.2222222222222222,
              "#7201a8"
             ],
             [
              0.3333333333333333,
              "#9c179e"
             ],
             [
              0.4444444444444444,
              "#bd3786"
             ],
             [
              0.5555555555555556,
              "#d8576b"
             ],
             [
              0.6666666666666666,
              "#ed7953"
             ],
             [
              0.7777777777777778,
              "#fb9f3a"
             ],
             [
              0.8888888888888888,
              "#fdca26"
             ],
             [
              1,
              "#f0f921"
             ]
            ],
            "type": "heatmap"
           }
          ],
          "heatmapgl": [
           {
            "colorbar": {
             "outlinewidth": 0,
             "ticks": ""
            },
            "colorscale": [
             [
              0,
              "#0d0887"
             ],
             [
              0.1111111111111111,
              "#46039f"
             ],
             [
              0.2222222222222222,
              "#7201a8"
             ],
             [
              0.3333333333333333,
              "#9c179e"
             ],
             [
              0.4444444444444444,
              "#bd3786"
             ],
             [
              0.5555555555555556,
              "#d8576b"
             ],
             [
              0.6666666666666666,
              "#ed7953"
             ],
             [
              0.7777777777777778,
              "#fb9f3a"
             ],
             [
              0.8888888888888888,
              "#fdca26"
             ],
             [
              1,
              "#f0f921"
             ]
            ],
            "type": "heatmapgl"
           }
          ],
          "histogram": [
           {
            "marker": {
             "pattern": {
              "fillmode": "overlay",
              "size": 10,
              "solidity": 0.2
             }
            },
            "type": "histogram"
           }
          ],
          "histogram2d": [
           {
            "colorbar": {
             "outlinewidth": 0,
             "ticks": ""
            },
            "colorscale": [
             [
              0,
              "#0d0887"
             ],
             [
              0.1111111111111111,
              "#46039f"
             ],
             [
              0.2222222222222222,
              "#7201a8"
             ],
             [
              0.3333333333333333,
              "#9c179e"
             ],
             [
              0.4444444444444444,
              "#bd3786"
             ],
             [
              0.5555555555555556,
              "#d8576b"
             ],
             [
              0.6666666666666666,
              "#ed7953"
             ],
             [
              0.7777777777777778,
              "#fb9f3a"
             ],
             [
              0.8888888888888888,
              "#fdca26"
             ],
             [
              1,
              "#f0f921"
             ]
            ],
            "type": "histogram2d"
           }
          ],
          "histogram2dcontour": [
           {
            "colorbar": {
             "outlinewidth": 0,
             "ticks": ""
            },
            "colorscale": [
             [
              0,
              "#0d0887"
             ],
             [
              0.1111111111111111,
              "#46039f"
             ],
             [
              0.2222222222222222,
              "#7201a8"
             ],
             [
              0.3333333333333333,
              "#9c179e"
             ],
             [
              0.4444444444444444,
              "#bd3786"
             ],
             [
              0.5555555555555556,
              "#d8576b"
             ],
             [
              0.6666666666666666,
              "#ed7953"
             ],
             [
              0.7777777777777778,
              "#fb9f3a"
             ],
             [
              0.8888888888888888,
              "#fdca26"
             ],
             [
              1,
              "#f0f921"
             ]
            ],
            "type": "histogram2dcontour"
           }
          ],
          "mesh3d": [
           {
            "colorbar": {
             "outlinewidth": 0,
             "ticks": ""
            },
            "type": "mesh3d"
           }
          ],
          "parcoords": [
           {
            "line": {
             "colorbar": {
              "outlinewidth": 0,
              "ticks": ""
             }
            },
            "type": "parcoords"
           }
          ],
          "pie": [
           {
            "automargin": true,
            "type": "pie"
           }
          ],
          "scatter": [
           {
            "marker": {
             "colorbar": {
              "outlinewidth": 0,
              "ticks": ""
             }
            },
            "type": "scatter"
           }
          ],
          "scatter3d": [
           {
            "line": {
             "colorbar": {
              "outlinewidth": 0,
              "ticks": ""
             }
            },
            "marker": {
             "colorbar": {
              "outlinewidth": 0,
              "ticks": ""
             }
            },
            "type": "scatter3d"
           }
          ],
          "scattercarpet": [
           {
            "marker": {
             "colorbar": {
              "outlinewidth": 0,
              "ticks": ""
             }
            },
            "type": "scattercarpet"
           }
          ],
          "scattergeo": [
           {
            "marker": {
             "colorbar": {
              "outlinewidth": 0,
              "ticks": ""
             }
            },
            "type": "scattergeo"
           }
          ],
          "scattergl": [
           {
            "marker": {
             "colorbar": {
              "outlinewidth": 0,
              "ticks": ""
             }
            },
            "type": "scattergl"
           }
          ],
          "scattermapbox": [
           {
            "marker": {
             "colorbar": {
              "outlinewidth": 0,
              "ticks": ""
             }
            },
            "type": "scattermapbox"
           }
          ],
          "scatterpolar": [
           {
            "marker": {
             "colorbar": {
              "outlinewidth": 0,
              "ticks": ""
             }
            },
            "type": "scatterpolar"
           }
          ],
          "scatterpolargl": [
           {
            "marker": {
             "colorbar": {
              "outlinewidth": 0,
              "ticks": ""
             }
            },
            "type": "scatterpolargl"
           }
          ],
          "scatterternary": [
           {
            "marker": {
             "colorbar": {
              "outlinewidth": 0,
              "ticks": ""
             }
            },
            "type": "scatterternary"
           }
          ],
          "surface": [
           {
            "colorbar": {
             "outlinewidth": 0,
             "ticks": ""
            },
            "colorscale": [
             [
              0,
              "#0d0887"
             ],
             [
              0.1111111111111111,
              "#46039f"
             ],
             [
              0.2222222222222222,
              "#7201a8"
             ],
             [
              0.3333333333333333,
              "#9c179e"
             ],
             [
              0.4444444444444444,
              "#bd3786"
             ],
             [
              0.5555555555555556,
              "#d8576b"
             ],
             [
              0.6666666666666666,
              "#ed7953"
             ],
             [
              0.7777777777777778,
              "#fb9f3a"
             ],
             [
              0.8888888888888888,
              "#fdca26"
             ],
             [
              1,
              "#f0f921"
             ]
            ],
            "type": "surface"
           }
          ],
          "table": [
           {
            "cells": {
             "fill": {
              "color": "#EBF0F8"
             },
             "line": {
              "color": "white"
             }
            },
            "header": {
             "fill": {
              "color": "#C8D4E3"
             },
             "line": {
              "color": "white"
             }
            },
            "type": "table"
           }
          ]
         },
         "layout": {
          "annotationdefaults": {
           "arrowcolor": "#2a3f5f",
           "arrowhead": 0,
           "arrowwidth": 1
          },
          "autotypenumbers": "strict",
          "coloraxis": {
           "colorbar": {
            "outlinewidth": 0,
            "ticks": ""
           }
          },
          "colorscale": {
           "diverging": [
            [
             0,
             "#8e0152"
            ],
            [
             0.1,
             "#c51b7d"
            ],
            [
             0.2,
             "#de77ae"
            ],
            [
             0.3,
             "#f1b6da"
            ],
            [
             0.4,
             "#fde0ef"
            ],
            [
             0.5,
             "#f7f7f7"
            ],
            [
             0.6,
             "#e6f5d0"
            ],
            [
             0.7,
             "#b8e186"
            ],
            [
             0.8,
             "#7fbc41"
            ],
            [
             0.9,
             "#4d9221"
            ],
            [
             1,
             "#276419"
            ]
           ],
           "sequential": [
            [
             0,
             "#0d0887"
            ],
            [
             0.1111111111111111,
             "#46039f"
            ],
            [
             0.2222222222222222,
             "#7201a8"
            ],
            [
             0.3333333333333333,
             "#9c179e"
            ],
            [
             0.4444444444444444,
             "#bd3786"
            ],
            [
             0.5555555555555556,
             "#d8576b"
            ],
            [
             0.6666666666666666,
             "#ed7953"
            ],
            [
             0.7777777777777778,
             "#fb9f3a"
            ],
            [
             0.8888888888888888,
             "#fdca26"
            ],
            [
             1,
             "#f0f921"
            ]
           ],
           "sequentialminus": [
            [
             0,
             "#0d0887"
            ],
            [
             0.1111111111111111,
             "#46039f"
            ],
            [
             0.2222222222222222,
             "#7201a8"
            ],
            [
             0.3333333333333333,
             "#9c179e"
            ],
            [
             0.4444444444444444,
             "#bd3786"
            ],
            [
             0.5555555555555556,
             "#d8576b"
            ],
            [
             0.6666666666666666,
             "#ed7953"
            ],
            [
             0.7777777777777778,
             "#fb9f3a"
            ],
            [
             0.8888888888888888,
             "#fdca26"
            ],
            [
             1,
             "#f0f921"
            ]
           ]
          },
          "colorway": [
           "#636efa",
           "#EF553B",
           "#00cc96",
           "#ab63fa",
           "#FFA15A",
           "#19d3f3",
           "#FF6692",
           "#B6E880",
           "#FF97FF",
           "#FECB52"
          ],
          "font": {
           "color": "#2a3f5f"
          },
          "geo": {
           "bgcolor": "white",
           "lakecolor": "white",
           "landcolor": "#E5ECF6",
           "showlakes": true,
           "showland": true,
           "subunitcolor": "white"
          },
          "hoverlabel": {
           "align": "left"
          },
          "hovermode": "closest",
          "mapbox": {
           "style": "light"
          },
          "paper_bgcolor": "white",
          "plot_bgcolor": "#E5ECF6",
          "polar": {
           "angularaxis": {
            "gridcolor": "white",
            "linecolor": "white",
            "ticks": ""
           },
           "bgcolor": "#E5ECF6",
           "radialaxis": {
            "gridcolor": "white",
            "linecolor": "white",
            "ticks": ""
           }
          },
          "scene": {
           "xaxis": {
            "backgroundcolor": "#E5ECF6",
            "gridcolor": "white",
            "gridwidth": 2,
            "linecolor": "white",
            "showbackground": true,
            "ticks": "",
            "zerolinecolor": "white"
           },
           "yaxis": {
            "backgroundcolor": "#E5ECF6",
            "gridcolor": "white",
            "gridwidth": 2,
            "linecolor": "white",
            "showbackground": true,
            "ticks": "",
            "zerolinecolor": "white"
           },
           "zaxis": {
            "backgroundcolor": "#E5ECF6",
            "gridcolor": "white",
            "gridwidth": 2,
            "linecolor": "white",
            "showbackground": true,
            "ticks": "",
            "zerolinecolor": "white"
           }
          },
          "shapedefaults": {
           "line": {
            "color": "#2a3f5f"
           }
          },
          "ternary": {
           "aaxis": {
            "gridcolor": "white",
            "linecolor": "white",
            "ticks": ""
           },
           "baxis": {
            "gridcolor": "white",
            "linecolor": "white",
            "ticks": ""
           },
           "bgcolor": "#E5ECF6",
           "caxis": {
            "gridcolor": "white",
            "linecolor": "white",
            "ticks": ""
           }
          },
          "title": {
           "x": 0.05
          },
          "xaxis": {
           "automargin": true,
           "gridcolor": "white",
           "linecolor": "white",
           "ticks": "",
           "title": {
            "standoff": 15
           },
           "zerolinecolor": "white",
           "zerolinewidth": 2
          },
          "yaxis": {
           "automargin": true,
           "gridcolor": "white",
           "linecolor": "white",
           "ticks": "",
           "title": {
            "standoff": 15
           },
           "zerolinecolor": "white",
           "zerolinewidth": 2
          }
         }
        },
        "title": {
         "text": "Score vs. Date"
        },
        "xaxis": {
         "dtick": "D1",
         "tickmode": "linear",
         "title": {
          "text": "Date"
         }
        },
        "yaxis": {
         "title": {
          "text": "Score"
         }
        }
       }
      },
      "text/html": [
       "<div>                            <div id=\"6da90a60-bd18-41a0-9f85-f5db7573f608\" class=\"plotly-graph-div\" style=\"height:525px; width:100%;\"></div>            <script type=\"text/javascript\">                require([\"plotly\"], function(Plotly) {                    window.PLOTLYENV=window.PLOTLYENV || {};                                    if (document.getElementById(\"6da90a60-bd18-41a0-9f85-f5db7573f608\")) {                    Plotly.newPlot(                        \"6da90a60-bd18-41a0-9f85-f5db7573f608\",                        [{\"mode\":\"lines\",\"x\":[\"2023-05-11T00:00:00\",\"2023-05-12T00:00:00\",\"2023-05-13T00:00:00\",\"2023-05-14T00:00:00\",\"2023-05-15T00:00:00\",\"2023-05-16T00:00:00\",\"2023-05-17T00:00:00\",\"2023-05-18T00:00:00\",\"2023-05-19T00:00:00\",\"2023-05-20T00:00:00\",\"2023-05-21T00:00:00\",\"2023-05-22T00:00:00\",\"2023-05-23T00:00:00\",\"2023-05-24T00:00:00\",\"2023-05-25T00:00:00\",\"2023-05-26T00:00:00\",\"2023-05-27T00:00:00\",\"2023-05-28T00:00:00\",\"2023-05-29T00:00:00\",\"2023-05-30T00:00:00\",\"2023-05-31T00:00:00\",\"2023-06-01T00:00:00\",\"2023-06-02T00:00:00\",\"2023-06-03T00:00:00\",\"2023-06-04T00:00:00\",\"2023-06-05T00:00:00\",\"2023-06-06T00:00:00\",\"2023-06-07T00:00:00\",\"2023-06-08T00:00:00\"],\"y\":[0.024301996102204192,0.1724160999059677,-0.1179032867605036,0.10302113162146674,-0.04764232805797032,-0.002617710828781128,0.059552626950400214,0.27073764168854914,0.08608213928010729,0.014329209047205308,-0.30938857462671066,0.17512746651967367,0.38024201878794917,0.006524972072461757,0.107046480178833,-0.11390411351100509,-0.11336366114793,-0.08328926712274551,0.26767701877130046,0.32015690248306483,0.07048011819521587,0.1790655095909917,0.020901943125375886,-0.23814077723410823,-0.2571472250498258,-0.0625878910605724,-0.19087123605940076,0.1677293519383853,0.015972353518009186],\"type\":\"scatter\"}],                        {\"template\":{\"data\":{\"bar\":[{\"error_x\":{\"color\":\"#2a3f5f\"},\"error_y\":{\"color\":\"#2a3f5f\"},\"marker\":{\"line\":{\"color\":\"#E5ECF6\",\"width\":0.5},\"pattern\":{\"fillmode\":\"overlay\",\"size\":10,\"solidity\":0.2}},\"type\":\"bar\"}],\"barpolar\":[{\"marker\":{\"line\":{\"color\":\"#E5ECF6\",\"width\":0.5},\"pattern\":{\"fillmode\":\"overlay\",\"size\":10,\"solidity\":0.2}},\"type\":\"barpolar\"}],\"carpet\":[{\"aaxis\":{\"endlinecolor\":\"#2a3f5f\",\"gridcolor\":\"white\",\"linecolor\":\"white\",\"minorgridcolor\":\"white\",\"startlinecolor\":\"#2a3f5f\"},\"baxis\":{\"endlinecolor\":\"#2a3f5f\",\"gridcolor\":\"white\",\"linecolor\":\"white\",\"minorgridcolor\":\"white\",\"startlinecolor\":\"#2a3f5f\"},\"type\":\"carpet\"}],\"choropleth\":[{\"colorbar\":{\"outlinewidth\":0,\"ticks\":\"\"},\"type\":\"choropleth\"}],\"contour\":[{\"colorbar\":{\"outlinewidth\":0,\"ticks\":\"\"},\"colorscale\":[[0.0,\"#0d0887\"],[0.1111111111111111,\"#46039f\"],[0.2222222222222222,\"#7201a8\"],[0.3333333333333333,\"#9c179e\"],[0.4444444444444444,\"#bd3786\"],[0.5555555555555556,\"#d8576b\"],[0.6666666666666666,\"#ed7953\"],[0.7777777777777778,\"#fb9f3a\"],[0.8888888888888888,\"#fdca26\"],[1.0,\"#f0f921\"]],\"type\":\"contour\"}],\"contourcarpet\":[{\"colorbar\":{\"outlinewidth\":0,\"ticks\":\"\"},\"type\":\"contourcarpet\"}],\"heatmap\":[{\"colorbar\":{\"outlinewidth\":0,\"ticks\":\"\"},\"colorscale\":[[0.0,\"#0d0887\"],[0.1111111111111111,\"#46039f\"],[0.2222222222222222,\"#7201a8\"],[0.3333333333333333,\"#9c179e\"],[0.4444444444444444,\"#bd3786\"],[0.5555555555555556,\"#d8576b\"],[0.6666666666666666,\"#ed7953\"],[0.7777777777777778,\"#fb9f3a\"],[0.8888888888888888,\"#fdca26\"],[1.0,\"#f0f921\"]],\"type\":\"heatmap\"}],\"heatmapgl\":[{\"colorbar\":{\"outlinewidth\":0,\"ticks\":\"\"},\"colorscale\":[[0.0,\"#0d0887\"],[0.1111111111111111,\"#46039f\"],[0.2222222222222222,\"#7201a8\"],[0.3333333333333333,\"#9c179e\"],[0.4444444444444444,\"#bd3786\"],[0.5555555555555556,\"#d8576b\"],[0.6666666666666666,\"#ed7953\"],[0.7777777777777778,\"#fb9f3a\"],[0.8888888888888888,\"#fdca26\"],[1.0,\"#f0f921\"]],\"type\":\"heatmapgl\"}],\"histogram\":[{\"marker\":{\"pattern\":{\"fillmode\":\"overlay\",\"size\":10,\"solidity\":0.2}},\"type\":\"histogram\"}],\"histogram2d\":[{\"colorbar\":{\"outlinewidth\":0,\"ticks\":\"\"},\"colorscale\":[[0.0,\"#0d0887\"],[0.1111111111111111,\"#46039f\"],[0.2222222222222222,\"#7201a8\"],[0.3333333333333333,\"#9c179e\"],[0.4444444444444444,\"#bd3786\"],[0.5555555555555556,\"#d8576b\"],[0.6666666666666666,\"#ed7953\"],[0.7777777777777778,\"#fb9f3a\"],[0.8888888888888888,\"#fdca26\"],[1.0,\"#f0f921\"]],\"type\":\"histogram2d\"}],\"histogram2dcontour\":[{\"colorbar\":{\"outlinewidth\":0,\"ticks\":\"\"},\"colorscale\":[[0.0,\"#0d0887\"],[0.1111111111111111,\"#46039f\"],[0.2222222222222222,\"#7201a8\"],[0.3333333333333333,\"#9c179e\"],[0.4444444444444444,\"#bd3786\"],[0.5555555555555556,\"#d8576b\"],[0.6666666666666666,\"#ed7953\"],[0.7777777777777778,\"#fb9f3a\"],[0.8888888888888888,\"#fdca26\"],[1.0,\"#f0f921\"]],\"type\":\"histogram2dcontour\"}],\"mesh3d\":[{\"colorbar\":{\"outlinewidth\":0,\"ticks\":\"\"},\"type\":\"mesh3d\"}],\"parcoords\":[{\"line\":{\"colorbar\":{\"outlinewidth\":0,\"ticks\":\"\"}},\"type\":\"parcoords\"}],\"pie\":[{\"automargin\":true,\"type\":\"pie\"}],\"scatter\":[{\"marker\":{\"colorbar\":{\"outlinewidth\":0,\"ticks\":\"\"}},\"type\":\"scatter\"}],\"scatter3d\":[{\"line\":{\"colorbar\":{\"outlinewidth\":0,\"ticks\":\"\"}},\"marker\":{\"colorbar\":{\"outlinewidth\":0,\"ticks\":\"\"}},\"type\":\"scatter3d\"}],\"scattercarpet\":[{\"marker\":{\"colorbar\":{\"outlinewidth\":0,\"ticks\":\"\"}},\"type\":\"scattercarpet\"}],\"scattergeo\":[{\"marker\":{\"colorbar\":{\"outlinewidth\":0,\"ticks\":\"\"}},\"type\":\"scattergeo\"}],\"scattergl\":[{\"marker\":{\"colorbar\":{\"outlinewidth\":0,\"ticks\":\"\"}},\"type\":\"scattergl\"}],\"scattermapbox\":[{\"marker\":{\"colorbar\":{\"outlinewidth\":0,\"ticks\":\"\"}},\"type\":\"scattermapbox\"}],\"scatterpolar\":[{\"marker\":{\"colorbar\":{\"outlinewidth\":0,\"ticks\":\"\"}},\"type\":\"scatterpolar\"}],\"scatterpolargl\":[{\"marker\":{\"colorbar\":{\"outlinewidth\":0,\"ticks\":\"\"}},\"type\":\"scatterpolargl\"}],\"scatterternary\":[{\"marker\":{\"colorbar\":{\"outlinewidth\":0,\"ticks\":\"\"}},\"type\":\"scatterternary\"}],\"surface\":[{\"colorbar\":{\"outlinewidth\":0,\"ticks\":\"\"},\"colorscale\":[[0.0,\"#0d0887\"],[0.1111111111111111,\"#46039f\"],[0.2222222222222222,\"#7201a8\"],[0.3333333333333333,\"#9c179e\"],[0.4444444444444444,\"#bd3786\"],[0.5555555555555556,\"#d8576b\"],[0.6666666666666666,\"#ed7953\"],[0.7777777777777778,\"#fb9f3a\"],[0.8888888888888888,\"#fdca26\"],[1.0,\"#f0f921\"]],\"type\":\"surface\"}],\"table\":[{\"cells\":{\"fill\":{\"color\":\"#EBF0F8\"},\"line\":{\"color\":\"white\"}},\"header\":{\"fill\":{\"color\":\"#C8D4E3\"},\"line\":{\"color\":\"white\"}},\"type\":\"table\"}]},\"layout\":{\"annotationdefaults\":{\"arrowcolor\":\"#2a3f5f\",\"arrowhead\":0,\"arrowwidth\":1},\"autotypenumbers\":\"strict\",\"coloraxis\":{\"colorbar\":{\"outlinewidth\":0,\"ticks\":\"\"}},\"colorscale\":{\"diverging\":[[0,\"#8e0152\"],[0.1,\"#c51b7d\"],[0.2,\"#de77ae\"],[0.3,\"#f1b6da\"],[0.4,\"#fde0ef\"],[0.5,\"#f7f7f7\"],[0.6,\"#e6f5d0\"],[0.7,\"#b8e186\"],[0.8,\"#7fbc41\"],[0.9,\"#4d9221\"],[1,\"#276419\"]],\"sequential\":[[0.0,\"#0d0887\"],[0.1111111111111111,\"#46039f\"],[0.2222222222222222,\"#7201a8\"],[0.3333333333333333,\"#9c179e\"],[0.4444444444444444,\"#bd3786\"],[0.5555555555555556,\"#d8576b\"],[0.6666666666666666,\"#ed7953\"],[0.7777777777777778,\"#fb9f3a\"],[0.8888888888888888,\"#fdca26\"],[1.0,\"#f0f921\"]],\"sequentialminus\":[[0.0,\"#0d0887\"],[0.1111111111111111,\"#46039f\"],[0.2222222222222222,\"#7201a8\"],[0.3333333333333333,\"#9c179e\"],[0.4444444444444444,\"#bd3786\"],[0.5555555555555556,\"#d8576b\"],[0.6666666666666666,\"#ed7953\"],[0.7777777777777778,\"#fb9f3a\"],[0.8888888888888888,\"#fdca26\"],[1.0,\"#f0f921\"]]},\"colorway\":[\"#636efa\",\"#EF553B\",\"#00cc96\",\"#ab63fa\",\"#FFA15A\",\"#19d3f3\",\"#FF6692\",\"#B6E880\",\"#FF97FF\",\"#FECB52\"],\"font\":{\"color\":\"#2a3f5f\"},\"geo\":{\"bgcolor\":\"white\",\"lakecolor\":\"white\",\"landcolor\":\"#E5ECF6\",\"showlakes\":true,\"showland\":true,\"subunitcolor\":\"white\"},\"hoverlabel\":{\"align\":\"left\"},\"hovermode\":\"closest\",\"mapbox\":{\"style\":\"light\"},\"paper_bgcolor\":\"white\",\"plot_bgcolor\":\"#E5ECF6\",\"polar\":{\"angularaxis\":{\"gridcolor\":\"white\",\"linecolor\":\"white\",\"ticks\":\"\"},\"bgcolor\":\"#E5ECF6\",\"radialaxis\":{\"gridcolor\":\"white\",\"linecolor\":\"white\",\"ticks\":\"\"}},\"scene\":{\"xaxis\":{\"backgroundcolor\":\"#E5ECF6\",\"gridcolor\":\"white\",\"gridwidth\":2,\"linecolor\":\"white\",\"showbackground\":true,\"ticks\":\"\",\"zerolinecolor\":\"white\"},\"yaxis\":{\"backgroundcolor\":\"#E5ECF6\",\"gridcolor\":\"white\",\"gridwidth\":2,\"linecolor\":\"white\",\"showbackground\":true,\"ticks\":\"\",\"zerolinecolor\":\"white\"},\"zaxis\":{\"backgroundcolor\":\"#E5ECF6\",\"gridcolor\":\"white\",\"gridwidth\":2,\"linecolor\":\"white\",\"showbackground\":true,\"ticks\":\"\",\"zerolinecolor\":\"white\"}},\"shapedefaults\":{\"line\":{\"color\":\"#2a3f5f\"}},\"ternary\":{\"aaxis\":{\"gridcolor\":\"white\",\"linecolor\":\"white\",\"ticks\":\"\"},\"baxis\":{\"gridcolor\":\"white\",\"linecolor\":\"white\",\"ticks\":\"\"},\"bgcolor\":\"#E5ECF6\",\"caxis\":{\"gridcolor\":\"white\",\"linecolor\":\"white\",\"ticks\":\"\"}},\"title\":{\"x\":0.05},\"xaxis\":{\"automargin\":true,\"gridcolor\":\"white\",\"linecolor\":\"white\",\"ticks\":\"\",\"title\":{\"standoff\":15},\"zerolinecolor\":\"white\",\"zerolinewidth\":2},\"yaxis\":{\"automargin\":true,\"gridcolor\":\"white\",\"linecolor\":\"white\",\"ticks\":\"\",\"title\":{\"standoff\":15},\"zerolinecolor\":\"white\",\"zerolinewidth\":2}}},\"xaxis\":{\"title\":{\"text\":\"Date\"},\"tickmode\":\"linear\",\"dtick\":\"D1\"},\"yaxis\":{\"title\":{\"text\":\"Score\"}},\"title\":{\"text\":\"Score vs. Date\"}},                        {\"responsive\": true}                    ).then(function(){\n",
       "                            \n",
       "var gd = document.getElementById('6da90a60-bd18-41a0-9f85-f5db7573f608');\n",
       "var x = new MutationObserver(function (mutations, observer) {{\n",
       "        var display = window.getComputedStyle(gd).display;\n",
       "        if (!display || display === 'none') {{\n",
       "            console.log([gd, 'removed!']);\n",
       "            Plotly.purge(gd);\n",
       "            observer.disconnect();\n",
       "        }}\n",
       "}});\n",
       "\n",
       "// Listen for the removal of the full notebook cells\n",
       "var notebookContainer = gd.closest('#notebook-container');\n",
       "if (notebookContainer) {{\n",
       "    x.observe(notebookContainer, {childList: true});\n",
       "}}\n",
       "\n",
       "// Listen for the clearing of the current output cell\n",
       "var outputEl = gd.closest('.output');\n",
       "if (outputEl) {{\n",
       "    x.observe(outputEl, {childList: true});\n",
       "}}\n",
       "\n",
       "                        })                };                });            </script>        </div>"
      ]
     },
     "metadata": {},
     "output_type": "display_data"
    }
   ],
   "source": [
    "fig2 = go.Figure(data=go.Scatter(x=df_moving_avg_news['date'], y=df_moving_avg_news['moving_avg_score'], mode='lines'))\n",
    "\n",
    "fig2.update_layout(\n",
    "    xaxis_title='Date',\n",
    "    yaxis_title='Score',\n",
    "    title='Score vs. Date',\n",
    "    xaxis=dict(\n",
    "        tickmode='linear',\n",
    "        dtick='D1',  # Set the tick frequency to one day (D1)\n",
    "    )\n",
    ")\n",
    "\n",
    "fig2.show()"
   ]
  },
  {
   "cell_type": "markdown",
   "metadata": {},
   "source": [
    "lets plot them together"
   ]
  },
  {
   "cell_type": "code",
   "execution_count": 104,
   "metadata": {},
   "outputs": [
    {
     "data": {
      "application/vnd.plotly.v1+json": {
       "config": {
        "plotlyServerURL": "https://plot.ly"
       },
       "data": [
        {
         "mode": "lines",
         "name": "Adj Close",
         "type": "scatter",
         "x": [
          "2023-05-10",
          "2023-05-11",
          "2023-05-12",
          "2023-05-15",
          "2023-05-16",
          "2023-05-17",
          "2023-05-18",
          "2023-05-19",
          "2023-05-22",
          "2023-05-23",
          "2023-05-24",
          "2023-05-25",
          "2023-05-26",
          "2023-05-30",
          "2023-05-31",
          "2023-06-01",
          "2023-06-02",
          "2023-06-05",
          "2023-06-06",
          "2023-06-07",
          "2023-06-08"
         ],
         "y": [
          9.12750005725,
          9.143714359828573,
          9.033257348185714,
          9.1649998256,
          9.175957134785715,
          9.313399996085716,
          9.48428562707143,
          9.429042952385714,
          9.467985698142856,
          9.360857282357143,
          9.22174290247143,
          9.563014166671428,
          9.802985736314286,
          9.894300052085715,
          9.809385708414286,
          10.005585806714285,
          10.056442941928571,
          10.056914193285715,
          10.1029714857,
          9.943657193885715,
          9.953585624685715
         ]
        },
        {
         "mode": "lines",
         "name": "Score",
         "type": "scatter",
         "x": [
          "2023-05-11T00:00:00",
          "2023-05-12T00:00:00",
          "2023-05-13T00:00:00",
          "2023-05-14T00:00:00",
          "2023-05-15T00:00:00",
          "2023-05-16T00:00:00",
          "2023-05-17T00:00:00",
          "2023-05-18T00:00:00",
          "2023-05-19T00:00:00",
          "2023-05-20T00:00:00",
          "2023-05-21T00:00:00",
          "2023-05-22T00:00:00",
          "2023-05-23T00:00:00",
          "2023-05-24T00:00:00",
          "2023-05-25T00:00:00",
          "2023-05-26T00:00:00",
          "2023-05-27T00:00:00",
          "2023-05-28T00:00:00",
          "2023-05-29T00:00:00",
          "2023-05-30T00:00:00",
          "2023-05-31T00:00:00",
          "2023-06-01T00:00:00",
          "2023-06-02T00:00:00",
          "2023-06-03T00:00:00",
          "2023-06-04T00:00:00",
          "2023-06-05T00:00:00",
          "2023-06-06T00:00:00",
          "2023-06-07T00:00:00",
          "2023-06-08T00:00:00"
         ],
         "y": [
          0.024301996102204192,
          0.1724160999059677,
          -0.1179032867605036,
          0.10302113162146674,
          -0.04764232805797032,
          -0.002617710828781128,
          0.059552626950400214,
          0.27073764168854914,
          0.08608213928010729,
          0.014329209047205308,
          -0.30938857462671066,
          0.17512746651967367,
          0.38024201878794917,
          0.006524972072461757,
          0.107046480178833,
          -0.11390411351100509,
          -0.11336366114793,
          -0.08328926712274551,
          0.26767701877130046,
          0.32015690248306483,
          0.07048011819521587,
          0.1790655095909917,
          0.020901943125375886,
          -0.23814077723410823,
          -0.2571472250498258,
          -0.0625878910605724,
          -0.19087123605940076,
          0.1677293519383853,
          0.015972353518009186
         ],
         "yaxis": "y2"
        }
       ],
       "layout": {
        "template": {
         "data": {
          "bar": [
           {
            "error_x": {
             "color": "#2a3f5f"
            },
            "error_y": {
             "color": "#2a3f5f"
            },
            "marker": {
             "line": {
              "color": "#E5ECF6",
              "width": 0.5
             },
             "pattern": {
              "fillmode": "overlay",
              "size": 10,
              "solidity": 0.2
             }
            },
            "type": "bar"
           }
          ],
          "barpolar": [
           {
            "marker": {
             "line": {
              "color": "#E5ECF6",
              "width": 0.5
             },
             "pattern": {
              "fillmode": "overlay",
              "size": 10,
              "solidity": 0.2
             }
            },
            "type": "barpolar"
           }
          ],
          "carpet": [
           {
            "aaxis": {
             "endlinecolor": "#2a3f5f",
             "gridcolor": "white",
             "linecolor": "white",
             "minorgridcolor": "white",
             "startlinecolor": "#2a3f5f"
            },
            "baxis": {
             "endlinecolor": "#2a3f5f",
             "gridcolor": "white",
             "linecolor": "white",
             "minorgridcolor": "white",
             "startlinecolor": "#2a3f5f"
            },
            "type": "carpet"
           }
          ],
          "choropleth": [
           {
            "colorbar": {
             "outlinewidth": 0,
             "ticks": ""
            },
            "type": "choropleth"
           }
          ],
          "contour": [
           {
            "colorbar": {
             "outlinewidth": 0,
             "ticks": ""
            },
            "colorscale": [
             [
              0,
              "#0d0887"
             ],
             [
              0.1111111111111111,
              "#46039f"
             ],
             [
              0.2222222222222222,
              "#7201a8"
             ],
             [
              0.3333333333333333,
              "#9c179e"
             ],
             [
              0.4444444444444444,
              "#bd3786"
             ],
             [
              0.5555555555555556,
              "#d8576b"
             ],
             [
              0.6666666666666666,
              "#ed7953"
             ],
             [
              0.7777777777777778,
              "#fb9f3a"
             ],
             [
              0.8888888888888888,
              "#fdca26"
             ],
             [
              1,
              "#f0f921"
             ]
            ],
            "type": "contour"
           }
          ],
          "contourcarpet": [
           {
            "colorbar": {
             "outlinewidth": 0,
             "ticks": ""
            },
            "type": "contourcarpet"
           }
          ],
          "heatmap": [
           {
            "colorbar": {
             "outlinewidth": 0,
             "ticks": ""
            },
            "colorscale": [
             [
              0,
              "#0d0887"
             ],
             [
              0.1111111111111111,
              "#46039f"
             ],
             [
              0.2222222222222222,
              "#7201a8"
             ],
             [
              0.3333333333333333,
              "#9c179e"
             ],
             [
              0.4444444444444444,
              "#bd3786"
             ],
             [
              0.5555555555555556,
              "#d8576b"
             ],
             [
              0.6666666666666666,
              "#ed7953"
             ],
             [
              0.7777777777777778,
              "#fb9f3a"
             ],
             [
              0.8888888888888888,
              "#fdca26"
             ],
             [
              1,
              "#f0f921"
             ]
            ],
            "type": "heatmap"
           }
          ],
          "heatmapgl": [
           {
            "colorbar": {
             "outlinewidth": 0,
             "ticks": ""
            },
            "colorscale": [
             [
              0,
              "#0d0887"
             ],
             [
              0.1111111111111111,
              "#46039f"
             ],
             [
              0.2222222222222222,
              "#7201a8"
             ],
             [
              0.3333333333333333,
              "#9c179e"
             ],
             [
              0.4444444444444444,
              "#bd3786"
             ],
             [
              0.5555555555555556,
              "#d8576b"
             ],
             [
              0.6666666666666666,
              "#ed7953"
             ],
             [
              0.7777777777777778,
              "#fb9f3a"
             ],
             [
              0.8888888888888888,
              "#fdca26"
             ],
             [
              1,
              "#f0f921"
             ]
            ],
            "type": "heatmapgl"
           }
          ],
          "histogram": [
           {
            "marker": {
             "pattern": {
              "fillmode": "overlay",
              "size": 10,
              "solidity": 0.2
             }
            },
            "type": "histogram"
           }
          ],
          "histogram2d": [
           {
            "colorbar": {
             "outlinewidth": 0,
             "ticks": ""
            },
            "colorscale": [
             [
              0,
              "#0d0887"
             ],
             [
              0.1111111111111111,
              "#46039f"
             ],
             [
              0.2222222222222222,
              "#7201a8"
             ],
             [
              0.3333333333333333,
              "#9c179e"
             ],
             [
              0.4444444444444444,
              "#bd3786"
             ],
             [
              0.5555555555555556,
              "#d8576b"
             ],
             [
              0.6666666666666666,
              "#ed7953"
             ],
             [
              0.7777777777777778,
              "#fb9f3a"
             ],
             [
              0.8888888888888888,
              "#fdca26"
             ],
             [
              1,
              "#f0f921"
             ]
            ],
            "type": "histogram2d"
           }
          ],
          "histogram2dcontour": [
           {
            "colorbar": {
             "outlinewidth": 0,
             "ticks": ""
            },
            "colorscale": [
             [
              0,
              "#0d0887"
             ],
             [
              0.1111111111111111,
              "#46039f"
             ],
             [
              0.2222222222222222,
              "#7201a8"
             ],
             [
              0.3333333333333333,
              "#9c179e"
             ],
             [
              0.4444444444444444,
              "#bd3786"
             ],
             [
              0.5555555555555556,
              "#d8576b"
             ],
             [
              0.6666666666666666,
              "#ed7953"
             ],
             [
              0.7777777777777778,
              "#fb9f3a"
             ],
             [
              0.8888888888888888,
              "#fdca26"
             ],
             [
              1,
              "#f0f921"
             ]
            ],
            "type": "histogram2dcontour"
           }
          ],
          "mesh3d": [
           {
            "colorbar": {
             "outlinewidth": 0,
             "ticks": ""
            },
            "type": "mesh3d"
           }
          ],
          "parcoords": [
           {
            "line": {
             "colorbar": {
              "outlinewidth": 0,
              "ticks": ""
             }
            },
            "type": "parcoords"
           }
          ],
          "pie": [
           {
            "automargin": true,
            "type": "pie"
           }
          ],
          "scatter": [
           {
            "marker": {
             "colorbar": {
              "outlinewidth": 0,
              "ticks": ""
             }
            },
            "type": "scatter"
           }
          ],
          "scatter3d": [
           {
            "line": {
             "colorbar": {
              "outlinewidth": 0,
              "ticks": ""
             }
            },
            "marker": {
             "colorbar": {
              "outlinewidth": 0,
              "ticks": ""
             }
            },
            "type": "scatter3d"
           }
          ],
          "scattercarpet": [
           {
            "marker": {
             "colorbar": {
              "outlinewidth": 0,
              "ticks": ""
             }
            },
            "type": "scattercarpet"
           }
          ],
          "scattergeo": [
           {
            "marker": {
             "colorbar": {
              "outlinewidth": 0,
              "ticks": ""
             }
            },
            "type": "scattergeo"
           }
          ],
          "scattergl": [
           {
            "marker": {
             "colorbar": {
              "outlinewidth": 0,
              "ticks": ""
             }
            },
            "type": "scattergl"
           }
          ],
          "scattermapbox": [
           {
            "marker": {
             "colorbar": {
              "outlinewidth": 0,
              "ticks": ""
             }
            },
            "type": "scattermapbox"
           }
          ],
          "scatterpolar": [
           {
            "marker": {
             "colorbar": {
              "outlinewidth": 0,
              "ticks": ""
             }
            },
            "type": "scatterpolar"
           }
          ],
          "scatterpolargl": [
           {
            "marker": {
             "colorbar": {
              "outlinewidth": 0,
              "ticks": ""
             }
            },
            "type": "scatterpolargl"
           }
          ],
          "scatterternary": [
           {
            "marker": {
             "colorbar": {
              "outlinewidth": 0,
              "ticks": ""
             }
            },
            "type": "scatterternary"
           }
          ],
          "surface": [
           {
            "colorbar": {
             "outlinewidth": 0,
             "ticks": ""
            },
            "colorscale": [
             [
              0,
              "#0d0887"
             ],
             [
              0.1111111111111111,
              "#46039f"
             ],
             [
              0.2222222222222222,
              "#7201a8"
             ],
             [
              0.3333333333333333,
              "#9c179e"
             ],
             [
              0.4444444444444444,
              "#bd3786"
             ],
             [
              0.5555555555555556,
              "#d8576b"
             ],
             [
              0.6666666666666666,
              "#ed7953"
             ],
             [
              0.7777777777777778,
              "#fb9f3a"
             ],
             [
              0.8888888888888888,
              "#fdca26"
             ],
             [
              1,
              "#f0f921"
             ]
            ],
            "type": "surface"
           }
          ],
          "table": [
           {
            "cells": {
             "fill": {
              "color": "#EBF0F8"
             },
             "line": {
              "color": "white"
             }
            },
            "header": {
             "fill": {
              "color": "#C8D4E3"
             },
             "line": {
              "color": "white"
             }
            },
            "type": "table"
           }
          ]
         },
         "layout": {
          "annotationdefaults": {
           "arrowcolor": "#2a3f5f",
           "arrowhead": 0,
           "arrowwidth": 1
          },
          "autotypenumbers": "strict",
          "coloraxis": {
           "colorbar": {
            "outlinewidth": 0,
            "ticks": ""
           }
          },
          "colorscale": {
           "diverging": [
            [
             0,
             "#8e0152"
            ],
            [
             0.1,
             "#c51b7d"
            ],
            [
             0.2,
             "#de77ae"
            ],
            [
             0.3,
             "#f1b6da"
            ],
            [
             0.4,
             "#fde0ef"
            ],
            [
             0.5,
             "#f7f7f7"
            ],
            [
             0.6,
             "#e6f5d0"
            ],
            [
             0.7,
             "#b8e186"
            ],
            [
             0.8,
             "#7fbc41"
            ],
            [
             0.9,
             "#4d9221"
            ],
            [
             1,
             "#276419"
            ]
           ],
           "sequential": [
            [
             0,
             "#0d0887"
            ],
            [
             0.1111111111111111,
             "#46039f"
            ],
            [
             0.2222222222222222,
             "#7201a8"
            ],
            [
             0.3333333333333333,
             "#9c179e"
            ],
            [
             0.4444444444444444,
             "#bd3786"
            ],
            [
             0.5555555555555556,
             "#d8576b"
            ],
            [
             0.6666666666666666,
             "#ed7953"
            ],
            [
             0.7777777777777778,
             "#fb9f3a"
            ],
            [
             0.8888888888888888,
             "#fdca26"
            ],
            [
             1,
             "#f0f921"
            ]
           ],
           "sequentialminus": [
            [
             0,
             "#0d0887"
            ],
            [
             0.1111111111111111,
             "#46039f"
            ],
            [
             0.2222222222222222,
             "#7201a8"
            ],
            [
             0.3333333333333333,
             "#9c179e"
            ],
            [
             0.4444444444444444,
             "#bd3786"
            ],
            [
             0.5555555555555556,
             "#d8576b"
            ],
            [
             0.6666666666666666,
             "#ed7953"
            ],
            [
             0.7777777777777778,
             "#fb9f3a"
            ],
            [
             0.8888888888888888,
             "#fdca26"
            ],
            [
             1,
             "#f0f921"
            ]
           ]
          },
          "colorway": [
           "#636efa",
           "#EF553B",
           "#00cc96",
           "#ab63fa",
           "#FFA15A",
           "#19d3f3",
           "#FF6692",
           "#B6E880",
           "#FF97FF",
           "#FECB52"
          ],
          "font": {
           "color": "#2a3f5f"
          },
          "geo": {
           "bgcolor": "white",
           "lakecolor": "white",
           "landcolor": "#E5ECF6",
           "showlakes": true,
           "showland": true,
           "subunitcolor": "white"
          },
          "hoverlabel": {
           "align": "left"
          },
          "hovermode": "closest",
          "mapbox": {
           "style": "light"
          },
          "paper_bgcolor": "white",
          "plot_bgcolor": "#E5ECF6",
          "polar": {
           "angularaxis": {
            "gridcolor": "white",
            "linecolor": "white",
            "ticks": ""
           },
           "bgcolor": "#E5ECF6",
           "radialaxis": {
            "gridcolor": "white",
            "linecolor": "white",
            "ticks": ""
           }
          },
          "scene": {
           "xaxis": {
            "backgroundcolor": "#E5ECF6",
            "gridcolor": "white",
            "gridwidth": 2,
            "linecolor": "white",
            "showbackground": true,
            "ticks": "",
            "zerolinecolor": "white"
           },
           "yaxis": {
            "backgroundcolor": "#E5ECF6",
            "gridcolor": "white",
            "gridwidth": 2,
            "linecolor": "white",
            "showbackground": true,
            "ticks": "",
            "zerolinecolor": "white"
           },
           "zaxis": {
            "backgroundcolor": "#E5ECF6",
            "gridcolor": "white",
            "gridwidth": 2,
            "linecolor": "white",
            "showbackground": true,
            "ticks": "",
            "zerolinecolor": "white"
           }
          },
          "shapedefaults": {
           "line": {
            "color": "#2a3f5f"
           }
          },
          "ternary": {
           "aaxis": {
            "gridcolor": "white",
            "linecolor": "white",
            "ticks": ""
           },
           "baxis": {
            "gridcolor": "white",
            "linecolor": "white",
            "ticks": ""
           },
           "bgcolor": "#E5ECF6",
           "caxis": {
            "gridcolor": "white",
            "linecolor": "white",
            "ticks": ""
           }
          },
          "title": {
           "x": 0.05
          },
          "xaxis": {
           "automargin": true,
           "gridcolor": "white",
           "linecolor": "white",
           "ticks": "",
           "title": {
            "standoff": 15
           },
           "zerolinecolor": "white",
           "zerolinewidth": 2
          },
          "yaxis": {
           "automargin": true,
           "gridcolor": "white",
           "linecolor": "white",
           "ticks": "",
           "title": {
            "standoff": 15
           },
           "zerolinecolor": "white",
           "zerolinewidth": 2
          }
         }
        },
        "title": {
         "text": "Adj Close and Score Comparison"
        },
        "xaxis": {
         "title": {
          "text": "Date"
         }
        },
        "yaxis": {
         "title": {
          "text": "Adj Close"
         }
        },
        "yaxis2": {
         "overlaying": "y",
         "side": "right",
         "title": {
          "text": "Score"
         }
        }
       }
      },
      "text/html": [
       "<div>                            <div id=\"0523d34c-76a0-4e65-a897-ef77fa8cfeea\" class=\"plotly-graph-div\" style=\"height:525px; width:100%;\"></div>            <script type=\"text/javascript\">                require([\"plotly\"], function(Plotly) {                    window.PLOTLYENV=window.PLOTLYENV || {};                                    if (document.getElementById(\"0523d34c-76a0-4e65-a897-ef77fa8cfeea\")) {                    Plotly.newPlot(                        \"0523d34c-76a0-4e65-a897-ef77fa8cfeea\",                        [{\"mode\":\"lines\",\"name\":\"Adj Close\",\"x\":[\"2023-05-10\",\"2023-05-11\",\"2023-05-12\",\"2023-05-15\",\"2023-05-16\",\"2023-05-17\",\"2023-05-18\",\"2023-05-19\",\"2023-05-22\",\"2023-05-23\",\"2023-05-24\",\"2023-05-25\",\"2023-05-26\",\"2023-05-30\",\"2023-05-31\",\"2023-06-01\",\"2023-06-02\",\"2023-06-05\",\"2023-06-06\",\"2023-06-07\",\"2023-06-08\"],\"y\":[9.12750005725,9.143714359828573,9.033257348185714,9.1649998256,9.175957134785715,9.313399996085716,9.48428562707143,9.429042952385714,9.467985698142856,9.360857282357143,9.22174290247143,9.563014166671428,9.802985736314286,9.894300052085715,9.809385708414286,10.005585806714285,10.056442941928571,10.056914193285715,10.1029714857,9.943657193885715,9.953585624685715],\"type\":\"scatter\"},{\"mode\":\"lines\",\"name\":\"Score\",\"x\":[\"2023-05-11T00:00:00\",\"2023-05-12T00:00:00\",\"2023-05-13T00:00:00\",\"2023-05-14T00:00:00\",\"2023-05-15T00:00:00\",\"2023-05-16T00:00:00\",\"2023-05-17T00:00:00\",\"2023-05-18T00:00:00\",\"2023-05-19T00:00:00\",\"2023-05-20T00:00:00\",\"2023-05-21T00:00:00\",\"2023-05-22T00:00:00\",\"2023-05-23T00:00:00\",\"2023-05-24T00:00:00\",\"2023-05-25T00:00:00\",\"2023-05-26T00:00:00\",\"2023-05-27T00:00:00\",\"2023-05-28T00:00:00\",\"2023-05-29T00:00:00\",\"2023-05-30T00:00:00\",\"2023-05-31T00:00:00\",\"2023-06-01T00:00:00\",\"2023-06-02T00:00:00\",\"2023-06-03T00:00:00\",\"2023-06-04T00:00:00\",\"2023-06-05T00:00:00\",\"2023-06-06T00:00:00\",\"2023-06-07T00:00:00\",\"2023-06-08T00:00:00\"],\"y\":[0.024301996102204192,0.1724160999059677,-0.1179032867605036,0.10302113162146674,-0.04764232805797032,-0.002617710828781128,0.059552626950400214,0.27073764168854914,0.08608213928010729,0.014329209047205308,-0.30938857462671066,0.17512746651967367,0.38024201878794917,0.006524972072461757,0.107046480178833,-0.11390411351100509,-0.11336366114793,-0.08328926712274551,0.26767701877130046,0.32015690248306483,0.07048011819521587,0.1790655095909917,0.020901943125375886,-0.23814077723410823,-0.2571472250498258,-0.0625878910605724,-0.19087123605940076,0.1677293519383853,0.015972353518009186],\"yaxis\":\"y2\",\"type\":\"scatter\"}],                        {\"title\":{\"text\":\"Adj Close and Score Comparison\"},\"xaxis\":{\"title\":{\"text\":\"Date\"}},\"yaxis\":{\"title\":{\"text\":\"Adj Close\"}},\"yaxis2\":{\"overlaying\":\"y\",\"side\":\"right\",\"title\":{\"text\":\"Score\"}},\"template\":{\"data\":{\"bar\":[{\"error_x\":{\"color\":\"#2a3f5f\"},\"error_y\":{\"color\":\"#2a3f5f\"},\"marker\":{\"line\":{\"color\":\"#E5ECF6\",\"width\":0.5},\"pattern\":{\"fillmode\":\"overlay\",\"size\":10,\"solidity\":0.2}},\"type\":\"bar\"}],\"barpolar\":[{\"marker\":{\"line\":{\"color\":\"#E5ECF6\",\"width\":0.5},\"pattern\":{\"fillmode\":\"overlay\",\"size\":10,\"solidity\":0.2}},\"type\":\"barpolar\"}],\"carpet\":[{\"aaxis\":{\"endlinecolor\":\"#2a3f5f\",\"gridcolor\":\"white\",\"linecolor\":\"white\",\"minorgridcolor\":\"white\",\"startlinecolor\":\"#2a3f5f\"},\"baxis\":{\"endlinecolor\":\"#2a3f5f\",\"gridcolor\":\"white\",\"linecolor\":\"white\",\"minorgridcolor\":\"white\",\"startlinecolor\":\"#2a3f5f\"},\"type\":\"carpet\"}],\"choropleth\":[{\"colorbar\":{\"outlinewidth\":0,\"ticks\":\"\"},\"type\":\"choropleth\"}],\"contour\":[{\"colorbar\":{\"outlinewidth\":0,\"ticks\":\"\"},\"colorscale\":[[0.0,\"#0d0887\"],[0.1111111111111111,\"#46039f\"],[0.2222222222222222,\"#7201a8\"],[0.3333333333333333,\"#9c179e\"],[0.4444444444444444,\"#bd3786\"],[0.5555555555555556,\"#d8576b\"],[0.6666666666666666,\"#ed7953\"],[0.7777777777777778,\"#fb9f3a\"],[0.8888888888888888,\"#fdca26\"],[1.0,\"#f0f921\"]],\"type\":\"contour\"}],\"contourcarpet\":[{\"colorbar\":{\"outlinewidth\":0,\"ticks\":\"\"},\"type\":\"contourcarpet\"}],\"heatmap\":[{\"colorbar\":{\"outlinewidth\":0,\"ticks\":\"\"},\"colorscale\":[[0.0,\"#0d0887\"],[0.1111111111111111,\"#46039f\"],[0.2222222222222222,\"#7201a8\"],[0.3333333333333333,\"#9c179e\"],[0.4444444444444444,\"#bd3786\"],[0.5555555555555556,\"#d8576b\"],[0.6666666666666666,\"#ed7953\"],[0.7777777777777778,\"#fb9f3a\"],[0.8888888888888888,\"#fdca26\"],[1.0,\"#f0f921\"]],\"type\":\"heatmap\"}],\"heatmapgl\":[{\"colorbar\":{\"outlinewidth\":0,\"ticks\":\"\"},\"colorscale\":[[0.0,\"#0d0887\"],[0.1111111111111111,\"#46039f\"],[0.2222222222222222,\"#7201a8\"],[0.3333333333333333,\"#9c179e\"],[0.4444444444444444,\"#bd3786\"],[0.5555555555555556,\"#d8576b\"],[0.6666666666666666,\"#ed7953\"],[0.7777777777777778,\"#fb9f3a\"],[0.8888888888888888,\"#fdca26\"],[1.0,\"#f0f921\"]],\"type\":\"heatmapgl\"}],\"histogram\":[{\"marker\":{\"pattern\":{\"fillmode\":\"overlay\",\"size\":10,\"solidity\":0.2}},\"type\":\"histogram\"}],\"histogram2d\":[{\"colorbar\":{\"outlinewidth\":0,\"ticks\":\"\"},\"colorscale\":[[0.0,\"#0d0887\"],[0.1111111111111111,\"#46039f\"],[0.2222222222222222,\"#7201a8\"],[0.3333333333333333,\"#9c179e\"],[0.4444444444444444,\"#bd3786\"],[0.5555555555555556,\"#d8576b\"],[0.6666666666666666,\"#ed7953\"],[0.7777777777777778,\"#fb9f3a\"],[0.8888888888888888,\"#fdca26\"],[1.0,\"#f0f921\"]],\"type\":\"histogram2d\"}],\"histogram2dcontour\":[{\"colorbar\":{\"outlinewidth\":0,\"ticks\":\"\"},\"colorscale\":[[0.0,\"#0d0887\"],[0.1111111111111111,\"#46039f\"],[0.2222222222222222,\"#7201a8\"],[0.3333333333333333,\"#9c179e\"],[0.4444444444444444,\"#bd3786\"],[0.5555555555555556,\"#d8576b\"],[0.6666666666666666,\"#ed7953\"],[0.7777777777777778,\"#fb9f3a\"],[0.8888888888888888,\"#fdca26\"],[1.0,\"#f0f921\"]],\"type\":\"histogram2dcontour\"}],\"mesh3d\":[{\"colorbar\":{\"outlinewidth\":0,\"ticks\":\"\"},\"type\":\"mesh3d\"}],\"parcoords\":[{\"line\":{\"colorbar\":{\"outlinewidth\":0,\"ticks\":\"\"}},\"type\":\"parcoords\"}],\"pie\":[{\"automargin\":true,\"type\":\"pie\"}],\"scatter\":[{\"marker\":{\"colorbar\":{\"outlinewidth\":0,\"ticks\":\"\"}},\"type\":\"scatter\"}],\"scatter3d\":[{\"line\":{\"colorbar\":{\"outlinewidth\":0,\"ticks\":\"\"}},\"marker\":{\"colorbar\":{\"outlinewidth\":0,\"ticks\":\"\"}},\"type\":\"scatter3d\"}],\"scattercarpet\":[{\"marker\":{\"colorbar\":{\"outlinewidth\":0,\"ticks\":\"\"}},\"type\":\"scattercarpet\"}],\"scattergeo\":[{\"marker\":{\"colorbar\":{\"outlinewidth\":0,\"ticks\":\"\"}},\"type\":\"scattergeo\"}],\"scattergl\":[{\"marker\":{\"colorbar\":{\"outlinewidth\":0,\"ticks\":\"\"}},\"type\":\"scattergl\"}],\"scattermapbox\":[{\"marker\":{\"colorbar\":{\"outlinewidth\":0,\"ticks\":\"\"}},\"type\":\"scattermapbox\"}],\"scatterpolar\":[{\"marker\":{\"colorbar\":{\"outlinewidth\":0,\"ticks\":\"\"}},\"type\":\"scatterpolar\"}],\"scatterpolargl\":[{\"marker\":{\"colorbar\":{\"outlinewidth\":0,\"ticks\":\"\"}},\"type\":\"scatterpolargl\"}],\"scatterternary\":[{\"marker\":{\"colorbar\":{\"outlinewidth\":0,\"ticks\":\"\"}},\"type\":\"scatterternary\"}],\"surface\":[{\"colorbar\":{\"outlinewidth\":0,\"ticks\":\"\"},\"colorscale\":[[0.0,\"#0d0887\"],[0.1111111111111111,\"#46039f\"],[0.2222222222222222,\"#7201a8\"],[0.3333333333333333,\"#9c179e\"],[0.4444444444444444,\"#bd3786\"],[0.5555555555555556,\"#d8576b\"],[0.6666666666666666,\"#ed7953\"],[0.7777777777777778,\"#fb9f3a\"],[0.8888888888888888,\"#fdca26\"],[1.0,\"#f0f921\"]],\"type\":\"surface\"}],\"table\":[{\"cells\":{\"fill\":{\"color\":\"#EBF0F8\"},\"line\":{\"color\":\"white\"}},\"header\":{\"fill\":{\"color\":\"#C8D4E3\"},\"line\":{\"color\":\"white\"}},\"type\":\"table\"}]},\"layout\":{\"annotationdefaults\":{\"arrowcolor\":\"#2a3f5f\",\"arrowhead\":0,\"arrowwidth\":1},\"autotypenumbers\":\"strict\",\"coloraxis\":{\"colorbar\":{\"outlinewidth\":0,\"ticks\":\"\"}},\"colorscale\":{\"diverging\":[[0,\"#8e0152\"],[0.1,\"#c51b7d\"],[0.2,\"#de77ae\"],[0.3,\"#f1b6da\"],[0.4,\"#fde0ef\"],[0.5,\"#f7f7f7\"],[0.6,\"#e6f5d0\"],[0.7,\"#b8e186\"],[0.8,\"#7fbc41\"],[0.9,\"#4d9221\"],[1,\"#276419\"]],\"sequential\":[[0.0,\"#0d0887\"],[0.1111111111111111,\"#46039f\"],[0.2222222222222222,\"#7201a8\"],[0.3333333333333333,\"#9c179e\"],[0.4444444444444444,\"#bd3786\"],[0.5555555555555556,\"#d8576b\"],[0.6666666666666666,\"#ed7953\"],[0.7777777777777778,\"#fb9f3a\"],[0.8888888888888888,\"#fdca26\"],[1.0,\"#f0f921\"]],\"sequentialminus\":[[0.0,\"#0d0887\"],[0.1111111111111111,\"#46039f\"],[0.2222222222222222,\"#7201a8\"],[0.3333333333333333,\"#9c179e\"],[0.4444444444444444,\"#bd3786\"],[0.5555555555555556,\"#d8576b\"],[0.6666666666666666,\"#ed7953\"],[0.7777777777777778,\"#fb9f3a\"],[0.8888888888888888,\"#fdca26\"],[1.0,\"#f0f921\"]]},\"colorway\":[\"#636efa\",\"#EF553B\",\"#00cc96\",\"#ab63fa\",\"#FFA15A\",\"#19d3f3\",\"#FF6692\",\"#B6E880\",\"#FF97FF\",\"#FECB52\"],\"font\":{\"color\":\"#2a3f5f\"},\"geo\":{\"bgcolor\":\"white\",\"lakecolor\":\"white\",\"landcolor\":\"#E5ECF6\",\"showlakes\":true,\"showland\":true,\"subunitcolor\":\"white\"},\"hoverlabel\":{\"align\":\"left\"},\"hovermode\":\"closest\",\"mapbox\":{\"style\":\"light\"},\"paper_bgcolor\":\"white\",\"plot_bgcolor\":\"#E5ECF6\",\"polar\":{\"angularaxis\":{\"gridcolor\":\"white\",\"linecolor\":\"white\",\"ticks\":\"\"},\"bgcolor\":\"#E5ECF6\",\"radialaxis\":{\"gridcolor\":\"white\",\"linecolor\":\"white\",\"ticks\":\"\"}},\"scene\":{\"xaxis\":{\"backgroundcolor\":\"#E5ECF6\",\"gridcolor\":\"white\",\"gridwidth\":2,\"linecolor\":\"white\",\"showbackground\":true,\"ticks\":\"\",\"zerolinecolor\":\"white\"},\"yaxis\":{\"backgroundcolor\":\"#E5ECF6\",\"gridcolor\":\"white\",\"gridwidth\":2,\"linecolor\":\"white\",\"showbackground\":true,\"ticks\":\"\",\"zerolinecolor\":\"white\"},\"zaxis\":{\"backgroundcolor\":\"#E5ECF6\",\"gridcolor\":\"white\",\"gridwidth\":2,\"linecolor\":\"white\",\"showbackground\":true,\"ticks\":\"\",\"zerolinecolor\":\"white\"}},\"shapedefaults\":{\"line\":{\"color\":\"#2a3f5f\"}},\"ternary\":{\"aaxis\":{\"gridcolor\":\"white\",\"linecolor\":\"white\",\"ticks\":\"\"},\"baxis\":{\"gridcolor\":\"white\",\"linecolor\":\"white\",\"ticks\":\"\"},\"bgcolor\":\"#E5ECF6\",\"caxis\":{\"gridcolor\":\"white\",\"linecolor\":\"white\",\"ticks\":\"\"}},\"title\":{\"x\":0.05},\"xaxis\":{\"automargin\":true,\"gridcolor\":\"white\",\"linecolor\":\"white\",\"ticks\":\"\",\"title\":{\"standoff\":15},\"zerolinecolor\":\"white\",\"zerolinewidth\":2},\"yaxis\":{\"automargin\":true,\"gridcolor\":\"white\",\"linecolor\":\"white\",\"ticks\":\"\",\"title\":{\"standoff\":15},\"zerolinecolor\":\"white\",\"zerolinewidth\":2}}}},                        {\"responsive\": true}                    ).then(function(){\n",
       "                            \n",
       "var gd = document.getElementById('0523d34c-76a0-4e65-a897-ef77fa8cfeea');\n",
       "var x = new MutationObserver(function (mutations, observer) {{\n",
       "        var display = window.getComputedStyle(gd).display;\n",
       "        if (!display || display === 'none') {{\n",
       "            console.log([gd, 'removed!']);\n",
       "            Plotly.purge(gd);\n",
       "            observer.disconnect();\n",
       "        }}\n",
       "}});\n",
       "\n",
       "// Listen for the removal of the full notebook cells\n",
       "var notebookContainer = gd.closest('#notebook-container');\n",
       "if (notebookContainer) {{\n",
       "    x.observe(notebookContainer, {childList: true});\n",
       "}}\n",
       "\n",
       "// Listen for the clearing of the current output cell\n",
       "var outputEl = gd.closest('.output');\n",
       "if (outputEl) {{\n",
       "    x.observe(outputEl, {childList: true});\n",
       "}}\n",
       "\n",
       "                        })                };                });            </script>        </div>"
      ]
     },
     "metadata": {},
     "output_type": "display_data"
    }
   ],
   "source": [
    "# Create the first scatter trace\n",
    "trace1 = go.Scatter(\n",
    "    x=df_moving_avg_stock['date'],\n",
    "    y=df_moving_avg_stock['moving_avg_price'],\n",
    "    mode='lines',\n",
    "    name='Adj Close'\n",
    ")\n",
    "\n",
    "# Create the second scatter trace with a secondary y-axis\n",
    "trace2 = go.Scatter(\n",
    "    x=df_moving_avg_news['date'],\n",
    "    y=df_moving_avg_news['moving_avg_score'],\n",
    "    mode='lines',\n",
    "    name='Score',\n",
    "    yaxis='y2'\n",
    ")\n",
    "\n",
    "# Define the layout\n",
    "layout = go.Layout(\n",
    "    title='Adj Close and Score Comparison',\n",
    "    xaxis=dict(title='Date'),\n",
    "    yaxis=dict(title='Adj Close'),\n",
    "    yaxis2=dict(\n",
    "        title='Score',\n",
    "        overlaying='y',\n",
    "        side='right'\n",
    "    )\n",
    ")\n",
    "\n",
    "# Create the figure\n",
    "fig = go.Figure(data=[trace1, trace2], layout=layout)\n",
    "\n",
    "# Display the figure\n",
    "fig.show()\n"
   ]
  },
  {
   "cell_type": "code",
   "execution_count": 97,
   "metadata": {},
   "outputs": [
    {
     "name": "stdout",
     "output_type": "stream",
     "text": [
      "Pearson correlation coefficient: 0.03328894357259381\n",
      "Spearman correlation coefficient: 0.007616101541676827\n"
     ]
    }
   ],
   "source": [
    "# Calculate the Pearson correlation coefficient between sentiment scores and 'Adj Close'\n",
    "pearson_corr = df_metv['Adj Close'].corr(df_news['score'], method='pearson')\n",
    "\n",
    "# Calculate the Spearman correlation coefficient between sentiment scores and 'Adj Close'\n",
    "spearman_corr = df_metv['Adj Close'].corr(df_news['score'], method='spearman')\n",
    "\n",
    "print(\"Pearson correlation coefficient:\", pearson_corr)\n",
    "print(\"Spearman correlation coefficient:\", spearman_corr)\n"
   ]
  },
  {
   "cell_type": "markdown",
   "metadata": {},
   "source": [
    "weak negative correlation."
   ]
  },
  {
   "cell_type": "code",
   "execution_count": 105,
   "metadata": {},
   "outputs": [
    {
     "data": {
      "text/html": [
       "<div>\n",
       "<style scoped>\n",
       "    .dataframe tbody tr th:only-of-type {\n",
       "        vertical-align: middle;\n",
       "    }\n",
       "\n",
       "    .dataframe tbody tr th {\n",
       "        vertical-align: top;\n",
       "    }\n",
       "\n",
       "    .dataframe thead th {\n",
       "        text-align: right;\n",
       "    }\n",
       "</style>\n",
       "<table border=\"1\" class=\"dataframe\">\n",
       "  <thead>\n",
       "    <tr style=\"text-align: right;\">\n",
       "      <th></th>\n",
       "      <th>date</th>\n",
       "      <th>moving_avg_price</th>\n",
       "    </tr>\n",
       "  </thead>\n",
       "  <tbody>\n",
       "    <tr>\n",
       "      <th>0</th>\n",
       "      <td>2023-05-10</td>\n",
       "      <td>9.127500</td>\n",
       "    </tr>\n",
       "    <tr>\n",
       "      <th>1</th>\n",
       "      <td>2023-05-11</td>\n",
       "      <td>9.143714</td>\n",
       "    </tr>\n",
       "    <tr>\n",
       "      <th>2</th>\n",
       "      <td>2023-05-12</td>\n",
       "      <td>9.033257</td>\n",
       "    </tr>\n",
       "    <tr>\n",
       "      <th>3</th>\n",
       "      <td>2023-05-15</td>\n",
       "      <td>9.165000</td>\n",
       "    </tr>\n",
       "    <tr>\n",
       "      <th>4</th>\n",
       "      <td>2023-05-16</td>\n",
       "      <td>9.175957</td>\n",
       "    </tr>\n",
       "  </tbody>\n",
       "</table>\n",
       "</div>"
      ],
      "text/plain": [
       "         date  moving_avg_price\n",
       "0  2023-05-10          9.127500\n",
       "1  2023-05-11          9.143714\n",
       "2  2023-05-12          9.033257\n",
       "3  2023-05-15          9.165000\n",
       "4  2023-05-16          9.175957"
      ]
     },
     "execution_count": 105,
     "metadata": {},
     "output_type": "execute_result"
    }
   ],
   "source": [
    "df_moving_avg_stock.head()"
   ]
  },
  {
   "cell_type": "code",
   "execution_count": 106,
   "metadata": {},
   "outputs": [
    {
     "data": {
      "text/html": [
       "<div>\n",
       "<style scoped>\n",
       "    .dataframe tbody tr th:only-of-type {\n",
       "        vertical-align: middle;\n",
       "    }\n",
       "\n",
       "    .dataframe tbody tr th {\n",
       "        vertical-align: top;\n",
       "    }\n",
       "\n",
       "    .dataframe thead th {\n",
       "        text-align: right;\n",
       "    }\n",
       "</style>\n",
       "<table border=\"1\" class=\"dataframe\">\n",
       "  <thead>\n",
       "    <tr style=\"text-align: right;\">\n",
       "      <th></th>\n",
       "      <th>date</th>\n",
       "      <th>moving_avg_score</th>\n",
       "    </tr>\n",
       "  </thead>\n",
       "  <tbody>\n",
       "    <tr>\n",
       "      <th>0</th>\n",
       "      <td>2023-05-11</td>\n",
       "      <td>0.024302</td>\n",
       "    </tr>\n",
       "    <tr>\n",
       "      <th>1</th>\n",
       "      <td>2023-05-12</td>\n",
       "      <td>0.172416</td>\n",
       "    </tr>\n",
       "    <tr>\n",
       "      <th>2</th>\n",
       "      <td>2023-05-13</td>\n",
       "      <td>-0.117903</td>\n",
       "    </tr>\n",
       "    <tr>\n",
       "      <th>3</th>\n",
       "      <td>2023-05-14</td>\n",
       "      <td>0.103021</td>\n",
       "    </tr>\n",
       "    <tr>\n",
       "      <th>4</th>\n",
       "      <td>2023-05-15</td>\n",
       "      <td>-0.047642</td>\n",
       "    </tr>\n",
       "  </tbody>\n",
       "</table>\n",
       "</div>"
      ],
      "text/plain": [
       "        date  moving_avg_score\n",
       "0 2023-05-11          0.024302\n",
       "1 2023-05-12          0.172416\n",
       "2 2023-05-13         -0.117903\n",
       "3 2023-05-14          0.103021\n",
       "4 2023-05-15         -0.047642"
      ]
     },
     "execution_count": 106,
     "metadata": {},
     "output_type": "execute_result"
    }
   ],
   "source": [
    "df_moving_avg_news.head()"
   ]
  },
  {
   "cell_type": "code",
   "execution_count": 107,
   "metadata": {},
   "outputs": [
    {
     "data": {
      "text/plain": [
       "'C:\\\\Users\\\\HP\\\\Desktop\\\\big_data_project\\\\data\\\\raw\\\\news.json'"
      ]
     },
     "execution_count": 107,
     "metadata": {},
     "output_type": "execute_result"
    }
   ],
   "source": [
    "news_path"
   ]
  },
  {
   "cell_type": "code",
   "execution_count": 109,
   "metadata": {},
   "outputs": [
    {
     "data": {
      "text/plain": [
       "'C:\\\\Users\\\\HP\\\\Desktop\\\\big_data_project'"
      ]
     },
     "execution_count": 109,
     "metadata": {},
     "output_type": "execute_result"
    }
   ],
   "source": [
    "parent_dir "
   ]
  },
  {
   "cell_type": "code",
   "execution_count": 110,
   "metadata": {},
   "outputs": [],
   "source": [
    "processed_data_path = os.path.join(parent_dir, \"data\", \"processed\")\n",
    "\n",
    "# Define the output file paths\n",
    "news_output_path = os.path.join(processed_data_path, \"processed_news_data.csv\")\n",
    "stock_output_path = os.path.join(processed_data_path, \"processed_stock_data.csv\")\n",
    "\n",
    "# Save the dataframes as CSV files\n",
    "df_moving_avg_news.to_csv(news_output_path, index=False)\n",
    "df_moving_avg_stock.to_csv(stock_output_path, index=False)\n"
   ]
  },
  {
   "cell_type": "code",
   "execution_count": null,
   "metadata": {},
   "outputs": [],
   "source": []
  }
 ],
 "metadata": {
  "kernelspec": {
   "display_name": "Python 3 (ipykernel)",
   "language": "python",
   "name": "python3"
  },
  "language_info": {
   "codemirror_mode": {
    "name": "ipython",
    "version": 3
   },
   "file_extension": ".py",
   "mimetype": "text/x-python",
   "name": "python",
   "nbconvert_exporter": "python",
   "pygments_lexer": "ipython3",
   "version": "3.9.12"
  }
 },
 "nbformat": 4,
 "nbformat_minor": 2
}
